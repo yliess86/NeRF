{
 "cells": [
  {
   "cell_type": "markdown",
   "metadata": {},
   "source": [
    "# NeRF: Neural Radiance Field"
   ]
  },
  {
   "cell_type": "markdown",
   "metadata": {},
   "source": [
    "## Imports"
   ]
  },
  {
   "cell_type": "code",
   "execution_count": 1,
   "metadata": {},
   "outputs": [],
   "source": [
    "import matplotlib.pyplot as plt\n",
    "import numpy as np\n",
    "\n",
    "from ipynb.config import InferConfig, TrainConfig\n",
    "from ipynb.infer import Inferer\n",
    "from ipynb.train import Trainer\n",
    "\n",
    "%matplotlib inline"
   ]
  },
  {
   "cell_type": "markdown",
   "metadata": {},
   "source": [
    "## Train"
   ]
  },
  {
   "cell_type": "code",
   "execution_count": 2,
   "metadata": {
    "scrolled": false
   },
   "outputs": [
    {
     "data": {
      "application/vnd.jupyter.widget-view+json": {
       "model_id": "9d187d1994db4bd787124545bbccd793",
       "version_major": 2,
       "version_minor": 0
      },
      "text/plain": [
       "VBox(children=(Tab(children=(GridspecLayout(children=(Dropdown(description='Scene', index=3, layout=Layout(gri…"
      ]
     },
     "metadata": {},
     "output_type": "display_data"
    },
    {
     "data": {
      "application/vnd.jupyter.widget-view+json": {
       "model_id": "68cc1c587795467c8f6c525eb24886f6",
       "version_major": 2,
       "version_minor": 0
      },
      "text/plain": [
       "[BlenderDataset(hotdog, train)] Loading Data:   0%|          | 0/100 [00:00<?, ?it/s]"
      ]
     },
     "metadata": {},
     "output_type": "display_data"
    },
    {
     "data": {
      "application/vnd.jupyter.widget-view+json": {
       "model_id": "b6a864c2bc0f41799221dca768b0351d",
       "version_major": 2,
       "version_minor": 0
      },
      "text/plain": [
       "[BlenderDataset(hotdog, train)] Building Rays:   0%|          | 0/100 [00:00<?, ?it/s]"
      ]
     },
     "metadata": {},
     "output_type": "display_data"
    },
    {
     "name": "stdout",
     "output_type": "stream",
     "text": [
      "[Setup] Dataset Ready\n",
      "[Setup] Model Ready\n",
      "[Setup] Raymarcher Ready\n",
      "[Setup] Optimizer Ready\n",
      "[Train] Fitting\n"
     ]
    },
    {
     "data": {
      "application/vnd.jupyter.widget-view+json": {
       "model_id": "697c5b91a2ee4e18bfe746458f49f799",
       "version_major": 2,
       "version_minor": 0
      },
      "text/plain": [
       "[NeRF] Epoch:   0%|          | 0/100 [00:00<?, ?it/s]"
      ]
     },
     "metadata": {},
     "output_type": "display_data"
    },
    {
     "data": {
      "application/vnd.jupyter.widget-view+json": {
       "model_id": "bb7be17f5f924c99ab79438d8ed0fe82",
       "version_major": 2,
       "version_minor": 0
      },
      "text/plain": [
       "[NeRF] Train:   0%|          | 0/3907 [00:00<?, ?it/s]"
      ]
     },
     "metadata": {},
     "output_type": "display_data"
    },
    {
     "data": {
      "application/vnd.jupyter.widget-view+json": {
       "model_id": "8dc11866bc7846d3a7768996ee1d69c2",
       "version_major": 2,
       "version_minor": 0
      },
      "text/plain": [
       "[NeRF] Rendering:   0%|          | 0/40 [00:00<?, ?it/s]"
      ]
     },
     "metadata": {},
     "output_type": "display_data"
    },
    {
     "data": {
      "application/vnd.jupyter.widget-view+json": {
       "model_id": "d9718052abda433f9334c94d49bf0e42",
       "version_major": 2,
       "version_minor": 0
      },
      "text/plain": [
       "[NeRF] Train:   0%|          | 0/3907 [00:00<?, ?it/s]"
      ]
     },
     "metadata": {},
     "output_type": "display_data"
    },
    {
     "data": {
      "application/vnd.jupyter.widget-view+json": {
       "model_id": "77fca1c137c1491fae1bc137b0191811",
       "version_major": 2,
       "version_minor": 0
      },
      "text/plain": [
       "[NeRF] Train:   0%|          | 0/3907 [00:00<?, ?it/s]"
      ]
     },
     "metadata": {},
     "output_type": "display_data"
    },
    {
     "data": {
      "application/vnd.jupyter.widget-view+json": {
       "model_id": "b92e169d735f4a3dad48d33f0e7fae86",
       "version_major": 2,
       "version_minor": 0
      },
      "text/plain": [
       "[NeRF] Train:   0%|          | 0/3907 [00:00<?, ?it/s]"
      ]
     },
     "metadata": {},
     "output_type": "display_data"
    },
    {
     "data": {
      "application/vnd.jupyter.widget-view+json": {
       "model_id": "bdb89ca8e6014af7842858b6228a0c5d",
       "version_major": 2,
       "version_minor": 0
      },
      "text/plain": [
       "[NeRF] Train:   0%|          | 0/3907 [00:00<?, ?it/s]"
      ]
     },
     "metadata": {},
     "output_type": "display_data"
    },
    {
     "data": {
      "application/vnd.jupyter.widget-view+json": {
       "model_id": "ac9c61f1f9bd42cebd0c9469015114fe",
       "version_major": 2,
       "version_minor": 0
      },
      "text/plain": [
       "[NeRF] Rendering:   0%|          | 0/40 [00:00<?, ?it/s]"
      ]
     },
     "metadata": {},
     "output_type": "display_data"
    },
    {
     "data": {
      "application/vnd.jupyter.widget-view+json": {
       "model_id": "25c9a9119e5645d3bf25f7a705acd401",
       "version_major": 2,
       "version_minor": 0
      },
      "text/plain": [
       "[NeRF] Train:   0%|          | 0/3907 [00:00<?, ?it/s]"
      ]
     },
     "metadata": {},
     "output_type": "display_data"
    },
    {
     "data": {
      "application/vnd.jupyter.widget-view+json": {
       "model_id": "ffe734f915234390a516195e18362d5d",
       "version_major": 2,
       "version_minor": 0
      },
      "text/plain": [
       "[NeRF] Train:   0%|          | 0/3907 [00:00<?, ?it/s]"
      ]
     },
     "metadata": {},
     "output_type": "display_data"
    },
    {
     "data": {
      "application/vnd.jupyter.widget-view+json": {
       "model_id": "8eb34ad683144bd68c448a944613bdf7",
       "version_major": 2,
       "version_minor": 0
      },
      "text/plain": [
       "[NeRF] Train:   0%|          | 0/3907 [00:00<?, ?it/s]"
      ]
     },
     "metadata": {},
     "output_type": "display_data"
    },
    {
     "data": {
      "application/vnd.jupyter.widget-view+json": {
       "model_id": "06d6c39ecb5448d7ad9da2510c53bd11",
       "version_major": 2,
       "version_minor": 0
      },
      "text/plain": [
       "[NeRF] Train:   0%|          | 0/3907 [00:00<?, ?it/s]"
      ]
     },
     "metadata": {},
     "output_type": "display_data"
    },
    {
     "data": {
      "application/vnd.jupyter.widget-view+json": {
       "model_id": "4018c504c0f74ab8a2443b4b5bc20ada",
       "version_major": 2,
       "version_minor": 0
      },
      "text/plain": [
       "[NeRF] Rendering:   0%|          | 0/40 [00:00<?, ?it/s]"
      ]
     },
     "metadata": {},
     "output_type": "display_data"
    },
    {
     "data": {
      "application/vnd.jupyter.widget-view+json": {
       "model_id": "0611fca855564962b36f0fa2356abfab",
       "version_major": 2,
       "version_minor": 0
      },
      "text/plain": [
       "[NeRF] Train:   0%|          | 0/3907 [00:00<?, ?it/s]"
      ]
     },
     "metadata": {},
     "output_type": "display_data"
    },
    {
     "data": {
      "application/vnd.jupyter.widget-view+json": {
       "model_id": "881fccdea8d44e908fb04cb1ce60f470",
       "version_major": 2,
       "version_minor": 0
      },
      "text/plain": [
       "[NeRF] Train:   0%|          | 0/3907 [00:00<?, ?it/s]"
      ]
     },
     "metadata": {},
     "output_type": "display_data"
    },
    {
     "data": {
      "application/vnd.jupyter.widget-view+json": {
       "model_id": "101610d12e4247a6ba4d4066e1c0fb89",
       "version_major": 2,
       "version_minor": 0
      },
      "text/plain": [
       "[NeRF] Train:   0%|          | 0/3907 [00:00<?, ?it/s]"
      ]
     },
     "metadata": {},
     "output_type": "display_data"
    },
    {
     "data": {
      "application/vnd.jupyter.widget-view+json": {
       "model_id": "e3863fc327ee4619aae289eab691a1c9",
       "version_major": 2,
       "version_minor": 0
      },
      "text/plain": [
       "[NeRF] Train:   0%|          | 0/3907 [00:00<?, ?it/s]"
      ]
     },
     "metadata": {},
     "output_type": "display_data"
    },
    {
     "data": {
      "application/vnd.jupyter.widget-view+json": {
       "model_id": "d46376d8567046689a9e841c199a41b3",
       "version_major": 2,
       "version_minor": 0
      },
      "text/plain": [
       "[NeRF] Rendering:   0%|          | 0/40 [00:00<?, ?it/s]"
      ]
     },
     "metadata": {},
     "output_type": "display_data"
    },
    {
     "data": {
      "application/vnd.jupyter.widget-view+json": {
       "model_id": "ebb8caa3a4f74b6889bc9d70b7157951",
       "version_major": 2,
       "version_minor": 0
      },
      "text/plain": [
       "[NeRF] Train:   0%|          | 0/3907 [00:00<?, ?it/s]"
      ]
     },
     "metadata": {},
     "output_type": "display_data"
    },
    {
     "data": {
      "application/vnd.jupyter.widget-view+json": {
       "model_id": "fb97b5a486b5416295cb1db82dabdc92",
       "version_major": 2,
       "version_minor": 0
      },
      "text/plain": [
       "[NeRF] Train:   0%|          | 0/3907 [00:00<?, ?it/s]"
      ]
     },
     "metadata": {},
     "output_type": "display_data"
    },
    {
     "data": {
      "application/vnd.jupyter.widget-view+json": {
       "model_id": "a6e5b796e4d94bbc959fb1fc6e05e8b2",
       "version_major": 2,
       "version_minor": 0
      },
      "text/plain": [
       "[NeRF] Train:   0%|          | 0/3907 [00:00<?, ?it/s]"
      ]
     },
     "metadata": {},
     "output_type": "display_data"
    },
    {
     "data": {
      "application/vnd.jupyter.widget-view+json": {
       "model_id": "d6a9bb99e8df4bd8b3c5f6d25f73d78e",
       "version_major": 2,
       "version_minor": 0
      },
      "text/plain": [
       "[NeRF] Train:   0%|          | 0/3907 [00:00<?, ?it/s]"
      ]
     },
     "metadata": {},
     "output_type": "display_data"
    },
    {
     "data": {
      "application/vnd.jupyter.widget-view+json": {
       "model_id": "f0afe64f7179428e943a9038a7d633a0",
       "version_major": 2,
       "version_minor": 0
      },
      "text/plain": [
       "[NeRF] Rendering:   0%|          | 0/40 [00:00<?, ?it/s]"
      ]
     },
     "metadata": {},
     "output_type": "display_data"
    },
    {
     "data": {
      "application/vnd.jupyter.widget-view+json": {
       "model_id": "b694ba93b28f405183b502c495ffd2b3",
       "version_major": 2,
       "version_minor": 0
      },
      "text/plain": [
       "[NeRF] Train:   0%|          | 0/3907 [00:00<?, ?it/s]"
      ]
     },
     "metadata": {},
     "output_type": "display_data"
    },
    {
     "data": {
      "application/vnd.jupyter.widget-view+json": {
       "model_id": "e09c43e356d74215ad776d74126af030",
       "version_major": 2,
       "version_minor": 0
      },
      "text/plain": [
       "[NeRF] Train:   0%|          | 0/3907 [00:00<?, ?it/s]"
      ]
     },
     "metadata": {},
     "output_type": "display_data"
    },
    {
     "data": {
      "application/vnd.jupyter.widget-view+json": {
       "model_id": "507cb00a7e404edcba81dd9b874bbe2a",
       "version_major": 2,
       "version_minor": 0
      },
      "text/plain": [
       "[NeRF] Train:   0%|          | 0/3907 [00:00<?, ?it/s]"
      ]
     },
     "metadata": {},
     "output_type": "display_data"
    },
    {
     "data": {
      "application/vnd.jupyter.widget-view+json": {
       "model_id": "05aa85c480cc4a87b6b80ba40f79dd1f",
       "version_major": 2,
       "version_minor": 0
      },
      "text/plain": [
       "[NeRF] Train:   0%|          | 0/3907 [00:00<?, ?it/s]"
      ]
     },
     "metadata": {},
     "output_type": "display_data"
    },
    {
     "data": {
      "application/vnd.jupyter.widget-view+json": {
       "model_id": "328f68719b6e469a91145978ad8b5287",
       "version_major": 2,
       "version_minor": 0
      },
      "text/plain": [
       "[NeRF] Rendering:   0%|          | 0/40 [00:00<?, ?it/s]"
      ]
     },
     "metadata": {},
     "output_type": "display_data"
    },
    {
     "data": {
      "application/vnd.jupyter.widget-view+json": {
       "model_id": "6dcf9df50fda4b149b77050f6ad90eba",
       "version_major": 2,
       "version_minor": 0
      },
      "text/plain": [
       "[NeRF] Train:   0%|          | 0/3907 [00:00<?, ?it/s]"
      ]
     },
     "metadata": {},
     "output_type": "display_data"
    },
    {
     "data": {
      "application/vnd.jupyter.widget-view+json": {
       "model_id": "dd68ecd0c7e84bf38fa16121a5ad5f10",
       "version_major": 2,
       "version_minor": 0
      },
      "text/plain": [
       "[NeRF] Train:   0%|          | 0/3907 [00:00<?, ?it/s]"
      ]
     },
     "metadata": {},
     "output_type": "display_data"
    },
    {
     "data": {
      "application/vnd.jupyter.widget-view+json": {
       "model_id": "2e03fefce175495e84f145755bad5b96",
       "version_major": 2,
       "version_minor": 0
      },
      "text/plain": [
       "[NeRF] Train:   0%|          | 0/3907 [00:00<?, ?it/s]"
      ]
     },
     "metadata": {},
     "output_type": "display_data"
    },
    {
     "data": {
      "application/vnd.jupyter.widget-view+json": {
       "model_id": "518cdef478c644c18a35f5835648aad6",
       "version_major": 2,
       "version_minor": 0
      },
      "text/plain": [
       "[NeRF] Train:   0%|          | 0/3907 [00:00<?, ?it/s]"
      ]
     },
     "metadata": {},
     "output_type": "display_data"
    },
    {
     "data": {
      "application/vnd.jupyter.widget-view+json": {
       "model_id": "9fc7b8556efd423c9c0c2d36e54d0481",
       "version_major": 2,
       "version_minor": 0
      },
      "text/plain": [
       "[NeRF] Rendering:   0%|          | 0/40 [00:00<?, ?it/s]"
      ]
     },
     "metadata": {},
     "output_type": "display_data"
    },
    {
     "data": {
      "application/vnd.jupyter.widget-view+json": {
       "model_id": "73d87f79738749519c2609025a93ad78",
       "version_major": 2,
       "version_minor": 0
      },
      "text/plain": [
       "[NeRF] Train:   0%|          | 0/3907 [00:00<?, ?it/s]"
      ]
     },
     "metadata": {},
     "output_type": "display_data"
    },
    {
     "data": {
      "application/vnd.jupyter.widget-view+json": {
       "model_id": "4d839327f34e48e4b3805b040268bb7e",
       "version_major": 2,
       "version_minor": 0
      },
      "text/plain": [
       "[NeRF] Train:   0%|          | 0/3907 [00:00<?, ?it/s]"
      ]
     },
     "metadata": {},
     "output_type": "display_data"
    },
    {
     "data": {
      "application/vnd.jupyter.widget-view+json": {
       "model_id": "d7930ae9d6584d189dcdb2f792005f57",
       "version_major": 2,
       "version_minor": 0
      },
      "text/plain": [
       "[NeRF] Train:   0%|          | 0/3907 [00:00<?, ?it/s]"
      ]
     },
     "metadata": {},
     "output_type": "display_data"
    },
    {
     "data": {
      "application/vnd.jupyter.widget-view+json": {
       "model_id": "22df660abd354b9eb5cffd0ebb197605",
       "version_major": 2,
       "version_minor": 0
      },
      "text/plain": [
       "[NeRF] Train:   0%|          | 0/3907 [00:00<?, ?it/s]"
      ]
     },
     "metadata": {},
     "output_type": "display_data"
    },
    {
     "data": {
      "application/vnd.jupyter.widget-view+json": {
       "model_id": "0e4815e80c134ef09108de9a94aec9fb",
       "version_major": 2,
       "version_minor": 0
      },
      "text/plain": [
       "[NeRF] Rendering:   0%|          | 0/40 [00:00<?, ?it/s]"
      ]
     },
     "metadata": {},
     "output_type": "display_data"
    },
    {
     "data": {
      "application/vnd.jupyter.widget-view+json": {
       "model_id": "b6fd9061d4c0457b8029a26ec9cebc62",
       "version_major": 2,
       "version_minor": 0
      },
      "text/plain": [
       "[NeRF] Train:   0%|          | 0/3907 [00:00<?, ?it/s]"
      ]
     },
     "metadata": {},
     "output_type": "display_data"
    },
    {
     "data": {
      "application/vnd.jupyter.widget-view+json": {
       "model_id": "88f99af14c3f4926b6dcc6c667b6c8cb",
       "version_major": 2,
       "version_minor": 0
      },
      "text/plain": [
       "[NeRF] Train:   0%|          | 0/3907 [00:00<?, ?it/s]"
      ]
     },
     "metadata": {},
     "output_type": "display_data"
    },
    {
     "data": {
      "application/vnd.jupyter.widget-view+json": {
       "model_id": "c484e07e826541d08f71a65fd90a2b95",
       "version_major": 2,
       "version_minor": 0
      },
      "text/plain": [
       "[NeRF] Train:   0%|          | 0/3907 [00:00<?, ?it/s]"
      ]
     },
     "metadata": {},
     "output_type": "display_data"
    },
    {
     "data": {
      "application/vnd.jupyter.widget-view+json": {
       "model_id": "b3a056a40a2b408a9bc1d80547f52f58",
       "version_major": 2,
       "version_minor": 0
      },
      "text/plain": [
       "[NeRF] Train:   0%|          | 0/3907 [00:00<?, ?it/s]"
      ]
     },
     "metadata": {},
     "output_type": "display_data"
    },
    {
     "data": {
      "application/vnd.jupyter.widget-view+json": {
       "model_id": "63aa8039b3894bcdbe64039e5c0ec047",
       "version_major": 2,
       "version_minor": 0
      },
      "text/plain": [
       "[NeRF] Rendering:   0%|          | 0/40 [00:00<?, ?it/s]"
      ]
     },
     "metadata": {},
     "output_type": "display_data"
    },
    {
     "data": {
      "application/vnd.jupyter.widget-view+json": {
       "model_id": "3b087fd4657943a5843f74578dedd483",
       "version_major": 2,
       "version_minor": 0
      },
      "text/plain": [
       "[NeRF] Train:   0%|          | 0/3907 [00:00<?, ?it/s]"
      ]
     },
     "metadata": {},
     "output_type": "display_data"
    },
    {
     "data": {
      "application/vnd.jupyter.widget-view+json": {
       "model_id": "c3e2f5154ad845db99d5c53e0b6ec986",
       "version_major": 2,
       "version_minor": 0
      },
      "text/plain": [
       "[NeRF] Train:   0%|          | 0/3907 [00:00<?, ?it/s]"
      ]
     },
     "metadata": {},
     "output_type": "display_data"
    },
    {
     "data": {
      "application/vnd.jupyter.widget-view+json": {
       "model_id": "80018c6d32b948a4a936f6b0855bcd62",
       "version_major": 2,
       "version_minor": 0
      },
      "text/plain": [
       "[NeRF] Train:   0%|          | 0/3907 [00:00<?, ?it/s]"
      ]
     },
     "metadata": {},
     "output_type": "display_data"
    },
    {
     "data": {
      "application/vnd.jupyter.widget-view+json": {
       "model_id": "f3df72aa1c3f421ab6f761a9eb4ab13c",
       "version_major": 2,
       "version_minor": 0
      },
      "text/plain": [
       "[NeRF] Train:   0%|          | 0/3907 [00:00<?, ?it/s]"
      ]
     },
     "metadata": {},
     "output_type": "display_data"
    },
    {
     "data": {
      "application/vnd.jupyter.widget-view+json": {
       "model_id": "26ffb50761cc4455924aa0ae0f981910",
       "version_major": 2,
       "version_minor": 0
      },
      "text/plain": [
       "[NeRF] Rendering:   0%|          | 0/40 [00:00<?, ?it/s]"
      ]
     },
     "metadata": {},
     "output_type": "display_data"
    },
    {
     "data": {
      "application/vnd.jupyter.widget-view+json": {
       "model_id": "3fc3a2230df342a886d17386466731a4",
       "version_major": 2,
       "version_minor": 0
      },
      "text/plain": [
       "[NeRF] Train:   0%|          | 0/3907 [00:00<?, ?it/s]"
      ]
     },
     "metadata": {},
     "output_type": "display_data"
    },
    {
     "data": {
      "application/vnd.jupyter.widget-view+json": {
       "model_id": "0b2364944098405eac3c284216774a28",
       "version_major": 2,
       "version_minor": 0
      },
      "text/plain": [
       "[NeRF] Train:   0%|          | 0/3907 [00:00<?, ?it/s]"
      ]
     },
     "metadata": {},
     "output_type": "display_data"
    },
    {
     "data": {
      "application/vnd.jupyter.widget-view+json": {
       "model_id": "0b6fb86f6db446e3bb8d6c207ae2bd69",
       "version_major": 2,
       "version_minor": 0
      },
      "text/plain": [
       "[NeRF] Train:   0%|          | 0/3907 [00:00<?, ?it/s]"
      ]
     },
     "metadata": {},
     "output_type": "display_data"
    },
    {
     "data": {
      "application/vnd.jupyter.widget-view+json": {
       "model_id": "14725ebd160f4fdcb395da53884a11d5",
       "version_major": 2,
       "version_minor": 0
      },
      "text/plain": [
       "[NeRF] Train:   0%|          | 0/3907 [00:00<?, ?it/s]"
      ]
     },
     "metadata": {},
     "output_type": "display_data"
    },
    {
     "data": {
      "application/vnd.jupyter.widget-view+json": {
       "model_id": "a7f6979c0b884994a91b16429725f1b5",
       "version_major": 2,
       "version_minor": 0
      },
      "text/plain": [
       "[NeRF] Rendering:   0%|          | 0/40 [00:00<?, ?it/s]"
      ]
     },
     "metadata": {},
     "output_type": "display_data"
    },
    {
     "data": {
      "application/vnd.jupyter.widget-view+json": {
       "model_id": "539e5fd2bfbd4cf7b911fbf63f29a78f",
       "version_major": 2,
       "version_minor": 0
      },
      "text/plain": [
       "[NeRF] Train:   0%|          | 0/3907 [00:00<?, ?it/s]"
      ]
     },
     "metadata": {},
     "output_type": "display_data"
    },
    {
     "data": {
      "application/vnd.jupyter.widget-view+json": {
       "model_id": "f1d17dbe36434cc996679db22a224463",
       "version_major": 2,
       "version_minor": 0
      },
      "text/plain": [
       "[NeRF] Train:   0%|          | 0/3907 [00:00<?, ?it/s]"
      ]
     },
     "metadata": {},
     "output_type": "display_data"
    },
    {
     "data": {
      "application/vnd.jupyter.widget-view+json": {
       "model_id": "419087e0aa194bb5917c7e16a3cd8c01",
       "version_major": 2,
       "version_minor": 0
      },
      "text/plain": [
       "[NeRF] Train:   0%|          | 0/3907 [00:00<?, ?it/s]"
      ]
     },
     "metadata": {},
     "output_type": "display_data"
    },
    {
     "data": {
      "application/vnd.jupyter.widget-view+json": {
       "model_id": "964522c915ad4d4eb324d41a3eaafb3c",
       "version_major": 2,
       "version_minor": 0
      },
      "text/plain": [
       "[NeRF] Train:   0%|          | 0/3907 [00:00<?, ?it/s]"
      ]
     },
     "metadata": {},
     "output_type": "display_data"
    },
    {
     "data": {
      "application/vnd.jupyter.widget-view+json": {
       "model_id": "38c1bea7983d429b9e3ef466770c5e69",
       "version_major": 2,
       "version_minor": 0
      },
      "text/plain": [
       "[NeRF] Rendering:   0%|          | 0/40 [00:00<?, ?it/s]"
      ]
     },
     "metadata": {},
     "output_type": "display_data"
    },
    {
     "data": {
      "application/vnd.jupyter.widget-view+json": {
       "model_id": "2143f6d1f14f4f82884adc857f3a25f7",
       "version_major": 2,
       "version_minor": 0
      },
      "text/plain": [
       "[NeRF] Train:   0%|          | 0/3907 [00:00<?, ?it/s]"
      ]
     },
     "metadata": {},
     "output_type": "display_data"
    },
    {
     "data": {
      "application/vnd.jupyter.widget-view+json": {
       "model_id": "6194933a9ae94487bcc7f34aa7342349",
       "version_major": 2,
       "version_minor": 0
      },
      "text/plain": [
       "[NeRF] Train:   0%|          | 0/3907 [00:00<?, ?it/s]"
      ]
     },
     "metadata": {},
     "output_type": "display_data"
    },
    {
     "data": {
      "application/vnd.jupyter.widget-view+json": {
       "model_id": "2a7fbaedcfe549c39a97862b93199e7d",
       "version_major": 2,
       "version_minor": 0
      },
      "text/plain": [
       "[NeRF] Train:   0%|          | 0/3907 [00:00<?, ?it/s]"
      ]
     },
     "metadata": {},
     "output_type": "display_data"
    },
    {
     "data": {
      "application/vnd.jupyter.widget-view+json": {
       "model_id": "904326bee93942439c581d6903b47795",
       "version_major": 2,
       "version_minor": 0
      },
      "text/plain": [
       "[NeRF] Train:   0%|          | 0/3907 [00:00<?, ?it/s]"
      ]
     },
     "metadata": {},
     "output_type": "display_data"
    },
    {
     "data": {
      "application/vnd.jupyter.widget-view+json": {
       "model_id": "68e375d8d95140dfaa1d0e2ae0fa5d1d",
       "version_major": 2,
       "version_minor": 0
      },
      "text/plain": [
       "[NeRF] Rendering:   0%|          | 0/40 [00:00<?, ?it/s]"
      ]
     },
     "metadata": {},
     "output_type": "display_data"
    },
    {
     "data": {
      "application/vnd.jupyter.widget-view+json": {
       "model_id": "02880fc5b1c741c298f7f93d2fcb4675",
       "version_major": 2,
       "version_minor": 0
      },
      "text/plain": [
       "[NeRF] Train:   0%|          | 0/3907 [00:00<?, ?it/s]"
      ]
     },
     "metadata": {},
     "output_type": "display_data"
    },
    {
     "data": {
      "application/vnd.jupyter.widget-view+json": {
       "model_id": "121c216d53f84bf2a9fc06fac70fcf8d",
       "version_major": 2,
       "version_minor": 0
      },
      "text/plain": [
       "[NeRF] Train:   0%|          | 0/3907 [00:00<?, ?it/s]"
      ]
     },
     "metadata": {},
     "output_type": "display_data"
    },
    {
     "data": {
      "application/vnd.jupyter.widget-view+json": {
       "model_id": "5babf2d93f204f02b46b6636aadc2699",
       "version_major": 2,
       "version_minor": 0
      },
      "text/plain": [
       "[NeRF] Train:   0%|          | 0/3907 [00:00<?, ?it/s]"
      ]
     },
     "metadata": {},
     "output_type": "display_data"
    },
    {
     "data": {
      "application/vnd.jupyter.widget-view+json": {
       "model_id": "7a26f830b57f4092bc46f057ec7b4b0c",
       "version_major": 2,
       "version_minor": 0
      },
      "text/plain": [
       "[NeRF] Train:   0%|          | 0/3907 [00:00<?, ?it/s]"
      ]
     },
     "metadata": {},
     "output_type": "display_data"
    },
    {
     "data": {
      "application/vnd.jupyter.widget-view+json": {
       "model_id": "3824b38aad8142d9980b055947d33912",
       "version_major": 2,
       "version_minor": 0
      },
      "text/plain": [
       "[NeRF] Rendering:   0%|          | 0/40 [00:00<?, ?it/s]"
      ]
     },
     "metadata": {},
     "output_type": "display_data"
    },
    {
     "data": {
      "application/vnd.jupyter.widget-view+json": {
       "model_id": "3a02e9bcabcb417f91baced4f0ae7028",
       "version_major": 2,
       "version_minor": 0
      },
      "text/plain": [
       "[NeRF] Train:   0%|          | 0/3907 [00:00<?, ?it/s]"
      ]
     },
     "metadata": {},
     "output_type": "display_data"
    },
    {
     "data": {
      "application/vnd.jupyter.widget-view+json": {
       "model_id": "38164785ffe64b2da94023256e2561b4",
       "version_major": 2,
       "version_minor": 0
      },
      "text/plain": [
       "[NeRF] Train:   0%|          | 0/3907 [00:00<?, ?it/s]"
      ]
     },
     "metadata": {},
     "output_type": "display_data"
    },
    {
     "data": {
      "application/vnd.jupyter.widget-view+json": {
       "model_id": "2a8a007967934a088f765050ce378d1f",
       "version_major": 2,
       "version_minor": 0
      },
      "text/plain": [
       "[NeRF] Train:   0%|          | 0/3907 [00:00<?, ?it/s]"
      ]
     },
     "metadata": {},
     "output_type": "display_data"
    },
    {
     "data": {
      "application/vnd.jupyter.widget-view+json": {
       "model_id": "c629d799af7b42779f345da4d6de70d9",
       "version_major": 2,
       "version_minor": 0
      },
      "text/plain": [
       "[NeRF] Train:   0%|          | 0/3907 [00:00<?, ?it/s]"
      ]
     },
     "metadata": {},
     "output_type": "display_data"
    },
    {
     "data": {
      "application/vnd.jupyter.widget-view+json": {
       "model_id": "2d074e92001d404f94a5a45d406b4c73",
       "version_major": 2,
       "version_minor": 0
      },
      "text/plain": [
       "[NeRF] Rendering:   0%|          | 0/40 [00:00<?, ?it/s]"
      ]
     },
     "metadata": {},
     "output_type": "display_data"
    },
    {
     "data": {
      "application/vnd.jupyter.widget-view+json": {
       "model_id": "95e5a5ddbc6b46ff885738d3af352393",
       "version_major": 2,
       "version_minor": 0
      },
      "text/plain": [
       "[NeRF] Train:   0%|          | 0/3907 [00:00<?, ?it/s]"
      ]
     },
     "metadata": {},
     "output_type": "display_data"
    },
    {
     "data": {
      "application/vnd.jupyter.widget-view+json": {
       "model_id": "cbfc479468e84e0f86ad8eb149544447",
       "version_major": 2,
       "version_minor": 0
      },
      "text/plain": [
       "[NeRF] Train:   0%|          | 0/3907 [00:00<?, ?it/s]"
      ]
     },
     "metadata": {},
     "output_type": "display_data"
    },
    {
     "data": {
      "application/vnd.jupyter.widget-view+json": {
       "model_id": "5dc678b29be048458b320161c2aa5849",
       "version_major": 2,
       "version_minor": 0
      },
      "text/plain": [
       "[NeRF] Train:   0%|          | 0/3907 [00:00<?, ?it/s]"
      ]
     },
     "metadata": {},
     "output_type": "display_data"
    },
    {
     "data": {
      "application/vnd.jupyter.widget-view+json": {
       "model_id": "b606815c96c04342ae819d19b31b78cf",
       "version_major": 2,
       "version_minor": 0
      },
      "text/plain": [
       "[NeRF] Train:   0%|          | 0/3907 [00:00<?, ?it/s]"
      ]
     },
     "metadata": {},
     "output_type": "display_data"
    },
    {
     "data": {
      "application/vnd.jupyter.widget-view+json": {
       "model_id": "d0ba0c76dc2f4752b23715c043eb75a4",
       "version_major": 2,
       "version_minor": 0
      },
      "text/plain": [
       "[NeRF] Rendering:   0%|          | 0/40 [00:00<?, ?it/s]"
      ]
     },
     "metadata": {},
     "output_type": "display_data"
    },
    {
     "data": {
      "application/vnd.jupyter.widget-view+json": {
       "model_id": "43a57f454e0a4f68ab85885043250a33",
       "version_major": 2,
       "version_minor": 0
      },
      "text/plain": [
       "[NeRF] Train:   0%|          | 0/3907 [00:00<?, ?it/s]"
      ]
     },
     "metadata": {},
     "output_type": "display_data"
    },
    {
     "data": {
      "application/vnd.jupyter.widget-view+json": {
       "model_id": "0ccae3fe684d45d6882038abbf40aecc",
       "version_major": 2,
       "version_minor": 0
      },
      "text/plain": [
       "[NeRF] Train:   0%|          | 0/3907 [00:00<?, ?it/s]"
      ]
     },
     "metadata": {},
     "output_type": "display_data"
    },
    {
     "data": {
      "application/vnd.jupyter.widget-view+json": {
       "model_id": "3a525fd21755401cb25d0f2372e7daee",
       "version_major": 2,
       "version_minor": 0
      },
      "text/plain": [
       "[NeRF] Train:   0%|          | 0/3907 [00:00<?, ?it/s]"
      ]
     },
     "metadata": {},
     "output_type": "display_data"
    },
    {
     "data": {
      "application/vnd.jupyter.widget-view+json": {
       "model_id": "d4d1d54daa0e476aa8b8d9f39ab5432e",
       "version_major": 2,
       "version_minor": 0
      },
      "text/plain": [
       "[NeRF] Train:   0%|          | 0/3907 [00:00<?, ?it/s]"
      ]
     },
     "metadata": {},
     "output_type": "display_data"
    },
    {
     "data": {
      "application/vnd.jupyter.widget-view+json": {
       "model_id": "183722eb680f45a79d5cb2e284ebee84",
       "version_major": 2,
       "version_minor": 0
      },
      "text/plain": [
       "[NeRF] Rendering:   0%|          | 0/40 [00:00<?, ?it/s]"
      ]
     },
     "metadata": {},
     "output_type": "display_data"
    },
    {
     "data": {
      "application/vnd.jupyter.widget-view+json": {
       "model_id": "9a88adb789cb461981bc0ad9a7737878",
       "version_major": 2,
       "version_minor": 0
      },
      "text/plain": [
       "[NeRF] Train:   0%|          | 0/3907 [00:00<?, ?it/s]"
      ]
     },
     "metadata": {},
     "output_type": "display_data"
    },
    {
     "data": {
      "application/vnd.jupyter.widget-view+json": {
       "model_id": "c668173e8c2f42d2903063abb0075b6c",
       "version_major": 2,
       "version_minor": 0
      },
      "text/plain": [
       "[NeRF] Train:   0%|          | 0/3907 [00:00<?, ?it/s]"
      ]
     },
     "metadata": {},
     "output_type": "display_data"
    },
    {
     "data": {
      "application/vnd.jupyter.widget-view+json": {
       "model_id": "47f0fce23d234de2871bb62fe80b9af0",
       "version_major": 2,
       "version_minor": 0
      },
      "text/plain": [
       "[NeRF] Train:   0%|          | 0/3907 [00:00<?, ?it/s]"
      ]
     },
     "metadata": {},
     "output_type": "display_data"
    },
    {
     "data": {
      "application/vnd.jupyter.widget-view+json": {
       "model_id": "96b4b548197a431d9e24ac005252bc5e",
       "version_major": 2,
       "version_minor": 0
      },
      "text/plain": [
       "[NeRF] Train:   0%|          | 0/3907 [00:00<?, ?it/s]"
      ]
     },
     "metadata": {},
     "output_type": "display_data"
    },
    {
     "data": {
      "application/vnd.jupyter.widget-view+json": {
       "model_id": "36758ccecb8342a3b85713d01af0ac44",
       "version_major": 2,
       "version_minor": 0
      },
      "text/plain": [
       "[NeRF] Rendering:   0%|          | 0/40 [00:00<?, ?it/s]"
      ]
     },
     "metadata": {},
     "output_type": "display_data"
    },
    {
     "data": {
      "application/vnd.jupyter.widget-view+json": {
       "model_id": "856ae280cf0e436c883bc944fd3c19d6",
       "version_major": 2,
       "version_minor": 0
      },
      "text/plain": [
       "[NeRF] Train:   0%|          | 0/3907 [00:00<?, ?it/s]"
      ]
     },
     "metadata": {},
     "output_type": "display_data"
    },
    {
     "data": {
      "application/vnd.jupyter.widget-view+json": {
       "model_id": "650311780e654390bd9158675988a099",
       "version_major": 2,
       "version_minor": 0
      },
      "text/plain": [
       "[NeRF] Train:   0%|          | 0/3907 [00:00<?, ?it/s]"
      ]
     },
     "metadata": {},
     "output_type": "display_data"
    },
    {
     "data": {
      "application/vnd.jupyter.widget-view+json": {
       "model_id": "f820e2e691504d89add79c3e6478f513",
       "version_major": 2,
       "version_minor": 0
      },
      "text/plain": [
       "[NeRF] Train:   0%|          | 0/3907 [00:00<?, ?it/s]"
      ]
     },
     "metadata": {},
     "output_type": "display_data"
    },
    {
     "data": {
      "application/vnd.jupyter.widget-view+json": {
       "model_id": "da5067e419e54019af3ff0e7b5408e63",
       "version_major": 2,
       "version_minor": 0
      },
      "text/plain": [
       "[NeRF] Train:   0%|          | 0/3907 [00:00<?, ?it/s]"
      ]
     },
     "metadata": {},
     "output_type": "display_data"
    },
    {
     "data": {
      "application/vnd.jupyter.widget-view+json": {
       "model_id": "46824146d8624bfbacb960c58f5a51aa",
       "version_major": 2,
       "version_minor": 0
      },
      "text/plain": [
       "[NeRF] Rendering:   0%|          | 0/40 [00:00<?, ?it/s]"
      ]
     },
     "metadata": {},
     "output_type": "display_data"
    },
    {
     "data": {
      "application/vnd.jupyter.widget-view+json": {
       "model_id": "bf13c6428dcc4c8db655663a66c36e53",
       "version_major": 2,
       "version_minor": 0
      },
      "text/plain": [
       "[NeRF] Train:   0%|          | 0/3907 [00:00<?, ?it/s]"
      ]
     },
     "metadata": {},
     "output_type": "display_data"
    },
    {
     "data": {
      "application/vnd.jupyter.widget-view+json": {
       "model_id": "08d6504595eb4dfaa12d2e27cb01d929",
       "version_major": 2,
       "version_minor": 0
      },
      "text/plain": [
       "[NeRF] Train:   0%|          | 0/3907 [00:00<?, ?it/s]"
      ]
     },
     "metadata": {},
     "output_type": "display_data"
    },
    {
     "data": {
      "application/vnd.jupyter.widget-view+json": {
       "model_id": "e3e47b8eabb44f858ac0d14e22ec5bb8",
       "version_major": 2,
       "version_minor": 0
      },
      "text/plain": [
       "[NeRF] Train:   0%|          | 0/3907 [00:00<?, ?it/s]"
      ]
     },
     "metadata": {},
     "output_type": "display_data"
    },
    {
     "data": {
      "application/vnd.jupyter.widget-view+json": {
       "model_id": "cd42e1312a094c259b85b0217a93da80",
       "version_major": 2,
       "version_minor": 0
      },
      "text/plain": [
       "[NeRF] Train:   0%|          | 0/3907 [00:00<?, ?it/s]"
      ]
     },
     "metadata": {},
     "output_type": "display_data"
    },
    {
     "data": {
      "application/vnd.jupyter.widget-view+json": {
       "model_id": "8375e0afc791494c9a1d7743e92ebd53",
       "version_major": 2,
       "version_minor": 0
      },
      "text/plain": [
       "[NeRF] Rendering:   0%|          | 0/40 [00:00<?, ?it/s]"
      ]
     },
     "metadata": {},
     "output_type": "display_data"
    },
    {
     "data": {
      "application/vnd.jupyter.widget-view+json": {
       "model_id": "d02f2df0874f413faecf0dd47dc9795c",
       "version_major": 2,
       "version_minor": 0
      },
      "text/plain": [
       "[NeRF] Train:   0%|          | 0/3907 [00:00<?, ?it/s]"
      ]
     },
     "metadata": {},
     "output_type": "display_data"
    },
    {
     "data": {
      "application/vnd.jupyter.widget-view+json": {
       "model_id": "4f8d28f018644f1fb4a0ba07a5e633f8",
       "version_major": 2,
       "version_minor": 0
      },
      "text/plain": [
       "[NeRF] Train:   0%|          | 0/3907 [00:00<?, ?it/s]"
      ]
     },
     "metadata": {},
     "output_type": "display_data"
    },
    {
     "data": {
      "application/vnd.jupyter.widget-view+json": {
       "model_id": "b29875c7ca1a433cbff37c0ccc4ca75e",
       "version_major": 2,
       "version_minor": 0
      },
      "text/plain": [
       "[NeRF] Train:   0%|          | 0/3907 [00:00<?, ?it/s]"
      ]
     },
     "metadata": {},
     "output_type": "display_data"
    },
    {
     "data": {
      "application/vnd.jupyter.widget-view+json": {
       "model_id": "bdb9eca1aa794e4ca622efb0f23d0a3d",
       "version_major": 2,
       "version_minor": 0
      },
      "text/plain": [
       "[NeRF] Train:   0%|          | 0/3907 [00:00<?, ?it/s]"
      ]
     },
     "metadata": {},
     "output_type": "display_data"
    },
    {
     "data": {
      "application/vnd.jupyter.widget-view+json": {
       "model_id": "d3ee8d2fe060432bafcd7e89d8efa2dd",
       "version_major": 2,
       "version_minor": 0
      },
      "text/plain": [
       "[NeRF] Rendering:   0%|          | 0/40 [00:00<?, ?it/s]"
      ]
     },
     "metadata": {},
     "output_type": "display_data"
    },
    {
     "data": {
      "application/vnd.jupyter.widget-view+json": {
       "model_id": "6d29651f41644cd4bc848baaf39a24ff",
       "version_major": 2,
       "version_minor": 0
      },
      "text/plain": [
       "[NeRF] Train:   0%|          | 0/3907 [00:00<?, ?it/s]"
      ]
     },
     "metadata": {},
     "output_type": "display_data"
    },
    {
     "data": {
      "application/vnd.jupyter.widget-view+json": {
       "model_id": "5312f4d2ed4e4ffab19c05bfa35f70a6",
       "version_major": 2,
       "version_minor": 0
      },
      "text/plain": [
       "[NeRF] Train:   0%|          | 0/3907 [00:00<?, ?it/s]"
      ]
     },
     "metadata": {},
     "output_type": "display_data"
    }
   ],
   "source": [
    "trainer = Trainer(TrainConfig(), verbose=True)\n",
    "trainer.display()"
   ]
  },
  {
   "cell_type": "code",
   "execution_count": 3,
   "metadata": {},
   "outputs": [],
   "source": [
    "if H:= trainer.history:\n",
    "    plt.figure()\n",
    "    plt.title(\"MSE\")\n",
    "    plt.plot([mse for mse, _ in H.train], label=\"train\")\n",
    "    plt.show()\n",
    "\n",
    "    plt.figure()\n",
    "    plt.title(\"PSNR\")\n",
    "    plt.plot([psnr for _, psnr in H.train], label=\"train\")\n",
    "    plt.show()"
   ]
  },
  {
   "cell_type": "markdown",
   "metadata": {},
   "source": [
    "## Inference"
   ]
  },
  {
   "cell_type": "code",
   "execution_count": 4,
   "metadata": {
    "scrolled": false
   },
   "outputs": [
    {
     "data": {
      "application/vnd.jupyter.widget-view+json": {
       "model_id": "2ca85121166b4eb08d88b4d9fda0a840",
       "version_major": 2,
       "version_minor": 0
      },
      "text/plain": [
       "VBox(children=(Tab(children=(GridspecLayout(children=(Dropdown(description='Scene', index=3, layout=Layout(gri…"
      ]
     },
     "metadata": {},
     "output_type": "display_data"
    },
    {
     "data": {
      "application/vnd.jupyter.widget-view+json": {
       "model_id": "fadd254f534f422a9415fef3249200ef",
       "version_major": 2,
       "version_minor": 0
      },
      "text/plain": [
       "[BlenderDataset(hotdog, train)] Loading Data:   0%|          | 0/5 [00:00<?, ?it/s]"
      ]
     },
     "metadata": {},
     "output_type": "display_data"
    },
    {
     "data": {
      "application/vnd.jupyter.widget-view+json": {
       "model_id": "6a8f805650034eabaf013f797a8f61c0",
       "version_major": 2,
       "version_minor": 0
      },
      "text/plain": [
       "[BlenderDataset(hotdog, train)] Building Rays:   0%|          | 0/5 [00:00<?, ?it/s]"
      ]
     },
     "metadata": {},
     "output_type": "display_data"
    },
    {
     "name": "stdout",
     "output_type": "stream",
     "text": [
      "[Setup] Dataset Ready\n",
      "[Setup] Model Ready\n",
      "[Setup] Raymarcher Ready\n",
      "[Setup] Creating Rays\n"
     ]
    },
    {
     "data": {
      "application/vnd.jupyter.widget-view+json": {
       "model_id": "84114154a56d43daaeb4ecc74b24cf1d",
       "version_major": 2,
       "version_minor": 0
      },
      "text/plain": [
       "[BlenderDataset(hotdog, train)] Building Rays:   0%|          | 0/120 [00:00<?, ?it/s]"
      ]
     },
     "metadata": {},
     "output_type": "display_data"
    },
    {
     "name": "stdout",
     "output_type": "stream",
     "text": [
      "[Setup] Rendering Started\n"
     ]
    },
    {
     "data": {
      "application/vnd.jupyter.widget-view+json": {
       "model_id": "c4b8c14d642641ccbf5af5ab463381a6",
       "version_major": 2,
       "version_minor": 0
      },
      "text/plain": [
       "[NeRF] Frame:   0%|          | 0/120 [00:00<?, ?it/s]"
      ]
     },
     "metadata": {},
     "output_type": "display_data"
    },
    {
     "data": {
      "application/vnd.jupyter.widget-view+json": {
       "model_id": "8db5408f32ec4612b4590bb31ce0176c",
       "version_major": 2,
       "version_minor": 0
      },
      "text/plain": [
       "[NeRF] Rendering:   0%|          | 0/157 [00:00<?, ?it/s]"
      ]
     },
     "metadata": {},
     "output_type": "display_data"
    },
    {
     "data": {
      "application/vnd.jupyter.widget-view+json": {
       "model_id": "b5651261ba514532bf31f45b430627ae",
       "version_major": 2,
       "version_minor": 0
      },
      "text/plain": [
       "[NeRF] Rendering:   0%|          | 0/157 [00:00<?, ?it/s]"
      ]
     },
     "metadata": {},
     "output_type": "display_data"
    },
    {
     "data": {
      "application/vnd.jupyter.widget-view+json": {
       "model_id": "496d296937d4422ba5f59e9e5f909a28",
       "version_major": 2,
       "version_minor": 0
      },
      "text/plain": [
       "[NeRF] Rendering:   0%|          | 0/157 [00:00<?, ?it/s]"
      ]
     },
     "metadata": {},
     "output_type": "display_data"
    },
    {
     "data": {
      "application/vnd.jupyter.widget-view+json": {
       "model_id": "e37daa4d9c22451c869678e345418792",
       "version_major": 2,
       "version_minor": 0
      },
      "text/plain": [
       "[NeRF] Rendering:   0%|          | 0/157 [00:00<?, ?it/s]"
      ]
     },
     "metadata": {},
     "output_type": "display_data"
    },
    {
     "data": {
      "application/vnd.jupyter.widget-view+json": {
       "model_id": "080054515d0142eca5723f2e15abcbf6",
       "version_major": 2,
       "version_minor": 0
      },
      "text/plain": [
       "[NeRF] Rendering:   0%|          | 0/157 [00:00<?, ?it/s]"
      ]
     },
     "metadata": {},
     "output_type": "display_data"
    },
    {
     "data": {
      "application/vnd.jupyter.widget-view+json": {
       "model_id": "661cdcca16a14211881b4a0830c104b1",
       "version_major": 2,
       "version_minor": 0
      },
      "text/plain": [
       "[NeRF] Rendering:   0%|          | 0/157 [00:00<?, ?it/s]"
      ]
     },
     "metadata": {},
     "output_type": "display_data"
    },
    {
     "data": {
      "application/vnd.jupyter.widget-view+json": {
       "model_id": "2ea7ec165bf847f2a064cd0786e80420",
       "version_major": 2,
       "version_minor": 0
      },
      "text/plain": [
       "[NeRF] Rendering:   0%|          | 0/157 [00:00<?, ?it/s]"
      ]
     },
     "metadata": {},
     "output_type": "display_data"
    },
    {
     "data": {
      "application/vnd.jupyter.widget-view+json": {
       "model_id": "4c647123f0cb4ccdb7578d213877c71f",
       "version_major": 2,
       "version_minor": 0
      },
      "text/plain": [
       "[NeRF] Rendering:   0%|          | 0/157 [00:00<?, ?it/s]"
      ]
     },
     "metadata": {},
     "output_type": "display_data"
    },
    {
     "data": {
      "application/vnd.jupyter.widget-view+json": {
       "model_id": "353cbc214a1d4123856ff69c37850fe8",
       "version_major": 2,
       "version_minor": 0
      },
      "text/plain": [
       "[NeRF] Rendering:   0%|          | 0/157 [00:00<?, ?it/s]"
      ]
     },
     "metadata": {},
     "output_type": "display_data"
    },
    {
     "data": {
      "application/vnd.jupyter.widget-view+json": {
       "model_id": "a40fe325ae874dbeba675cc8b5c29472",
       "version_major": 2,
       "version_minor": 0
      },
      "text/plain": [
       "[NeRF] Rendering:   0%|          | 0/157 [00:00<?, ?it/s]"
      ]
     },
     "metadata": {},
     "output_type": "display_data"
    },
    {
     "data": {
      "application/vnd.jupyter.widget-view+json": {
       "model_id": "ccb2c0e650a74d798e909cf70dd3d14e",
       "version_major": 2,
       "version_minor": 0
      },
      "text/plain": [
       "[NeRF] Rendering:   0%|          | 0/157 [00:00<?, ?it/s]"
      ]
     },
     "metadata": {},
     "output_type": "display_data"
    },
    {
     "data": {
      "application/vnd.jupyter.widget-view+json": {
       "model_id": "6ceac2c9aed4464ca9a3209ca3cfbe6d",
       "version_major": 2,
       "version_minor": 0
      },
      "text/plain": [
       "[NeRF] Rendering:   0%|          | 0/157 [00:00<?, ?it/s]"
      ]
     },
     "metadata": {},
     "output_type": "display_data"
    },
    {
     "data": {
      "application/vnd.jupyter.widget-view+json": {
       "model_id": "e9eb178a31f7438aaad98ade77cf8eca",
       "version_major": 2,
       "version_minor": 0
      },
      "text/plain": [
       "[NeRF] Rendering:   0%|          | 0/157 [00:00<?, ?it/s]"
      ]
     },
     "metadata": {},
     "output_type": "display_data"
    },
    {
     "data": {
      "application/vnd.jupyter.widget-view+json": {
       "model_id": "60c84c51aff748d19bdc2071f82326d2",
       "version_major": 2,
       "version_minor": 0
      },
      "text/plain": [
       "[NeRF] Rendering:   0%|          | 0/157 [00:00<?, ?it/s]"
      ]
     },
     "metadata": {},
     "output_type": "display_data"
    },
    {
     "data": {
      "application/vnd.jupyter.widget-view+json": {
       "model_id": "45d61d5f14a947edbc2b3233488d5ae4",
       "version_major": 2,
       "version_minor": 0
      },
      "text/plain": [
       "[NeRF] Rendering:   0%|          | 0/157 [00:00<?, ?it/s]"
      ]
     },
     "metadata": {},
     "output_type": "display_data"
    },
    {
     "data": {
      "application/vnd.jupyter.widget-view+json": {
       "model_id": "2fc8b92704ea4396b0cc89da33a1c14d",
       "version_major": 2,
       "version_minor": 0
      },
      "text/plain": [
       "[NeRF] Rendering:   0%|          | 0/157 [00:00<?, ?it/s]"
      ]
     },
     "metadata": {},
     "output_type": "display_data"
    },
    {
     "data": {
      "application/vnd.jupyter.widget-view+json": {
       "model_id": "a7aad876bfbd438db8e4dd6678322749",
       "version_major": 2,
       "version_minor": 0
      },
      "text/plain": [
       "[NeRF] Rendering:   0%|          | 0/157 [00:00<?, ?it/s]"
      ]
     },
     "metadata": {},
     "output_type": "display_data"
    },
    {
     "data": {
      "application/vnd.jupyter.widget-view+json": {
       "model_id": "502d03119ba048c4bfade3b6b5a3d715",
       "version_major": 2,
       "version_minor": 0
      },
      "text/plain": [
       "[NeRF] Rendering:   0%|          | 0/157 [00:00<?, ?it/s]"
      ]
     },
     "metadata": {},
     "output_type": "display_data"
    },
    {
     "data": {
      "application/vnd.jupyter.widget-view+json": {
       "model_id": "17c5d25789d64796ae8ec6adeb492f0f",
       "version_major": 2,
       "version_minor": 0
      },
      "text/plain": [
       "[NeRF] Rendering:   0%|          | 0/157 [00:00<?, ?it/s]"
      ]
     },
     "metadata": {},
     "output_type": "display_data"
    },
    {
     "data": {
      "application/vnd.jupyter.widget-view+json": {
       "model_id": "40f79ca503e446679d4f90382ccc2f87",
       "version_major": 2,
       "version_minor": 0
      },
      "text/plain": [
       "[NeRF] Rendering:   0%|          | 0/157 [00:00<?, ?it/s]"
      ]
     },
     "metadata": {},
     "output_type": "display_data"
    },
    {
     "data": {
      "application/vnd.jupyter.widget-view+json": {
       "model_id": "a2af413035fe41689d1a78917a757099",
       "version_major": 2,
       "version_minor": 0
      },
      "text/plain": [
       "[NeRF] Rendering:   0%|          | 0/157 [00:00<?, ?it/s]"
      ]
     },
     "metadata": {},
     "output_type": "display_data"
    },
    {
     "data": {
      "application/vnd.jupyter.widget-view+json": {
       "model_id": "12d9fdc1a3464b29ab1e38f6ec0eef0b",
       "version_major": 2,
       "version_minor": 0
      },
      "text/plain": [
       "[NeRF] Rendering:   0%|          | 0/157 [00:00<?, ?it/s]"
      ]
     },
     "metadata": {},
     "output_type": "display_data"
    },
    {
     "data": {
      "application/vnd.jupyter.widget-view+json": {
       "model_id": "0adcb4f75b044e4594c8446c65563802",
       "version_major": 2,
       "version_minor": 0
      },
      "text/plain": [
       "[NeRF] Rendering:   0%|          | 0/157 [00:00<?, ?it/s]"
      ]
     },
     "metadata": {},
     "output_type": "display_data"
    },
    {
     "data": {
      "application/vnd.jupyter.widget-view+json": {
       "model_id": "63cc6ec7e7ce459fba1afc8bceacc2a1",
       "version_major": 2,
       "version_minor": 0
      },
      "text/plain": [
       "[NeRF] Rendering:   0%|          | 0/157 [00:00<?, ?it/s]"
      ]
     },
     "metadata": {},
     "output_type": "display_data"
    },
    {
     "data": {
      "application/vnd.jupyter.widget-view+json": {
       "model_id": "a0ebacbfc9724fde9d5081fcce284426",
       "version_major": 2,
       "version_minor": 0
      },
      "text/plain": [
       "[NeRF] Rendering:   0%|          | 0/157 [00:00<?, ?it/s]"
      ]
     },
     "metadata": {},
     "output_type": "display_data"
    },
    {
     "data": {
      "application/vnd.jupyter.widget-view+json": {
       "model_id": "198d08e113514797b30aabada7d81fb5",
       "version_major": 2,
       "version_minor": 0
      },
      "text/plain": [
       "[NeRF] Rendering:   0%|          | 0/157 [00:00<?, ?it/s]"
      ]
     },
     "metadata": {},
     "output_type": "display_data"
    },
    {
     "data": {
      "application/vnd.jupyter.widget-view+json": {
       "model_id": "27a61da7024048289a10e012fc993fc7",
       "version_major": 2,
       "version_minor": 0
      },
      "text/plain": [
       "[NeRF] Rendering:   0%|          | 0/157 [00:00<?, ?it/s]"
      ]
     },
     "metadata": {},
     "output_type": "display_data"
    },
    {
     "data": {
      "application/vnd.jupyter.widget-view+json": {
       "model_id": "8a4988a8594c4c6e9d70ca366c9ea67c",
       "version_major": 2,
       "version_minor": 0
      },
      "text/plain": [
       "[NeRF] Rendering:   0%|          | 0/157 [00:00<?, ?it/s]"
      ]
     },
     "metadata": {},
     "output_type": "display_data"
    },
    {
     "data": {
      "application/vnd.jupyter.widget-view+json": {
       "model_id": "b16b8ab0ea2f4a839d9e600de4b571a0",
       "version_major": 2,
       "version_minor": 0
      },
      "text/plain": [
       "[NeRF] Rendering:   0%|          | 0/157 [00:00<?, ?it/s]"
      ]
     },
     "metadata": {},
     "output_type": "display_data"
    },
    {
     "data": {
      "application/vnd.jupyter.widget-view+json": {
       "model_id": "0605c5f3fa154395ac9dedbbf73bc812",
       "version_major": 2,
       "version_minor": 0
      },
      "text/plain": [
       "[NeRF] Rendering:   0%|          | 0/157 [00:00<?, ?it/s]"
      ]
     },
     "metadata": {},
     "output_type": "display_data"
    },
    {
     "data": {
      "application/vnd.jupyter.widget-view+json": {
       "model_id": "b21c1fff9732465985319ec517ab5aaf",
       "version_major": 2,
       "version_minor": 0
      },
      "text/plain": [
       "[NeRF] Rendering:   0%|          | 0/157 [00:00<?, ?it/s]"
      ]
     },
     "metadata": {},
     "output_type": "display_data"
    },
    {
     "data": {
      "application/vnd.jupyter.widget-view+json": {
       "model_id": "5b61d79bfb2547ffa2783c6aac3f7ada",
       "version_major": 2,
       "version_minor": 0
      },
      "text/plain": [
       "[NeRF] Rendering:   0%|          | 0/157 [00:00<?, ?it/s]"
      ]
     },
     "metadata": {},
     "output_type": "display_data"
    },
    {
     "data": {
      "application/vnd.jupyter.widget-view+json": {
       "model_id": "72d4c99c6a2f42ce85a4ee1f5847f64a",
       "version_major": 2,
       "version_minor": 0
      },
      "text/plain": [
       "[NeRF] Rendering:   0%|          | 0/157 [00:00<?, ?it/s]"
      ]
     },
     "metadata": {},
     "output_type": "display_data"
    },
    {
     "data": {
      "application/vnd.jupyter.widget-view+json": {
       "model_id": "07281d5527b74be9a506b713cbe8bb14",
       "version_major": 2,
       "version_minor": 0
      },
      "text/plain": [
       "[NeRF] Rendering:   0%|          | 0/157 [00:00<?, ?it/s]"
      ]
     },
     "metadata": {},
     "output_type": "display_data"
    },
    {
     "data": {
      "application/vnd.jupyter.widget-view+json": {
       "model_id": "f46e8a8c10f24b47a8058d50e4caa594",
       "version_major": 2,
       "version_minor": 0
      },
      "text/plain": [
       "[NeRF] Rendering:   0%|          | 0/157 [00:00<?, ?it/s]"
      ]
     },
     "metadata": {},
     "output_type": "display_data"
    },
    {
     "data": {
      "application/vnd.jupyter.widget-view+json": {
       "model_id": "fe4a78bfcce94a949e80574fe4c32726",
       "version_major": 2,
       "version_minor": 0
      },
      "text/plain": [
       "[NeRF] Rendering:   0%|          | 0/157 [00:00<?, ?it/s]"
      ]
     },
     "metadata": {},
     "output_type": "display_data"
    },
    {
     "data": {
      "application/vnd.jupyter.widget-view+json": {
       "model_id": "7e0d5743c3f74c758b7b8b92648c7d0c",
       "version_major": 2,
       "version_minor": 0
      },
      "text/plain": [
       "[NeRF] Rendering:   0%|          | 0/157 [00:00<?, ?it/s]"
      ]
     },
     "metadata": {},
     "output_type": "display_data"
    },
    {
     "data": {
      "application/vnd.jupyter.widget-view+json": {
       "model_id": "139f0df73b89420eb47439eb114676f1",
       "version_major": 2,
       "version_minor": 0
      },
      "text/plain": [
       "[NeRF] Rendering:   0%|          | 0/157 [00:00<?, ?it/s]"
      ]
     },
     "metadata": {},
     "output_type": "display_data"
    },
    {
     "data": {
      "application/vnd.jupyter.widget-view+json": {
       "model_id": "4d534ae275a14b9a924c748241f12125",
       "version_major": 2,
       "version_minor": 0
      },
      "text/plain": [
       "[NeRF] Rendering:   0%|          | 0/157 [00:00<?, ?it/s]"
      ]
     },
     "metadata": {},
     "output_type": "display_data"
    },
    {
     "data": {
      "application/vnd.jupyter.widget-view+json": {
       "model_id": "4fdf0f85897e4ada9577b8322cfd4f8e",
       "version_major": 2,
       "version_minor": 0
      },
      "text/plain": [
       "[NeRF] Rendering:   0%|          | 0/157 [00:00<?, ?it/s]"
      ]
     },
     "metadata": {},
     "output_type": "display_data"
    },
    {
     "data": {
      "application/vnd.jupyter.widget-view+json": {
       "model_id": "908791e1555f4f6e88b0925dc41ddd26",
       "version_major": 2,
       "version_minor": 0
      },
      "text/plain": [
       "[NeRF] Rendering:   0%|          | 0/157 [00:00<?, ?it/s]"
      ]
     },
     "metadata": {},
     "output_type": "display_data"
    },
    {
     "data": {
      "application/vnd.jupyter.widget-view+json": {
       "model_id": "1ba63bd5da2c444da2f6e7733c41465f",
       "version_major": 2,
       "version_minor": 0
      },
      "text/plain": [
       "[NeRF] Rendering:   0%|          | 0/157 [00:00<?, ?it/s]"
      ]
     },
     "metadata": {},
     "output_type": "display_data"
    },
    {
     "data": {
      "application/vnd.jupyter.widget-view+json": {
       "model_id": "76b044e35d314ae08cefaf7b97835d20",
       "version_major": 2,
       "version_minor": 0
      },
      "text/plain": [
       "[NeRF] Rendering:   0%|          | 0/157 [00:00<?, ?it/s]"
      ]
     },
     "metadata": {},
     "output_type": "display_data"
    },
    {
     "data": {
      "application/vnd.jupyter.widget-view+json": {
       "model_id": "cdf1e870657041ea8113b496ab8f9fd5",
       "version_major": 2,
       "version_minor": 0
      },
      "text/plain": [
       "[NeRF] Rendering:   0%|          | 0/157 [00:00<?, ?it/s]"
      ]
     },
     "metadata": {},
     "output_type": "display_data"
    },
    {
     "data": {
      "application/vnd.jupyter.widget-view+json": {
       "model_id": "82c4a5b21f0443fc9d32ce0cfca5411e",
       "version_major": 2,
       "version_minor": 0
      },
      "text/plain": [
       "[NeRF] Rendering:   0%|          | 0/157 [00:00<?, ?it/s]"
      ]
     },
     "metadata": {},
     "output_type": "display_data"
    },
    {
     "data": {
      "application/vnd.jupyter.widget-view+json": {
       "model_id": "a05c8d01b38c40b9b9c67710ad62ec98",
       "version_major": 2,
       "version_minor": 0
      },
      "text/plain": [
       "[NeRF] Rendering:   0%|          | 0/157 [00:00<?, ?it/s]"
      ]
     },
     "metadata": {},
     "output_type": "display_data"
    },
    {
     "data": {
      "application/vnd.jupyter.widget-view+json": {
       "model_id": "2274d17549ca4563abed2c5678f0da73",
       "version_major": 2,
       "version_minor": 0
      },
      "text/plain": [
       "[NeRF] Rendering:   0%|          | 0/157 [00:00<?, ?it/s]"
      ]
     },
     "metadata": {},
     "output_type": "display_data"
    },
    {
     "data": {
      "application/vnd.jupyter.widget-view+json": {
       "model_id": "9ed4648cf8ab4892a7c302d70e408348",
       "version_major": 2,
       "version_minor": 0
      },
      "text/plain": [
       "[NeRF] Rendering:   0%|          | 0/157 [00:00<?, ?it/s]"
      ]
     },
     "metadata": {},
     "output_type": "display_data"
    },
    {
     "data": {
      "application/vnd.jupyter.widget-view+json": {
       "model_id": "fab6d5d4369143819931bf4e5b84bb93",
       "version_major": 2,
       "version_minor": 0
      },
      "text/plain": [
       "[NeRF] Rendering:   0%|          | 0/157 [00:00<?, ?it/s]"
      ]
     },
     "metadata": {},
     "output_type": "display_data"
    },
    {
     "data": {
      "application/vnd.jupyter.widget-view+json": {
       "model_id": "c35e9daef5e3493c94f01bc4baa03f25",
       "version_major": 2,
       "version_minor": 0
      },
      "text/plain": [
       "[NeRF] Rendering:   0%|          | 0/157 [00:00<?, ?it/s]"
      ]
     },
     "metadata": {},
     "output_type": "display_data"
    },
    {
     "data": {
      "application/vnd.jupyter.widget-view+json": {
       "model_id": "fde57b2fde7c4ab7936ed35debfaeef5",
       "version_major": 2,
       "version_minor": 0
      },
      "text/plain": [
       "[NeRF] Rendering:   0%|          | 0/157 [00:00<?, ?it/s]"
      ]
     },
     "metadata": {},
     "output_type": "display_data"
    },
    {
     "data": {
      "application/vnd.jupyter.widget-view+json": {
       "model_id": "6b6fb8bdbff944ffadd53d981f8f3958",
       "version_major": 2,
       "version_minor": 0
      },
      "text/plain": [
       "[NeRF] Rendering:   0%|          | 0/157 [00:00<?, ?it/s]"
      ]
     },
     "metadata": {},
     "output_type": "display_data"
    },
    {
     "data": {
      "application/vnd.jupyter.widget-view+json": {
       "model_id": "16045b9447fd472296cc12b2a7e1ba0e",
       "version_major": 2,
       "version_minor": 0
      },
      "text/plain": [
       "[NeRF] Rendering:   0%|          | 0/157 [00:00<?, ?it/s]"
      ]
     },
     "metadata": {},
     "output_type": "display_data"
    },
    {
     "data": {
      "application/vnd.jupyter.widget-view+json": {
       "model_id": "9a695c001f284feebc450bcf8d935642",
       "version_major": 2,
       "version_minor": 0
      },
      "text/plain": [
       "[NeRF] Rendering:   0%|          | 0/157 [00:00<?, ?it/s]"
      ]
     },
     "metadata": {},
     "output_type": "display_data"
    },
    {
     "data": {
      "application/vnd.jupyter.widget-view+json": {
       "model_id": "6b013080eaa845f2aecb10b0382fb6c6",
       "version_major": 2,
       "version_minor": 0
      },
      "text/plain": [
       "[NeRF] Rendering:   0%|          | 0/157 [00:00<?, ?it/s]"
      ]
     },
     "metadata": {},
     "output_type": "display_data"
    },
    {
     "data": {
      "application/vnd.jupyter.widget-view+json": {
       "model_id": "cf280edb82ee4543aa0b267a6724f4a7",
       "version_major": 2,
       "version_minor": 0
      },
      "text/plain": [
       "[NeRF] Rendering:   0%|          | 0/157 [00:00<?, ?it/s]"
      ]
     },
     "metadata": {},
     "output_type": "display_data"
    },
    {
     "data": {
      "application/vnd.jupyter.widget-view+json": {
       "model_id": "3a543257a0df43a4a9e2454025e23173",
       "version_major": 2,
       "version_minor": 0
      },
      "text/plain": [
       "[NeRF] Rendering:   0%|          | 0/157 [00:00<?, ?it/s]"
      ]
     },
     "metadata": {},
     "output_type": "display_data"
    },
    {
     "data": {
      "application/vnd.jupyter.widget-view+json": {
       "model_id": "adf11497a1bb4054bf8a07208ca379c9",
       "version_major": 2,
       "version_minor": 0
      },
      "text/plain": [
       "[NeRF] Rendering:   0%|          | 0/157 [00:00<?, ?it/s]"
      ]
     },
     "metadata": {},
     "output_type": "display_data"
    },
    {
     "data": {
      "application/vnd.jupyter.widget-view+json": {
       "model_id": "c27dd3b780c14808b01f5de24bf80971",
       "version_major": 2,
       "version_minor": 0
      },
      "text/plain": [
       "[NeRF] Rendering:   0%|          | 0/157 [00:00<?, ?it/s]"
      ]
     },
     "metadata": {},
     "output_type": "display_data"
    },
    {
     "data": {
      "application/vnd.jupyter.widget-view+json": {
       "model_id": "316a156e1ae74bdb9c4cf67391c18884",
       "version_major": 2,
       "version_minor": 0
      },
      "text/plain": [
       "[NeRF] Rendering:   0%|          | 0/157 [00:00<?, ?it/s]"
      ]
     },
     "metadata": {},
     "output_type": "display_data"
    },
    {
     "data": {
      "application/vnd.jupyter.widget-view+json": {
       "model_id": "7623d4478a774ddd808f03a9167790d6",
       "version_major": 2,
       "version_minor": 0
      },
      "text/plain": [
       "[NeRF] Rendering:   0%|          | 0/157 [00:00<?, ?it/s]"
      ]
     },
     "metadata": {},
     "output_type": "display_data"
    },
    {
     "data": {
      "application/vnd.jupyter.widget-view+json": {
       "model_id": "8599061373c44a2b8bf78641aaaeee35",
       "version_major": 2,
       "version_minor": 0
      },
      "text/plain": [
       "[NeRF] Rendering:   0%|          | 0/157 [00:00<?, ?it/s]"
      ]
     },
     "metadata": {},
     "output_type": "display_data"
    },
    {
     "data": {
      "application/vnd.jupyter.widget-view+json": {
       "model_id": "c97c8eb417404a9b9e7288b387378d18",
       "version_major": 2,
       "version_minor": 0
      },
      "text/plain": [
       "[NeRF] Rendering:   0%|          | 0/157 [00:00<?, ?it/s]"
      ]
     },
     "metadata": {},
     "output_type": "display_data"
    },
    {
     "data": {
      "application/vnd.jupyter.widget-view+json": {
       "model_id": "169de1c281b74c30a969a47bd6555790",
       "version_major": 2,
       "version_minor": 0
      },
      "text/plain": [
       "[NeRF] Rendering:   0%|          | 0/157 [00:00<?, ?it/s]"
      ]
     },
     "metadata": {},
     "output_type": "display_data"
    },
    {
     "data": {
      "application/vnd.jupyter.widget-view+json": {
       "model_id": "88759cca979944eb9389b37eb077c7cc",
       "version_major": 2,
       "version_minor": 0
      },
      "text/plain": [
       "[NeRF] Rendering:   0%|          | 0/157 [00:00<?, ?it/s]"
      ]
     },
     "metadata": {},
     "output_type": "display_data"
    },
    {
     "data": {
      "application/vnd.jupyter.widget-view+json": {
       "model_id": "7c4e2e8721954f64b466af3cbe068b8c",
       "version_major": 2,
       "version_minor": 0
      },
      "text/plain": [
       "[NeRF] Rendering:   0%|          | 0/157 [00:00<?, ?it/s]"
      ]
     },
     "metadata": {},
     "output_type": "display_data"
    },
    {
     "data": {
      "application/vnd.jupyter.widget-view+json": {
       "model_id": "62bdda0b9bce41ee9a75b82922915eba",
       "version_major": 2,
       "version_minor": 0
      },
      "text/plain": [
       "[NeRF] Rendering:   0%|          | 0/157 [00:00<?, ?it/s]"
      ]
     },
     "metadata": {},
     "output_type": "display_data"
    },
    {
     "data": {
      "application/vnd.jupyter.widget-view+json": {
       "model_id": "715d99e762364e3e8f0aa9ae3120696a",
       "version_major": 2,
       "version_minor": 0
      },
      "text/plain": [
       "[NeRF] Rendering:   0%|          | 0/157 [00:00<?, ?it/s]"
      ]
     },
     "metadata": {},
     "output_type": "display_data"
    },
    {
     "data": {
      "application/vnd.jupyter.widget-view+json": {
       "model_id": "67bb479e5d614dc8a78f3d132f763ccd",
       "version_major": 2,
       "version_minor": 0
      },
      "text/plain": [
       "[NeRF] Rendering:   0%|          | 0/157 [00:00<?, ?it/s]"
      ]
     },
     "metadata": {},
     "output_type": "display_data"
    },
    {
     "data": {
      "application/vnd.jupyter.widget-view+json": {
       "model_id": "3aebc2fdb5204818a065de1ef409490f",
       "version_major": 2,
       "version_minor": 0
      },
      "text/plain": [
       "[NeRF] Rendering:   0%|          | 0/157 [00:00<?, ?it/s]"
      ]
     },
     "metadata": {},
     "output_type": "display_data"
    },
    {
     "data": {
      "application/vnd.jupyter.widget-view+json": {
       "model_id": "bffabdd86da14a6db452f0def5c3a657",
       "version_major": 2,
       "version_minor": 0
      },
      "text/plain": [
       "[NeRF] Rendering:   0%|          | 0/157 [00:00<?, ?it/s]"
      ]
     },
     "metadata": {},
     "output_type": "display_data"
    },
    {
     "data": {
      "application/vnd.jupyter.widget-view+json": {
       "model_id": "3c3e5fe8d917414db01c68fbb968df0a",
       "version_major": 2,
       "version_minor": 0
      },
      "text/plain": [
       "[NeRF] Rendering:   0%|          | 0/157 [00:00<?, ?it/s]"
      ]
     },
     "metadata": {},
     "output_type": "display_data"
    },
    {
     "data": {
      "application/vnd.jupyter.widget-view+json": {
       "model_id": "fb0986560279460f94389ebc9b5b005e",
       "version_major": 2,
       "version_minor": 0
      },
      "text/plain": [
       "[NeRF] Rendering:   0%|          | 0/157 [00:00<?, ?it/s]"
      ]
     },
     "metadata": {},
     "output_type": "display_data"
    },
    {
     "data": {
      "application/vnd.jupyter.widget-view+json": {
       "model_id": "2705debc924349e0abba005dec9f1cf4",
       "version_major": 2,
       "version_minor": 0
      },
      "text/plain": [
       "[NeRF] Rendering:   0%|          | 0/157 [00:00<?, ?it/s]"
      ]
     },
     "metadata": {},
     "output_type": "display_data"
    },
    {
     "data": {
      "application/vnd.jupyter.widget-view+json": {
       "model_id": "f95bb837b94d4a448a6ed49731024728",
       "version_major": 2,
       "version_minor": 0
      },
      "text/plain": [
       "[NeRF] Rendering:   0%|          | 0/157 [00:00<?, ?it/s]"
      ]
     },
     "metadata": {},
     "output_type": "display_data"
    },
    {
     "data": {
      "application/vnd.jupyter.widget-view+json": {
       "model_id": "71fa6ce279b84367a62c170584684fa5",
       "version_major": 2,
       "version_minor": 0
      },
      "text/plain": [
       "[NeRF] Rendering:   0%|          | 0/157 [00:00<?, ?it/s]"
      ]
     },
     "metadata": {},
     "output_type": "display_data"
    },
    {
     "data": {
      "application/vnd.jupyter.widget-view+json": {
       "model_id": "0a91b693ba47435c9484acaa87fcb808",
       "version_major": 2,
       "version_minor": 0
      },
      "text/plain": [
       "[NeRF] Rendering:   0%|          | 0/157 [00:00<?, ?it/s]"
      ]
     },
     "metadata": {},
     "output_type": "display_data"
    },
    {
     "data": {
      "application/vnd.jupyter.widget-view+json": {
       "model_id": "502cbeb1cb6d423f9dfacbcfdba84b00",
       "version_major": 2,
       "version_minor": 0
      },
      "text/plain": [
       "[NeRF] Rendering:   0%|          | 0/157 [00:00<?, ?it/s]"
      ]
     },
     "metadata": {},
     "output_type": "display_data"
    },
    {
     "data": {
      "application/vnd.jupyter.widget-view+json": {
       "model_id": "84cf1affa66843ca93cafa348c293c6f",
       "version_major": 2,
       "version_minor": 0
      },
      "text/plain": [
       "[NeRF] Rendering:   0%|          | 0/157 [00:00<?, ?it/s]"
      ]
     },
     "metadata": {},
     "output_type": "display_data"
    },
    {
     "data": {
      "application/vnd.jupyter.widget-view+json": {
       "model_id": "c4c8a67f5c304de5ab44f7c1f9cdc212",
       "version_major": 2,
       "version_minor": 0
      },
      "text/plain": [
       "[NeRF] Rendering:   0%|          | 0/157 [00:00<?, ?it/s]"
      ]
     },
     "metadata": {},
     "output_type": "display_data"
    },
    {
     "data": {
      "application/vnd.jupyter.widget-view+json": {
       "model_id": "2c2d4e66b3c54fc89cae17ddf5767211",
       "version_major": 2,
       "version_minor": 0
      },
      "text/plain": [
       "[NeRF] Rendering:   0%|          | 0/157 [00:00<?, ?it/s]"
      ]
     },
     "metadata": {},
     "output_type": "display_data"
    },
    {
     "data": {
      "application/vnd.jupyter.widget-view+json": {
       "model_id": "f10cf9bb31e547e58b000a4cac668340",
       "version_major": 2,
       "version_minor": 0
      },
      "text/plain": [
       "[NeRF] Rendering:   0%|          | 0/157 [00:00<?, ?it/s]"
      ]
     },
     "metadata": {},
     "output_type": "display_data"
    },
    {
     "data": {
      "application/vnd.jupyter.widget-view+json": {
       "model_id": "bc1eb4deb1114043a390461ac9d64204",
       "version_major": 2,
       "version_minor": 0
      },
      "text/plain": [
       "[NeRF] Rendering:   0%|          | 0/157 [00:00<?, ?it/s]"
      ]
     },
     "metadata": {},
     "output_type": "display_data"
    },
    {
     "data": {
      "application/vnd.jupyter.widget-view+json": {
       "model_id": "2ddbea22fcde4228b8f27435e13e2705",
       "version_major": 2,
       "version_minor": 0
      },
      "text/plain": [
       "[NeRF] Rendering:   0%|          | 0/157 [00:00<?, ?it/s]"
      ]
     },
     "metadata": {},
     "output_type": "display_data"
    },
    {
     "data": {
      "application/vnd.jupyter.widget-view+json": {
       "model_id": "e8df0d2aad444702b553e9b8e86dac81",
       "version_major": 2,
       "version_minor": 0
      },
      "text/plain": [
       "[NeRF] Rendering:   0%|          | 0/157 [00:00<?, ?it/s]"
      ]
     },
     "metadata": {},
     "output_type": "display_data"
    },
    {
     "data": {
      "application/vnd.jupyter.widget-view+json": {
       "model_id": "2086d93698ae49f1a12fdb842b1aeadb",
       "version_major": 2,
       "version_minor": 0
      },
      "text/plain": [
       "[NeRF] Rendering:   0%|          | 0/157 [00:00<?, ?it/s]"
      ]
     },
     "metadata": {},
     "output_type": "display_data"
    },
    {
     "data": {
      "application/vnd.jupyter.widget-view+json": {
       "model_id": "06828b6f97eb4a078686e9990ede2be4",
       "version_major": 2,
       "version_minor": 0
      },
      "text/plain": [
       "[NeRF] Rendering:   0%|          | 0/157 [00:00<?, ?it/s]"
      ]
     },
     "metadata": {},
     "output_type": "display_data"
    },
    {
     "data": {
      "application/vnd.jupyter.widget-view+json": {
       "model_id": "ebc64ec338204fbdba5d6064ecbe71be",
       "version_major": 2,
       "version_minor": 0
      },
      "text/plain": [
       "[NeRF] Rendering:   0%|          | 0/157 [00:00<?, ?it/s]"
      ]
     },
     "metadata": {},
     "output_type": "display_data"
    },
    {
     "data": {
      "application/vnd.jupyter.widget-view+json": {
       "model_id": "8ec0d032fce74b3d96ac9caf5d8923f2",
       "version_major": 2,
       "version_minor": 0
      },
      "text/plain": [
       "[NeRF] Rendering:   0%|          | 0/157 [00:00<?, ?it/s]"
      ]
     },
     "metadata": {},
     "output_type": "display_data"
    },
    {
     "data": {
      "application/vnd.jupyter.widget-view+json": {
       "model_id": "47ca09ac2c774026b8942c0a4584313f",
       "version_major": 2,
       "version_minor": 0
      },
      "text/plain": [
       "[NeRF] Rendering:   0%|          | 0/157 [00:00<?, ?it/s]"
      ]
     },
     "metadata": {},
     "output_type": "display_data"
    },
    {
     "data": {
      "application/vnd.jupyter.widget-view+json": {
       "model_id": "81a263937df6419ab85e69a1cbb7f0f4",
       "version_major": 2,
       "version_minor": 0
      },
      "text/plain": [
       "[NeRF] Rendering:   0%|          | 0/157 [00:00<?, ?it/s]"
      ]
     },
     "metadata": {},
     "output_type": "display_data"
    },
    {
     "data": {
      "application/vnd.jupyter.widget-view+json": {
       "model_id": "f87290a1d0bc4735aba3c353ba458217",
       "version_major": 2,
       "version_minor": 0
      },
      "text/plain": [
       "[NeRF] Rendering:   0%|          | 0/157 [00:00<?, ?it/s]"
      ]
     },
     "metadata": {},
     "output_type": "display_data"
    },
    {
     "data": {
      "application/vnd.jupyter.widget-view+json": {
       "model_id": "25be13949272403589c51cff8e84e944",
       "version_major": 2,
       "version_minor": 0
      },
      "text/plain": [
       "[NeRF] Rendering:   0%|          | 0/157 [00:00<?, ?it/s]"
      ]
     },
     "metadata": {},
     "output_type": "display_data"
    },
    {
     "data": {
      "application/vnd.jupyter.widget-view+json": {
       "model_id": "940013ea6261470a864fb678eb097393",
       "version_major": 2,
       "version_minor": 0
      },
      "text/plain": [
       "[NeRF] Rendering:   0%|          | 0/157 [00:00<?, ?it/s]"
      ]
     },
     "metadata": {},
     "output_type": "display_data"
    },
    {
     "data": {
      "application/vnd.jupyter.widget-view+json": {
       "model_id": "6efb51ca71e44f29a2097d1fedc0f30a",
       "version_major": 2,
       "version_minor": 0
      },
      "text/plain": [
       "[NeRF] Rendering:   0%|          | 0/157 [00:00<?, ?it/s]"
      ]
     },
     "metadata": {},
     "output_type": "display_data"
    },
    {
     "data": {
      "application/vnd.jupyter.widget-view+json": {
       "model_id": "d37a009c76bc48e081602f01aa0931dc",
       "version_major": 2,
       "version_minor": 0
      },
      "text/plain": [
       "[NeRF] Rendering:   0%|          | 0/157 [00:00<?, ?it/s]"
      ]
     },
     "metadata": {},
     "output_type": "display_data"
    },
    {
     "data": {
      "application/vnd.jupyter.widget-view+json": {
       "model_id": "8c2ec16a46b344a9bf260a379ac45a26",
       "version_major": 2,
       "version_minor": 0
      },
      "text/plain": [
       "[NeRF] Rendering:   0%|          | 0/157 [00:00<?, ?it/s]"
      ]
     },
     "metadata": {},
     "output_type": "display_data"
    },
    {
     "data": {
      "application/vnd.jupyter.widget-view+json": {
       "model_id": "7adcef61bf4f4a78b4ec8e26fc4668da",
       "version_major": 2,
       "version_minor": 0
      },
      "text/plain": [
       "[NeRF] Rendering:   0%|          | 0/157 [00:00<?, ?it/s]"
      ]
     },
     "metadata": {},
     "output_type": "display_data"
    },
    {
     "data": {
      "application/vnd.jupyter.widget-view+json": {
       "model_id": "787c9c8fdb0a47a0a44cbfe626b4545d",
       "version_major": 2,
       "version_minor": 0
      },
      "text/plain": [
       "[NeRF] Rendering:   0%|          | 0/157 [00:00<?, ?it/s]"
      ]
     },
     "metadata": {},
     "output_type": "display_data"
    },
    {
     "data": {
      "application/vnd.jupyter.widget-view+json": {
       "model_id": "6a7b9b86a6c548b9af6561545bcfa58b",
       "version_major": 2,
       "version_minor": 0
      },
      "text/plain": [
       "[NeRF] Rendering:   0%|          | 0/157 [00:00<?, ?it/s]"
      ]
     },
     "metadata": {},
     "output_type": "display_data"
    },
    {
     "data": {
      "application/vnd.jupyter.widget-view+json": {
       "model_id": "5ab951ed69ef48b8994add599b7ee6af",
       "version_major": 2,
       "version_minor": 0
      },
      "text/plain": [
       "[NeRF] Rendering:   0%|          | 0/157 [00:00<?, ?it/s]"
      ]
     },
     "metadata": {},
     "output_type": "display_data"
    },
    {
     "data": {
      "application/vnd.jupyter.widget-view+json": {
       "model_id": "cf77495b7c7b4ab1898135019b8a89cf",
       "version_major": 2,
       "version_minor": 0
      },
      "text/plain": [
       "[NeRF] Rendering:   0%|          | 0/157 [00:00<?, ?it/s]"
      ]
     },
     "metadata": {},
     "output_type": "display_data"
    },
    {
     "data": {
      "application/vnd.jupyter.widget-view+json": {
       "model_id": "6031580db519433592265d8f733c0540",
       "version_major": 2,
       "version_minor": 0
      },
      "text/plain": [
       "[NeRF] Rendering:   0%|          | 0/157 [00:00<?, ?it/s]"
      ]
     },
     "metadata": {},
     "output_type": "display_data"
    },
    {
     "data": {
      "application/vnd.jupyter.widget-view+json": {
       "model_id": "55e37d57c7544d9c81e49ddd73ff8fad",
       "version_major": 2,
       "version_minor": 0
      },
      "text/plain": [
       "[NeRF] Rendering:   0%|          | 0/157 [00:00<?, ?it/s]"
      ]
     },
     "metadata": {},
     "output_type": "display_data"
    },
    {
     "data": {
      "application/vnd.jupyter.widget-view+json": {
       "model_id": "0a6d2cde7e0a471aa28d3884291d123b",
       "version_major": 2,
       "version_minor": 0
      },
      "text/plain": [
       "[NeRF] Rendering:   0%|          | 0/157 [00:00<?, ?it/s]"
      ]
     },
     "metadata": {},
     "output_type": "display_data"
    },
    {
     "data": {
      "application/vnd.jupyter.widget-view+json": {
       "model_id": "b0495a35d8184d50aa26a8237c967a09",
       "version_major": 2,
       "version_minor": 0
      },
      "text/plain": [
       "[NeRF] Rendering:   0%|          | 0/157 [00:00<?, ?it/s]"
      ]
     },
     "metadata": {},
     "output_type": "display_data"
    },
    {
     "data": {
      "application/vnd.jupyter.widget-view+json": {
       "model_id": "b40da1e7842a402f940c5628730f95b2",
       "version_major": 2,
       "version_minor": 0
      },
      "text/plain": [
       "[NeRF] Rendering:   0%|          | 0/157 [00:00<?, ?it/s]"
      ]
     },
     "metadata": {},
     "output_type": "display_data"
    },
    {
     "data": {
      "application/vnd.jupyter.widget-view+json": {
       "model_id": "130b260944c44e21b390934985d344f6",
       "version_major": 2,
       "version_minor": 0
      },
      "text/plain": [
       "[NeRF] Rendering:   0%|          | 0/157 [00:00<?, ?it/s]"
      ]
     },
     "metadata": {},
     "output_type": "display_data"
    },
    {
     "data": {
      "application/vnd.jupyter.widget-view+json": {
       "model_id": "074b47a3f1ab4972930101320f9023d1",
       "version_major": 2,
       "version_minor": 0
      },
      "text/plain": [
       "[NeRF] Rendering:   0%|          | 0/157 [00:00<?, ?it/s]"
      ]
     },
     "metadata": {},
     "output_type": "display_data"
    },
    {
     "data": {
      "application/vnd.jupyter.widget-view+json": {
       "model_id": "c4272a273b68457992b9cad2ecc5c326",
       "version_major": 2,
       "version_minor": 0
      },
      "text/plain": [
       "[NeRF] Rendering:   0%|          | 0/157 [00:00<?, ?it/s]"
      ]
     },
     "metadata": {},
     "output_type": "display_data"
    },
    {
     "data": {
      "application/vnd.jupyter.widget-view+json": {
       "model_id": "f816a5dfa938435880fd2233a46067d4",
       "version_major": 2,
       "version_minor": 0
      },
      "text/plain": [
       "[NeRF] Rendering:   0%|          | 0/157 [00:00<?, ?it/s]"
      ]
     },
     "metadata": {},
     "output_type": "display_data"
    },
    {
     "data": {
      "application/vnd.jupyter.widget-view+json": {
       "model_id": "47f03bf0a7d342f191a93fa052ae9571",
       "version_major": 2,
       "version_minor": 0
      },
      "text/plain": [
       "[NeRF] Rendering:   0%|          | 0/157 [00:00<?, ?it/s]"
      ]
     },
     "metadata": {},
     "output_type": "display_data"
    },
    {
     "data": {
      "application/vnd.jupyter.widget-view+json": {
       "model_id": "25fddb6ec0814485a1bf473ef4ccb4c8",
       "version_major": 2,
       "version_minor": 0
      },
      "text/plain": [
       "[NeRF] Rendering:   0%|          | 0/157 [00:00<?, ?it/s]"
      ]
     },
     "metadata": {},
     "output_type": "display_data"
    },
    {
     "data": {
      "application/vnd.jupyter.widget-view+json": {
       "model_id": "8beee802e5a34bf9b2bf8a468b3691e4",
       "version_major": 2,
       "version_minor": 0
      },
      "text/plain": [
       "[NeRF] Rendering:   0%|          | 0/157 [00:00<?, ?it/s]"
      ]
     },
     "metadata": {},
     "output_type": "display_data"
    },
    {
     "data": {
      "application/vnd.jupyter.widget-view+json": {
       "model_id": "0172de4b0c12418e99cb994796e5c8c9",
       "version_major": 2,
       "version_minor": 0
      },
      "text/plain": [
       "[NeRF] Rendering:   0%|          | 0/157 [00:00<?, ?it/s]"
      ]
     },
     "metadata": {},
     "output_type": "display_data"
    },
    {
     "data": {
      "application/vnd.jupyter.widget-view+json": {
       "model_id": "8f83e79c3b464f32910cdba56c0a49ff",
       "version_major": 2,
       "version_minor": 0
      },
      "text/plain": [
       "[NeRF] Rendering:   0%|          | 0/157 [00:00<?, ?it/s]"
      ]
     },
     "metadata": {},
     "output_type": "display_data"
    },
    {
     "data": {
      "application/vnd.jupyter.widget-view+json": {
       "model_id": "a6e37802bbfc40bd875a9fcb96cf58c9",
       "version_major": 2,
       "version_minor": 0
      },
      "text/plain": [
       "[NeRF] Rendering:   0%|          | 0/157 [00:00<?, ?it/s]"
      ]
     },
     "metadata": {},
     "output_type": "display_data"
    },
    {
     "data": {
      "application/vnd.jupyter.widget-view+json": {
       "model_id": "80d9e207406f43f0b95240554c67b074",
       "version_major": 2,
       "version_minor": 0
      },
      "text/plain": [
       "[NeRF] Rendering:   0%|          | 0/157 [00:00<?, ?it/s]"
      ]
     },
     "metadata": {},
     "output_type": "display_data"
    },
    {
     "data": {
      "application/vnd.jupyter.widget-view+json": {
       "model_id": "ea2199d42bd0423f9b932333d8d4e94b",
       "version_major": 2,
       "version_minor": 0
      },
      "text/plain": [
       "[NeRF] Rendering:   0%|          | 0/157 [00:00<?, ?it/s]"
      ]
     },
     "metadata": {},
     "output_type": "display_data"
    },
    {
     "data": {
      "application/vnd.jupyter.widget-view+json": {
       "model_id": "cf798aedf2384e71bf03604185badffe",
       "version_major": 2,
       "version_minor": 0
      },
      "text/plain": [
       "[NeRF] Rendering:   0%|          | 0/157 [00:00<?, ?it/s]"
      ]
     },
     "metadata": {},
     "output_type": "display_data"
    },
    {
     "name": "stdout",
     "output_type": "stream",
     "text": [
      "[Setup] Rendering Done \n",
      "MoviePy - Building file ./res/NeRF_hotdog_pred.gif with imageio.\n"
     ]
    },
    {
     "name": "stderr",
     "output_type": "stream",
     "text": [
      "                                                                                                                                                                                                                     \r"
     ]
    },
    {
     "name": "stdout",
     "output_type": "stream",
     "text": [
      "[Setup] Creating Rays\n"
     ]
    },
    {
     "data": {
      "application/vnd.jupyter.widget-view+json": {
       "model_id": "606eec88fa414b2790903fb8cd71402a",
       "version_major": 2,
       "version_minor": 0
      },
      "text/plain": [
       "[BlenderDataset(hotdog, train)] Building Rays:   0%|          | 0/120 [00:00<?, ?it/s]"
      ]
     },
     "metadata": {},
     "output_type": "display_data"
    },
    {
     "name": "stdout",
     "output_type": "stream",
     "text": [
      "[Setup] Rendering Started\n"
     ]
    },
    {
     "data": {
      "application/vnd.jupyter.widget-view+json": {
       "model_id": "9a94b663623c4145aa8f98576c332229",
       "version_major": 2,
       "version_minor": 0
      },
      "text/plain": [
       "[NeRF] Frame:   0%|          | 0/120 [00:00<?, ?it/s]"
      ]
     },
     "metadata": {},
     "output_type": "display_data"
    },
    {
     "data": {
      "application/vnd.jupyter.widget-view+json": {
       "model_id": "821f4af820a14b3ab7d35953bc6fa8a6",
       "version_major": 2,
       "version_minor": 0
      },
      "text/plain": [
       "[NeRF] Rendering:   0%|          | 0/157 [00:00<?, ?it/s]"
      ]
     },
     "metadata": {},
     "output_type": "display_data"
    },
    {
     "data": {
      "application/vnd.jupyter.widget-view+json": {
       "model_id": "19e000acd58b48829b89cf28632679c9",
       "version_major": 2,
       "version_minor": 0
      },
      "text/plain": [
       "[NeRF] Rendering:   0%|          | 0/157 [00:00<?, ?it/s]"
      ]
     },
     "metadata": {},
     "output_type": "display_data"
    },
    {
     "data": {
      "application/vnd.jupyter.widget-view+json": {
       "model_id": "9563e0d6b2e848798fe4aca61b68f441",
       "version_major": 2,
       "version_minor": 0
      },
      "text/plain": [
       "[NeRF] Rendering:   0%|          | 0/157 [00:00<?, ?it/s]"
      ]
     },
     "metadata": {},
     "output_type": "display_data"
    },
    {
     "data": {
      "application/vnd.jupyter.widget-view+json": {
       "model_id": "b4217b31041b47889c5b1d21b4ce6e52",
       "version_major": 2,
       "version_minor": 0
      },
      "text/plain": [
       "[NeRF] Rendering:   0%|          | 0/157 [00:00<?, ?it/s]"
      ]
     },
     "metadata": {},
     "output_type": "display_data"
    },
    {
     "data": {
      "application/vnd.jupyter.widget-view+json": {
       "model_id": "ee0a3663b5bf4119a61f47c12a184ba2",
       "version_major": 2,
       "version_minor": 0
      },
      "text/plain": [
       "[NeRF] Rendering:   0%|          | 0/157 [00:00<?, ?it/s]"
      ]
     },
     "metadata": {},
     "output_type": "display_data"
    },
    {
     "data": {
      "application/vnd.jupyter.widget-view+json": {
       "model_id": "d4bee321110145138073d40a07466ba4",
       "version_major": 2,
       "version_minor": 0
      },
      "text/plain": [
       "[NeRF] Rendering:   0%|          | 0/157 [00:00<?, ?it/s]"
      ]
     },
     "metadata": {},
     "output_type": "display_data"
    },
    {
     "data": {
      "application/vnd.jupyter.widget-view+json": {
       "model_id": "77e898b456ec4e339d5bba785bb48bcd",
       "version_major": 2,
       "version_minor": 0
      },
      "text/plain": [
       "[NeRF] Rendering:   0%|          | 0/157 [00:00<?, ?it/s]"
      ]
     },
     "metadata": {},
     "output_type": "display_data"
    },
    {
     "data": {
      "application/vnd.jupyter.widget-view+json": {
       "model_id": "9f9b0f94745c4f168d63fee02f5966ec",
       "version_major": 2,
       "version_minor": 0
      },
      "text/plain": [
       "[NeRF] Rendering:   0%|          | 0/157 [00:00<?, ?it/s]"
      ]
     },
     "metadata": {},
     "output_type": "display_data"
    },
    {
     "data": {
      "application/vnd.jupyter.widget-view+json": {
       "model_id": "f8b2d08178ff418d81043aef5516b11d",
       "version_major": 2,
       "version_minor": 0
      },
      "text/plain": [
       "[NeRF] Rendering:   0%|          | 0/157 [00:00<?, ?it/s]"
      ]
     },
     "metadata": {},
     "output_type": "display_data"
    },
    {
     "data": {
      "application/vnd.jupyter.widget-view+json": {
       "model_id": "2e0368364d4541ff820326772f7817f6",
       "version_major": 2,
       "version_minor": 0
      },
      "text/plain": [
       "[NeRF] Rendering:   0%|          | 0/157 [00:00<?, ?it/s]"
      ]
     },
     "metadata": {},
     "output_type": "display_data"
    },
    {
     "data": {
      "application/vnd.jupyter.widget-view+json": {
       "model_id": "8a8eeea065c94277a6a74adf3556612f",
       "version_major": 2,
       "version_minor": 0
      },
      "text/plain": [
       "[NeRF] Rendering:   0%|          | 0/157 [00:00<?, ?it/s]"
      ]
     },
     "metadata": {},
     "output_type": "display_data"
    },
    {
     "data": {
      "application/vnd.jupyter.widget-view+json": {
       "model_id": "d859f476bb6447c4a17d236245d65f3c",
       "version_major": 2,
       "version_minor": 0
      },
      "text/plain": [
       "[NeRF] Rendering:   0%|          | 0/157 [00:00<?, ?it/s]"
      ]
     },
     "metadata": {},
     "output_type": "display_data"
    },
    {
     "data": {
      "application/vnd.jupyter.widget-view+json": {
       "model_id": "d817885d614e4be884396ec253c30ecd",
       "version_major": 2,
       "version_minor": 0
      },
      "text/plain": [
       "[NeRF] Rendering:   0%|          | 0/157 [00:00<?, ?it/s]"
      ]
     },
     "metadata": {},
     "output_type": "display_data"
    },
    {
     "data": {
      "application/vnd.jupyter.widget-view+json": {
       "model_id": "8a66a6de18c540d8aacbed59b0524448",
       "version_major": 2,
       "version_minor": 0
      },
      "text/plain": [
       "[NeRF] Rendering:   0%|          | 0/157 [00:00<?, ?it/s]"
      ]
     },
     "metadata": {},
     "output_type": "display_data"
    },
    {
     "data": {
      "application/vnd.jupyter.widget-view+json": {
       "model_id": "a1e74987c1844063be6292cc42d86810",
       "version_major": 2,
       "version_minor": 0
      },
      "text/plain": [
       "[NeRF] Rendering:   0%|          | 0/157 [00:00<?, ?it/s]"
      ]
     },
     "metadata": {},
     "output_type": "display_data"
    },
    {
     "data": {
      "application/vnd.jupyter.widget-view+json": {
       "model_id": "f493223d7195420199cce7dbccd95f27",
       "version_major": 2,
       "version_minor": 0
      },
      "text/plain": [
       "[NeRF] Rendering:   0%|          | 0/157 [00:00<?, ?it/s]"
      ]
     },
     "metadata": {},
     "output_type": "display_data"
    },
    {
     "data": {
      "application/vnd.jupyter.widget-view+json": {
       "model_id": "beb76a0c9d124ad48dde2e36b22f797e",
       "version_major": 2,
       "version_minor": 0
      },
      "text/plain": [
       "[NeRF] Rendering:   0%|          | 0/157 [00:00<?, ?it/s]"
      ]
     },
     "metadata": {},
     "output_type": "display_data"
    },
    {
     "data": {
      "application/vnd.jupyter.widget-view+json": {
       "model_id": "434106f6c58a4dbe9947c128a64996bd",
       "version_major": 2,
       "version_minor": 0
      },
      "text/plain": [
       "[NeRF] Rendering:   0%|          | 0/157 [00:00<?, ?it/s]"
      ]
     },
     "metadata": {},
     "output_type": "display_data"
    },
    {
     "data": {
      "application/vnd.jupyter.widget-view+json": {
       "model_id": "eb30fe5fce8242589ebedbfaba285aae",
       "version_major": 2,
       "version_minor": 0
      },
      "text/plain": [
       "[NeRF] Rendering:   0%|          | 0/157 [00:00<?, ?it/s]"
      ]
     },
     "metadata": {},
     "output_type": "display_data"
    },
    {
     "data": {
      "application/vnd.jupyter.widget-view+json": {
       "model_id": "86992d4f7d7444dbb473678068bf5b7a",
       "version_major": 2,
       "version_minor": 0
      },
      "text/plain": [
       "[NeRF] Rendering:   0%|          | 0/157 [00:00<?, ?it/s]"
      ]
     },
     "metadata": {},
     "output_type": "display_data"
    },
    {
     "data": {
      "application/vnd.jupyter.widget-view+json": {
       "model_id": "8d01edb025be45858503ec8ad3468314",
       "version_major": 2,
       "version_minor": 0
      },
      "text/plain": [
       "[NeRF] Rendering:   0%|          | 0/157 [00:00<?, ?it/s]"
      ]
     },
     "metadata": {},
     "output_type": "display_data"
    },
    {
     "data": {
      "application/vnd.jupyter.widget-view+json": {
       "model_id": "e8bdf4efecf045e7aec4e5707ad67f48",
       "version_major": 2,
       "version_minor": 0
      },
      "text/plain": [
       "[NeRF] Rendering:   0%|          | 0/157 [00:00<?, ?it/s]"
      ]
     },
     "metadata": {},
     "output_type": "display_data"
    },
    {
     "data": {
      "application/vnd.jupyter.widget-view+json": {
       "model_id": "955a766e6be847c6a487ca62d0f72c36",
       "version_major": 2,
       "version_minor": 0
      },
      "text/plain": [
       "[NeRF] Rendering:   0%|          | 0/157 [00:00<?, ?it/s]"
      ]
     },
     "metadata": {},
     "output_type": "display_data"
    },
    {
     "data": {
      "application/vnd.jupyter.widget-view+json": {
       "model_id": "a7f8ff34881c43c7a59c5c66f889c217",
       "version_major": 2,
       "version_minor": 0
      },
      "text/plain": [
       "[NeRF] Rendering:   0%|          | 0/157 [00:00<?, ?it/s]"
      ]
     },
     "metadata": {},
     "output_type": "display_data"
    },
    {
     "data": {
      "application/vnd.jupyter.widget-view+json": {
       "model_id": "547e9953ddeb4ac3a1e4e3c05cf7316d",
       "version_major": 2,
       "version_minor": 0
      },
      "text/plain": [
       "[NeRF] Rendering:   0%|          | 0/157 [00:00<?, ?it/s]"
      ]
     },
     "metadata": {},
     "output_type": "display_data"
    },
    {
     "data": {
      "application/vnd.jupyter.widget-view+json": {
       "model_id": "c5c1fc736baa4f38bb834f9a0cdaa9e6",
       "version_major": 2,
       "version_minor": 0
      },
      "text/plain": [
       "[NeRF] Rendering:   0%|          | 0/157 [00:00<?, ?it/s]"
      ]
     },
     "metadata": {},
     "output_type": "display_data"
    },
    {
     "data": {
      "application/vnd.jupyter.widget-view+json": {
       "model_id": "a0795b878d764908af91d6dd2e5e167c",
       "version_major": 2,
       "version_minor": 0
      },
      "text/plain": [
       "[NeRF] Rendering:   0%|          | 0/157 [00:00<?, ?it/s]"
      ]
     },
     "metadata": {},
     "output_type": "display_data"
    },
    {
     "data": {
      "application/vnd.jupyter.widget-view+json": {
       "model_id": "93665c4cc8ad46efa87852eb78a83a3d",
       "version_major": 2,
       "version_minor": 0
      },
      "text/plain": [
       "[NeRF] Rendering:   0%|          | 0/157 [00:00<?, ?it/s]"
      ]
     },
     "metadata": {},
     "output_type": "display_data"
    },
    {
     "data": {
      "application/vnd.jupyter.widget-view+json": {
       "model_id": "43e8046d13694c8ba4193614c8437178",
       "version_major": 2,
       "version_minor": 0
      },
      "text/plain": [
       "[NeRF] Rendering:   0%|          | 0/157 [00:00<?, ?it/s]"
      ]
     },
     "metadata": {},
     "output_type": "display_data"
    },
    {
     "data": {
      "application/vnd.jupyter.widget-view+json": {
       "model_id": "57c14ecd746945e7ba67dcb0f6969f65",
       "version_major": 2,
       "version_minor": 0
      },
      "text/plain": [
       "[NeRF] Rendering:   0%|          | 0/157 [00:00<?, ?it/s]"
      ]
     },
     "metadata": {},
     "output_type": "display_data"
    },
    {
     "data": {
      "application/vnd.jupyter.widget-view+json": {
       "model_id": "92571cf6baea4ec88171517e85e20f19",
       "version_major": 2,
       "version_minor": 0
      },
      "text/plain": [
       "[NeRF] Rendering:   0%|          | 0/157 [00:00<?, ?it/s]"
      ]
     },
     "metadata": {},
     "output_type": "display_data"
    },
    {
     "data": {
      "application/vnd.jupyter.widget-view+json": {
       "model_id": "73b2fa3c7a78433c9f89773f7a3dae4f",
       "version_major": 2,
       "version_minor": 0
      },
      "text/plain": [
       "[NeRF] Rendering:   0%|          | 0/157 [00:00<?, ?it/s]"
      ]
     },
     "metadata": {},
     "output_type": "display_data"
    },
    {
     "data": {
      "application/vnd.jupyter.widget-view+json": {
       "model_id": "b7fa1856aa2747cc9f86712235765cde",
       "version_major": 2,
       "version_minor": 0
      },
      "text/plain": [
       "[NeRF] Rendering:   0%|          | 0/157 [00:00<?, ?it/s]"
      ]
     },
     "metadata": {},
     "output_type": "display_data"
    },
    {
     "data": {
      "application/vnd.jupyter.widget-view+json": {
       "model_id": "b3bf5585baea4cac8ff77162689f1610",
       "version_major": 2,
       "version_minor": 0
      },
      "text/plain": [
       "[NeRF] Rendering:   0%|          | 0/157 [00:00<?, ?it/s]"
      ]
     },
     "metadata": {},
     "output_type": "display_data"
    },
    {
     "data": {
      "application/vnd.jupyter.widget-view+json": {
       "model_id": "8140bb009f2146c08d0503444d2ddb7c",
       "version_major": 2,
       "version_minor": 0
      },
      "text/plain": [
       "[NeRF] Rendering:   0%|          | 0/157 [00:00<?, ?it/s]"
      ]
     },
     "metadata": {},
     "output_type": "display_data"
    },
    {
     "data": {
      "application/vnd.jupyter.widget-view+json": {
       "model_id": "4945fe2b085e43e49efb98e4d425f892",
       "version_major": 2,
       "version_minor": 0
      },
      "text/plain": [
       "[NeRF] Rendering:   0%|          | 0/157 [00:00<?, ?it/s]"
      ]
     },
     "metadata": {},
     "output_type": "display_data"
    },
    {
     "data": {
      "application/vnd.jupyter.widget-view+json": {
       "model_id": "39258ebfd57842b58c070c94e79782b1",
       "version_major": 2,
       "version_minor": 0
      },
      "text/plain": [
       "[NeRF] Rendering:   0%|          | 0/157 [00:00<?, ?it/s]"
      ]
     },
     "metadata": {},
     "output_type": "display_data"
    },
    {
     "data": {
      "application/vnd.jupyter.widget-view+json": {
       "model_id": "ff9a0b2a5eed4d77be212eb9d8d8f136",
       "version_major": 2,
       "version_minor": 0
      },
      "text/plain": [
       "[NeRF] Rendering:   0%|          | 0/157 [00:00<?, ?it/s]"
      ]
     },
     "metadata": {},
     "output_type": "display_data"
    },
    {
     "data": {
      "application/vnd.jupyter.widget-view+json": {
       "model_id": "5ca91b197e3a4d2ea8bda5e8c536db5f",
       "version_major": 2,
       "version_minor": 0
      },
      "text/plain": [
       "[NeRF] Rendering:   0%|          | 0/157 [00:00<?, ?it/s]"
      ]
     },
     "metadata": {},
     "output_type": "display_data"
    },
    {
     "data": {
      "application/vnd.jupyter.widget-view+json": {
       "model_id": "e6b3c6b783dd4f628a1e504969263421",
       "version_major": 2,
       "version_minor": 0
      },
      "text/plain": [
       "[NeRF] Rendering:   0%|          | 0/157 [00:00<?, ?it/s]"
      ]
     },
     "metadata": {},
     "output_type": "display_data"
    },
    {
     "data": {
      "application/vnd.jupyter.widget-view+json": {
       "model_id": "c520b895192d4e799b6c3fdd1480d70c",
       "version_major": 2,
       "version_minor": 0
      },
      "text/plain": [
       "[NeRF] Rendering:   0%|          | 0/157 [00:00<?, ?it/s]"
      ]
     },
     "metadata": {},
     "output_type": "display_data"
    },
    {
     "data": {
      "application/vnd.jupyter.widget-view+json": {
       "model_id": "94e7821299c040d287ce0a3dfd010e08",
       "version_major": 2,
       "version_minor": 0
      },
      "text/plain": [
       "[NeRF] Rendering:   0%|          | 0/157 [00:00<?, ?it/s]"
      ]
     },
     "metadata": {},
     "output_type": "display_data"
    },
    {
     "data": {
      "application/vnd.jupyter.widget-view+json": {
       "model_id": "4dac9d25fdfd4c2ea0cf3181a44eaee1",
       "version_major": 2,
       "version_minor": 0
      },
      "text/plain": [
       "[NeRF] Rendering:   0%|          | 0/157 [00:00<?, ?it/s]"
      ]
     },
     "metadata": {},
     "output_type": "display_data"
    },
    {
     "data": {
      "application/vnd.jupyter.widget-view+json": {
       "model_id": "33119c58f9434f078c17d66bb6657b34",
       "version_major": 2,
       "version_minor": 0
      },
      "text/plain": [
       "[NeRF] Rendering:   0%|          | 0/157 [00:00<?, ?it/s]"
      ]
     },
     "metadata": {},
     "output_type": "display_data"
    },
    {
     "data": {
      "application/vnd.jupyter.widget-view+json": {
       "model_id": "80bcfe29b6fd430d906c8113a150f42c",
       "version_major": 2,
       "version_minor": 0
      },
      "text/plain": [
       "[NeRF] Rendering:   0%|          | 0/157 [00:00<?, ?it/s]"
      ]
     },
     "metadata": {},
     "output_type": "display_data"
    },
    {
     "data": {
      "application/vnd.jupyter.widget-view+json": {
       "model_id": "d4704873af294f24adf7d5e1cc312a32",
       "version_major": 2,
       "version_minor": 0
      },
      "text/plain": [
       "[NeRF] Rendering:   0%|          | 0/157 [00:00<?, ?it/s]"
      ]
     },
     "metadata": {},
     "output_type": "display_data"
    },
    {
     "data": {
      "application/vnd.jupyter.widget-view+json": {
       "model_id": "78bb8fa3a7d54b9e9ab1f977803ba734",
       "version_major": 2,
       "version_minor": 0
      },
      "text/plain": [
       "[NeRF] Rendering:   0%|          | 0/157 [00:00<?, ?it/s]"
      ]
     },
     "metadata": {},
     "output_type": "display_data"
    },
    {
     "data": {
      "application/vnd.jupyter.widget-view+json": {
       "model_id": "a7cefb82138e4035bacad11a7c3f968c",
       "version_major": 2,
       "version_minor": 0
      },
      "text/plain": [
       "[NeRF] Rendering:   0%|          | 0/157 [00:00<?, ?it/s]"
      ]
     },
     "metadata": {},
     "output_type": "display_data"
    },
    {
     "data": {
      "application/vnd.jupyter.widget-view+json": {
       "model_id": "55b44756c7ec462b83120fb2dba0ce22",
       "version_major": 2,
       "version_minor": 0
      },
      "text/plain": [
       "[NeRF] Rendering:   0%|          | 0/157 [00:00<?, ?it/s]"
      ]
     },
     "metadata": {},
     "output_type": "display_data"
    },
    {
     "data": {
      "application/vnd.jupyter.widget-view+json": {
       "model_id": "213becf3f13f4968ae97ba1d4e0c5dfc",
       "version_major": 2,
       "version_minor": 0
      },
      "text/plain": [
       "[NeRF] Rendering:   0%|          | 0/157 [00:00<?, ?it/s]"
      ]
     },
     "metadata": {},
     "output_type": "display_data"
    },
    {
     "data": {
      "application/vnd.jupyter.widget-view+json": {
       "model_id": "0fe5851e1e164268baaeec415f055de4",
       "version_major": 2,
       "version_minor": 0
      },
      "text/plain": [
       "[NeRF] Rendering:   0%|          | 0/157 [00:00<?, ?it/s]"
      ]
     },
     "metadata": {},
     "output_type": "display_data"
    },
    {
     "data": {
      "application/vnd.jupyter.widget-view+json": {
       "model_id": "21b0819f725c434fa96c5189bde26413",
       "version_major": 2,
       "version_minor": 0
      },
      "text/plain": [
       "[NeRF] Rendering:   0%|          | 0/157 [00:00<?, ?it/s]"
      ]
     },
     "metadata": {},
     "output_type": "display_data"
    },
    {
     "data": {
      "application/vnd.jupyter.widget-view+json": {
       "model_id": "0587ae3daa3643f98314cfd7455147ec",
       "version_major": 2,
       "version_minor": 0
      },
      "text/plain": [
       "[NeRF] Rendering:   0%|          | 0/157 [00:00<?, ?it/s]"
      ]
     },
     "metadata": {},
     "output_type": "display_data"
    },
    {
     "data": {
      "application/vnd.jupyter.widget-view+json": {
       "model_id": "7feeb3d6c46b4c2396811fb608a9944a",
       "version_major": 2,
       "version_minor": 0
      },
      "text/plain": [
       "[NeRF] Rendering:   0%|          | 0/157 [00:00<?, ?it/s]"
      ]
     },
     "metadata": {},
     "output_type": "display_data"
    },
    {
     "data": {
      "application/vnd.jupyter.widget-view+json": {
       "model_id": "844ca74dace244e99d138c24b02006e7",
       "version_major": 2,
       "version_minor": 0
      },
      "text/plain": [
       "[NeRF] Rendering:   0%|          | 0/157 [00:00<?, ?it/s]"
      ]
     },
     "metadata": {},
     "output_type": "display_data"
    },
    {
     "data": {
      "application/vnd.jupyter.widget-view+json": {
       "model_id": "d9ec86a3d7394f2199a4a44f95701e17",
       "version_major": 2,
       "version_minor": 0
      },
      "text/plain": [
       "[NeRF] Rendering:   0%|          | 0/157 [00:00<?, ?it/s]"
      ]
     },
     "metadata": {},
     "output_type": "display_data"
    },
    {
     "data": {
      "application/vnd.jupyter.widget-view+json": {
       "model_id": "5f0f4b8d87b74d19933ff08fd007a3cb",
       "version_major": 2,
       "version_minor": 0
      },
      "text/plain": [
       "[NeRF] Rendering:   0%|          | 0/157 [00:00<?, ?it/s]"
      ]
     },
     "metadata": {},
     "output_type": "display_data"
    },
    {
     "data": {
      "application/vnd.jupyter.widget-view+json": {
       "model_id": "9a126c5fd6f24af1b1bec274430ff38a",
       "version_major": 2,
       "version_minor": 0
      },
      "text/plain": [
       "[NeRF] Rendering:   0%|          | 0/157 [00:00<?, ?it/s]"
      ]
     },
     "metadata": {},
     "output_type": "display_data"
    },
    {
     "data": {
      "application/vnd.jupyter.widget-view+json": {
       "model_id": "4f2b1c83c1b14191b68471e74cb930bb",
       "version_major": 2,
       "version_minor": 0
      },
      "text/plain": [
       "[NeRF] Rendering:   0%|          | 0/157 [00:00<?, ?it/s]"
      ]
     },
     "metadata": {},
     "output_type": "display_data"
    },
    {
     "data": {
      "application/vnd.jupyter.widget-view+json": {
       "model_id": "f58958a42f9f4361a5d64cc9af458bcf",
       "version_major": 2,
       "version_minor": 0
      },
      "text/plain": [
       "[NeRF] Rendering:   0%|          | 0/157 [00:00<?, ?it/s]"
      ]
     },
     "metadata": {},
     "output_type": "display_data"
    },
    {
     "data": {
      "application/vnd.jupyter.widget-view+json": {
       "model_id": "9b4b6d08d5334e5cbab7e52d3b8ce47e",
       "version_major": 2,
       "version_minor": 0
      },
      "text/plain": [
       "[NeRF] Rendering:   0%|          | 0/157 [00:00<?, ?it/s]"
      ]
     },
     "metadata": {},
     "output_type": "display_data"
    },
    {
     "data": {
      "application/vnd.jupyter.widget-view+json": {
       "model_id": "c292b357320544b6800c0fcf8a570e7c",
       "version_major": 2,
       "version_minor": 0
      },
      "text/plain": [
       "[NeRF] Rendering:   0%|          | 0/157 [00:00<?, ?it/s]"
      ]
     },
     "metadata": {},
     "output_type": "display_data"
    },
    {
     "data": {
      "application/vnd.jupyter.widget-view+json": {
       "model_id": "049d0c4c589d4c8bae7064927c10d1be",
       "version_major": 2,
       "version_minor": 0
      },
      "text/plain": [
       "[NeRF] Rendering:   0%|          | 0/157 [00:00<?, ?it/s]"
      ]
     },
     "metadata": {},
     "output_type": "display_data"
    },
    {
     "data": {
      "application/vnd.jupyter.widget-view+json": {
       "model_id": "8b25244287e64d778e69902a5e7b580e",
       "version_major": 2,
       "version_minor": 0
      },
      "text/plain": [
       "[NeRF] Rendering:   0%|          | 0/157 [00:00<?, ?it/s]"
      ]
     },
     "metadata": {},
     "output_type": "display_data"
    },
    {
     "data": {
      "application/vnd.jupyter.widget-view+json": {
       "model_id": "d76e481111734b0f9e197baec47aff23",
       "version_major": 2,
       "version_minor": 0
      },
      "text/plain": [
       "[NeRF] Rendering:   0%|          | 0/157 [00:00<?, ?it/s]"
      ]
     },
     "metadata": {},
     "output_type": "display_data"
    },
    {
     "data": {
      "application/vnd.jupyter.widget-view+json": {
       "model_id": "0c197806334f4f288cb24a81bf57fca6",
       "version_major": 2,
       "version_minor": 0
      },
      "text/plain": [
       "[NeRF] Rendering:   0%|          | 0/157 [00:00<?, ?it/s]"
      ]
     },
     "metadata": {},
     "output_type": "display_data"
    },
    {
     "data": {
      "application/vnd.jupyter.widget-view+json": {
       "model_id": "4b0c9d8d13384b33b6e2c61dcced17fe",
       "version_major": 2,
       "version_minor": 0
      },
      "text/plain": [
       "[NeRF] Rendering:   0%|          | 0/157 [00:00<?, ?it/s]"
      ]
     },
     "metadata": {},
     "output_type": "display_data"
    },
    {
     "data": {
      "application/vnd.jupyter.widget-view+json": {
       "model_id": "36f584912c9348238a423d28336f57fa",
       "version_major": 2,
       "version_minor": 0
      },
      "text/plain": [
       "[NeRF] Rendering:   0%|          | 0/157 [00:00<?, ?it/s]"
      ]
     },
     "metadata": {},
     "output_type": "display_data"
    },
    {
     "data": {
      "application/vnd.jupyter.widget-view+json": {
       "model_id": "4de9cf1f7a1e4b00af53bccd4520d30e",
       "version_major": 2,
       "version_minor": 0
      },
      "text/plain": [
       "[NeRF] Rendering:   0%|          | 0/157 [00:00<?, ?it/s]"
      ]
     },
     "metadata": {},
     "output_type": "display_data"
    },
    {
     "data": {
      "application/vnd.jupyter.widget-view+json": {
       "model_id": "4c8638bc3ec749149dc9633dca6e3e3c",
       "version_major": 2,
       "version_minor": 0
      },
      "text/plain": [
       "[NeRF] Rendering:   0%|          | 0/157 [00:00<?, ?it/s]"
      ]
     },
     "metadata": {},
     "output_type": "display_data"
    },
    {
     "data": {
      "application/vnd.jupyter.widget-view+json": {
       "model_id": "4451a9849004471492441d4bc834c829",
       "version_major": 2,
       "version_minor": 0
      },
      "text/plain": [
       "[NeRF] Rendering:   0%|          | 0/157 [00:00<?, ?it/s]"
      ]
     },
     "metadata": {},
     "output_type": "display_data"
    },
    {
     "data": {
      "application/vnd.jupyter.widget-view+json": {
       "model_id": "d60dc7b2d93a445190a2f2c023e201b2",
       "version_major": 2,
       "version_minor": 0
      },
      "text/plain": [
       "[NeRF] Rendering:   0%|          | 0/157 [00:00<?, ?it/s]"
      ]
     },
     "metadata": {},
     "output_type": "display_data"
    },
    {
     "data": {
      "application/vnd.jupyter.widget-view+json": {
       "model_id": "2584e570e2f14fa5848a153fbdd81eb4",
       "version_major": 2,
       "version_minor": 0
      },
      "text/plain": [
       "[NeRF] Rendering:   0%|          | 0/157 [00:00<?, ?it/s]"
      ]
     },
     "metadata": {},
     "output_type": "display_data"
    },
    {
     "data": {
      "application/vnd.jupyter.widget-view+json": {
       "model_id": "d6743bfd6c5b452c88f743714875ec2d",
       "version_major": 2,
       "version_minor": 0
      },
      "text/plain": [
       "[NeRF] Rendering:   0%|          | 0/157 [00:00<?, ?it/s]"
      ]
     },
     "metadata": {},
     "output_type": "display_data"
    },
    {
     "data": {
      "application/vnd.jupyter.widget-view+json": {
       "model_id": "e644ff616246415abad89ca235478978",
       "version_major": 2,
       "version_minor": 0
      },
      "text/plain": [
       "[NeRF] Rendering:   0%|          | 0/157 [00:00<?, ?it/s]"
      ]
     },
     "metadata": {},
     "output_type": "display_data"
    },
    {
     "data": {
      "application/vnd.jupyter.widget-view+json": {
       "model_id": "52bee791a8d0430783fabcae9a93337b",
       "version_major": 2,
       "version_minor": 0
      },
      "text/plain": [
       "[NeRF] Rendering:   0%|          | 0/157 [00:00<?, ?it/s]"
      ]
     },
     "metadata": {},
     "output_type": "display_data"
    },
    {
     "data": {
      "application/vnd.jupyter.widget-view+json": {
       "model_id": "86753405b4bc459aa1e6c3c2fb637652",
       "version_major": 2,
       "version_minor": 0
      },
      "text/plain": [
       "[NeRF] Rendering:   0%|          | 0/157 [00:00<?, ?it/s]"
      ]
     },
     "metadata": {},
     "output_type": "display_data"
    },
    {
     "data": {
      "application/vnd.jupyter.widget-view+json": {
       "model_id": "c235f07870ba44ba90a5027f193b5a54",
       "version_major": 2,
       "version_minor": 0
      },
      "text/plain": [
       "[NeRF] Rendering:   0%|          | 0/157 [00:00<?, ?it/s]"
      ]
     },
     "metadata": {},
     "output_type": "display_data"
    },
    {
     "data": {
      "application/vnd.jupyter.widget-view+json": {
       "model_id": "13f2c3e92e5341269b48263540ad5e69",
       "version_major": 2,
       "version_minor": 0
      },
      "text/plain": [
       "[NeRF] Rendering:   0%|          | 0/157 [00:00<?, ?it/s]"
      ]
     },
     "metadata": {},
     "output_type": "display_data"
    },
    {
     "data": {
      "application/vnd.jupyter.widget-view+json": {
       "model_id": "cc0c5eff4a874367a4dba6efcf7d30c0",
       "version_major": 2,
       "version_minor": 0
      },
      "text/plain": [
       "[NeRF] Rendering:   0%|          | 0/157 [00:00<?, ?it/s]"
      ]
     },
     "metadata": {},
     "output_type": "display_data"
    },
    {
     "data": {
      "application/vnd.jupyter.widget-view+json": {
       "model_id": "f633f8b365844a48b576dba20a9c4b49",
       "version_major": 2,
       "version_minor": 0
      },
      "text/plain": [
       "[NeRF] Rendering:   0%|          | 0/157 [00:00<?, ?it/s]"
      ]
     },
     "metadata": {},
     "output_type": "display_data"
    },
    {
     "data": {
      "application/vnd.jupyter.widget-view+json": {
       "model_id": "3e27e486afde474e8dff8eae05cbf9b0",
       "version_major": 2,
       "version_minor": 0
      },
      "text/plain": [
       "[NeRF] Rendering:   0%|          | 0/157 [00:00<?, ?it/s]"
      ]
     },
     "metadata": {},
     "output_type": "display_data"
    },
    {
     "data": {
      "application/vnd.jupyter.widget-view+json": {
       "model_id": "d7115965985f4cbbaadfa3d53edef77f",
       "version_major": 2,
       "version_minor": 0
      },
      "text/plain": [
       "[NeRF] Rendering:   0%|          | 0/157 [00:00<?, ?it/s]"
      ]
     },
     "metadata": {},
     "output_type": "display_data"
    },
    {
     "data": {
      "application/vnd.jupyter.widget-view+json": {
       "model_id": "bb779286f50d42d3a98f92f5e65d5995",
       "version_major": 2,
       "version_minor": 0
      },
      "text/plain": [
       "[NeRF] Rendering:   0%|          | 0/157 [00:00<?, ?it/s]"
      ]
     },
     "metadata": {},
     "output_type": "display_data"
    },
    {
     "data": {
      "application/vnd.jupyter.widget-view+json": {
       "model_id": "827472f064c34f6eab4dd0a0e6d8894f",
       "version_major": 2,
       "version_minor": 0
      },
      "text/plain": [
       "[NeRF] Rendering:   0%|          | 0/157 [00:00<?, ?it/s]"
      ]
     },
     "metadata": {},
     "output_type": "display_data"
    },
    {
     "data": {
      "application/vnd.jupyter.widget-view+json": {
       "model_id": "986a1760f0164fbb8cfe59b2344a2512",
       "version_major": 2,
       "version_minor": 0
      },
      "text/plain": [
       "[NeRF] Rendering:   0%|          | 0/157 [00:00<?, ?it/s]"
      ]
     },
     "metadata": {},
     "output_type": "display_data"
    },
    {
     "data": {
      "application/vnd.jupyter.widget-view+json": {
       "model_id": "155d42660b1c4f6a84dc9c03ce2c19fd",
       "version_major": 2,
       "version_minor": 0
      },
      "text/plain": [
       "[NeRF] Rendering:   0%|          | 0/157 [00:00<?, ?it/s]"
      ]
     },
     "metadata": {},
     "output_type": "display_data"
    },
    {
     "data": {
      "application/vnd.jupyter.widget-view+json": {
       "model_id": "9c81eb0f4c934ee695dc042ae72313da",
       "version_major": 2,
       "version_minor": 0
      },
      "text/plain": [
       "[NeRF] Rendering:   0%|          | 0/157 [00:00<?, ?it/s]"
      ]
     },
     "metadata": {},
     "output_type": "display_data"
    },
    {
     "data": {
      "application/vnd.jupyter.widget-view+json": {
       "model_id": "d1048bfc4cb845239920ec90f0008094",
       "version_major": 2,
       "version_minor": 0
      },
      "text/plain": [
       "[NeRF] Rendering:   0%|          | 0/157 [00:00<?, ?it/s]"
      ]
     },
     "metadata": {},
     "output_type": "display_data"
    },
    {
     "data": {
      "application/vnd.jupyter.widget-view+json": {
       "model_id": "ad19fd22062e49eeb1a8a60a4b2f5df5",
       "version_major": 2,
       "version_minor": 0
      },
      "text/plain": [
       "[NeRF] Rendering:   0%|          | 0/157 [00:00<?, ?it/s]"
      ]
     },
     "metadata": {},
     "output_type": "display_data"
    },
    {
     "data": {
      "application/vnd.jupyter.widget-view+json": {
       "model_id": "92bc46f0b24d4b31b6dcc2ebc1e1d547",
       "version_major": 2,
       "version_minor": 0
      },
      "text/plain": [
       "[NeRF] Rendering:   0%|          | 0/157 [00:00<?, ?it/s]"
      ]
     },
     "metadata": {},
     "output_type": "display_data"
    },
    {
     "data": {
      "application/vnd.jupyter.widget-view+json": {
       "model_id": "5eb905e225ed4b03b50a5209051cea09",
       "version_major": 2,
       "version_minor": 0
      },
      "text/plain": [
       "[NeRF] Rendering:   0%|          | 0/157 [00:00<?, ?it/s]"
      ]
     },
     "metadata": {},
     "output_type": "display_data"
    },
    {
     "data": {
      "application/vnd.jupyter.widget-view+json": {
       "model_id": "d97ae34927014287a8042a927a3e2576",
       "version_major": 2,
       "version_minor": 0
      },
      "text/plain": [
       "[NeRF] Rendering:   0%|          | 0/157 [00:00<?, ?it/s]"
      ]
     },
     "metadata": {},
     "output_type": "display_data"
    },
    {
     "data": {
      "application/vnd.jupyter.widget-view+json": {
       "model_id": "792930cc015d4037a05cca7e99797b96",
       "version_major": 2,
       "version_minor": 0
      },
      "text/plain": [
       "[NeRF] Rendering:   0%|          | 0/157 [00:00<?, ?it/s]"
      ]
     },
     "metadata": {},
     "output_type": "display_data"
    },
    {
     "data": {
      "application/vnd.jupyter.widget-view+json": {
       "model_id": "9c4fcdad27264652a0777200c7f0a231",
       "version_major": 2,
       "version_minor": 0
      },
      "text/plain": [
       "[NeRF] Rendering:   0%|          | 0/157 [00:00<?, ?it/s]"
      ]
     },
     "metadata": {},
     "output_type": "display_data"
    },
    {
     "data": {
      "application/vnd.jupyter.widget-view+json": {
       "model_id": "0aa03b37f60348f596ff001c5763942c",
       "version_major": 2,
       "version_minor": 0
      },
      "text/plain": [
       "[NeRF] Rendering:   0%|          | 0/157 [00:00<?, ?it/s]"
      ]
     },
     "metadata": {},
     "output_type": "display_data"
    },
    {
     "data": {
      "application/vnd.jupyter.widget-view+json": {
       "model_id": "102ed0d49f06439ead897a085782b1c2",
       "version_major": 2,
       "version_minor": 0
      },
      "text/plain": [
       "[NeRF] Rendering:   0%|          | 0/157 [00:00<?, ?it/s]"
      ]
     },
     "metadata": {},
     "output_type": "display_data"
    },
    {
     "data": {
      "application/vnd.jupyter.widget-view+json": {
       "model_id": "1061f7b995aa481bb89fe69e33fd1e12",
       "version_major": 2,
       "version_minor": 0
      },
      "text/plain": [
       "[NeRF] Rendering:   0%|          | 0/157 [00:00<?, ?it/s]"
      ]
     },
     "metadata": {},
     "output_type": "display_data"
    },
    {
     "data": {
      "application/vnd.jupyter.widget-view+json": {
       "model_id": "3bad47a3c2dd45f6a5fa53ca386a7031",
       "version_major": 2,
       "version_minor": 0
      },
      "text/plain": [
       "[NeRF] Rendering:   0%|          | 0/157 [00:00<?, ?it/s]"
      ]
     },
     "metadata": {},
     "output_type": "display_data"
    },
    {
     "data": {
      "application/vnd.jupyter.widget-view+json": {
       "model_id": "952092cab0e84d5ea57295ff23c30537",
       "version_major": 2,
       "version_minor": 0
      },
      "text/plain": [
       "[NeRF] Rendering:   0%|          | 0/157 [00:00<?, ?it/s]"
      ]
     },
     "metadata": {},
     "output_type": "display_data"
    },
    {
     "data": {
      "application/vnd.jupyter.widget-view+json": {
       "model_id": "0ec1a60f4614429d9ee7bdfac1cd2a6f",
       "version_major": 2,
       "version_minor": 0
      },
      "text/plain": [
       "[NeRF] Rendering:   0%|          | 0/157 [00:00<?, ?it/s]"
      ]
     },
     "metadata": {},
     "output_type": "display_data"
    },
    {
     "data": {
      "application/vnd.jupyter.widget-view+json": {
       "model_id": "d5b87c17189a4039a76582dfcbf4a5c1",
       "version_major": 2,
       "version_minor": 0
      },
      "text/plain": [
       "[NeRF] Rendering:   0%|          | 0/157 [00:00<?, ?it/s]"
      ]
     },
     "metadata": {},
     "output_type": "display_data"
    },
    {
     "data": {
      "application/vnd.jupyter.widget-view+json": {
       "model_id": "c3e40639a2ab431282818d3e602cf138",
       "version_major": 2,
       "version_minor": 0
      },
      "text/plain": [
       "[NeRF] Rendering:   0%|          | 0/157 [00:00<?, ?it/s]"
      ]
     },
     "metadata": {},
     "output_type": "display_data"
    },
    {
     "data": {
      "application/vnd.jupyter.widget-view+json": {
       "model_id": "3b2ae4e431df4a66b569af09fe6435d4",
       "version_major": 2,
       "version_minor": 0
      },
      "text/plain": [
       "[NeRF] Rendering:   0%|          | 0/157 [00:00<?, ?it/s]"
      ]
     },
     "metadata": {},
     "output_type": "display_data"
    },
    {
     "data": {
      "application/vnd.jupyter.widget-view+json": {
       "model_id": "3c426a50e95f4e5582777a2dc0cc75e3",
       "version_major": 2,
       "version_minor": 0
      },
      "text/plain": [
       "[NeRF] Rendering:   0%|          | 0/157 [00:00<?, ?it/s]"
      ]
     },
     "metadata": {},
     "output_type": "display_data"
    },
    {
     "data": {
      "application/vnd.jupyter.widget-view+json": {
       "model_id": "b9a82fc4b9b64e2ebeaad03bbd86c906",
       "version_major": 2,
       "version_minor": 0
      },
      "text/plain": [
       "[NeRF] Rendering:   0%|          | 0/157 [00:00<?, ?it/s]"
      ]
     },
     "metadata": {},
     "output_type": "display_data"
    },
    {
     "data": {
      "application/vnd.jupyter.widget-view+json": {
       "model_id": "3a843e3d43ba47628458ffaccb0a1783",
       "version_major": 2,
       "version_minor": 0
      },
      "text/plain": [
       "[NeRF] Rendering:   0%|          | 0/157 [00:00<?, ?it/s]"
      ]
     },
     "metadata": {},
     "output_type": "display_data"
    },
    {
     "data": {
      "application/vnd.jupyter.widget-view+json": {
       "model_id": "aa3eeba5ee244c229f7a1c3f5f24a316",
       "version_major": 2,
       "version_minor": 0
      },
      "text/plain": [
       "[NeRF] Rendering:   0%|          | 0/157 [00:00<?, ?it/s]"
      ]
     },
     "metadata": {},
     "output_type": "display_data"
    },
    {
     "data": {
      "application/vnd.jupyter.widget-view+json": {
       "model_id": "154ed960ed034cf2bd895746296a089c",
       "version_major": 2,
       "version_minor": 0
      },
      "text/plain": [
       "[NeRF] Rendering:   0%|          | 0/157 [00:00<?, ?it/s]"
      ]
     },
     "metadata": {},
     "output_type": "display_data"
    },
    {
     "data": {
      "application/vnd.jupyter.widget-view+json": {
       "model_id": "57d76588349241b8a4f3b2b0a91ee283",
       "version_major": 2,
       "version_minor": 0
      },
      "text/plain": [
       "[NeRF] Rendering:   0%|          | 0/157 [00:00<?, ?it/s]"
      ]
     },
     "metadata": {},
     "output_type": "display_data"
    },
    {
     "data": {
      "application/vnd.jupyter.widget-view+json": {
       "model_id": "268ff95978244176954a3be53e95364a",
       "version_major": 2,
       "version_minor": 0
      },
      "text/plain": [
       "[NeRF] Rendering:   0%|          | 0/157 [00:00<?, ?it/s]"
      ]
     },
     "metadata": {},
     "output_type": "display_data"
    },
    {
     "data": {
      "application/vnd.jupyter.widget-view+json": {
       "model_id": "8c2886e871354a3d93abb4e0f2b84e40",
       "version_major": 2,
       "version_minor": 0
      },
      "text/plain": [
       "[NeRF] Rendering:   0%|          | 0/157 [00:00<?, ?it/s]"
      ]
     },
     "metadata": {},
     "output_type": "display_data"
    },
    {
     "data": {
      "application/vnd.jupyter.widget-view+json": {
       "model_id": "aa056e867f174a5bbfcc7df1f9e0efac",
       "version_major": 2,
       "version_minor": 0
      },
      "text/plain": [
       "[NeRF] Rendering:   0%|          | 0/157 [00:00<?, ?it/s]"
      ]
     },
     "metadata": {},
     "output_type": "display_data"
    },
    {
     "data": {
      "application/vnd.jupyter.widget-view+json": {
       "model_id": "5348426872c04ff6ae5e00a31f347085",
       "version_major": 2,
       "version_minor": 0
      },
      "text/plain": [
       "[NeRF] Rendering:   0%|          | 0/157 [00:00<?, ?it/s]"
      ]
     },
     "metadata": {},
     "output_type": "display_data"
    },
    {
     "data": {
      "application/vnd.jupyter.widget-view+json": {
       "model_id": "f9cf54d8fdb7430eb5b41068d9a70f99",
       "version_major": 2,
       "version_minor": 0
      },
      "text/plain": [
       "[NeRF] Rendering:   0%|          | 0/157 [00:00<?, ?it/s]"
      ]
     },
     "metadata": {},
     "output_type": "display_data"
    },
    {
     "data": {
      "application/vnd.jupyter.widget-view+json": {
       "model_id": "cc9a5b953fa54e91880e3a52fbda6f75",
       "version_major": 2,
       "version_minor": 0
      },
      "text/plain": [
       "[NeRF] Rendering:   0%|          | 0/157 [00:00<?, ?it/s]"
      ]
     },
     "metadata": {},
     "output_type": "display_data"
    },
    {
     "data": {
      "application/vnd.jupyter.widget-view+json": {
       "model_id": "8d0fed7a4a1341ac9805fb9466b304fc",
       "version_major": 2,
       "version_minor": 0
      },
      "text/plain": [
       "[NeRF] Rendering:   0%|          | 0/157 [00:00<?, ?it/s]"
      ]
     },
     "metadata": {},
     "output_type": "display_data"
    },
    {
     "data": {
      "application/vnd.jupyter.widget-view+json": {
       "model_id": "aca4a3c3a21947518d7929049a85634c",
       "version_major": 2,
       "version_minor": 0
      },
      "text/plain": [
       "[NeRF] Rendering:   0%|          | 0/157 [00:00<?, ?it/s]"
      ]
     },
     "metadata": {},
     "output_type": "display_data"
    },
    {
     "data": {
      "application/vnd.jupyter.widget-view+json": {
       "model_id": "595e95fe7725400cb2cc5f33e357912a",
       "version_major": 2,
       "version_minor": 0
      },
      "text/plain": [
       "[NeRF] Rendering:   0%|          | 0/157 [00:00<?, ?it/s]"
      ]
     },
     "metadata": {},
     "output_type": "display_data"
    },
    {
     "data": {
      "application/vnd.jupyter.widget-view+json": {
       "model_id": "71d0f92a71f24b9eb2eb956cb7fef28d",
       "version_major": 2,
       "version_minor": 0
      },
      "text/plain": [
       "[NeRF] Rendering:   0%|          | 0/157 [00:00<?, ?it/s]"
      ]
     },
     "metadata": {},
     "output_type": "display_data"
    },
    {
     "name": "stdout",
     "output_type": "stream",
     "text": [
      "[Setup] Rendering Done \n",
      "MoviePy - Building file ./res/NeRF_hotdog_pred.gif with imageio.\n"
     ]
    },
    {
     "name": "stderr",
     "output_type": "stream",
     "text": [
      "                                                                                                                                                                                                                     "
     ]
    }
   ],
   "source": [
    "inferer = Inferer(InferConfig(), verbose=True)\n",
    "inferer.display()"
   ]
  }
 ],
 "metadata": {
  "interpreter": {
   "hash": "31f2aee4e71d21fbe5cf8b01ff0e069b9275f58929596ceb00d14d90e3e16cd6"
  },
  "kernelspec": {
   "display_name": "Python 3 (ipykernel)",
   "language": "python",
   "name": "python3"
  },
  "language_info": {
   "codemirror_mode": {
    "name": "ipython",
    "version": 3
   },
   "file_extension": ".py",
   "mimetype": "text/x-python",
   "name": "python",
   "nbconvert_exporter": "python",
   "pygments_lexer": "ipython3",
   "version": "3.8.10"
  }
 },
 "nbformat": 4,
 "nbformat_minor": 2
}
