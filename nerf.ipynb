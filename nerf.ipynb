{
 "cells": [
  {
   "cell_type": "markdown",
   "metadata": {},
   "source": [
    "# NeRF: Neural Radiance Field"
   ]
  },
  {
   "cell_type": "markdown",
   "metadata": {},
   "source": [
    "## Imports"
   ]
  },
  {
   "cell_type": "code",
   "execution_count": 1,
   "metadata": {},
   "outputs": [],
   "source": [
    "import os\n",
    "\n",
    "import matplotlib.pyplot as plt\n",
    "import nerf.infer\n",
    "import nerf.train\n",
    "import numpy as np\n",
    "import torch\n",
    "import torch.jit as jit\n",
    "\n",
    "from ipynb.config import RenderConfig, TrainConfig\n",
    "from ipynb.train import Trainer\n",
    "from ipywidgets import widgets\n",
    "from moviepy.editor import ImageSequenceClip\n",
    "from nerf.data import BlenderDataset\n",
    "from nerf.core import NeRF\n",
    "from nerf.core import BoundedVolumeRaymarcher as BVR\n",
    "from PIL import Image\n",
    "from torch.cuda.amp import GradScaler\n",
    "from torch.nn import MSELoss\n",
    "from torch.optim import Adam\n",
    "from tqdm.auto import tqdm\n",
    "\n",
    "torch.backends.cudnn.benchmark = True\n",
    "%matplotlib inline"
   ]
  },
  {
   "cell_type": "markdown",
   "metadata": {},
   "source": [
    "## Train"
   ]
  },
  {
   "cell_type": "code",
   "execution_count": 2,
   "metadata": {},
   "outputs": [
    {
     "data": {
      "application/vnd.jupyter.widget-view+json": {
       "model_id": "003f7ade80bd43459ff2556ccdba72e3",
       "version_major": 2,
       "version_minor": 0
      },
      "text/plain": [
       "VBox(children=(Tab(children=(GridspecLayout(children=(Dropdown(description='Scene', index=3, layout=Layout(gri…"
      ]
     },
     "metadata": {},
     "output_type": "display_data"
    },
    {
     "data": {
      "application/vnd.jupyter.widget-view+json": {
       "model_id": "0823e3068be6470485b81b8d653b2146",
       "version_major": 2,
       "version_minor": 0
      },
      "text/plain": [
       "[BlenderDataset(hotdog, train)] Loading Data:   0%|          | 0/100 [00:00<?, ?it/s]"
      ]
     },
     "metadata": {},
     "output_type": "display_data"
    },
    {
     "data": {
      "application/vnd.jupyter.widget-view+json": {
       "model_id": "375128326ffa4ef587934766f2732afd",
       "version_major": 2,
       "version_minor": 0
      },
      "text/plain": [
       "[BlenderDataset(hotdog, train)] Building Rays:   0%|          | 0/100 [00:00<?, ?it/s]"
      ]
     },
     "metadata": {},
     "output_type": "display_data"
    },
    {
     "name": "stdout",
     "output_type": "stream",
     "text": [
      "[Setup] Dataset Ready\n",
      "[Setup] Model Ready\n",
      "[Setup] Raymarcher Ready\n",
      "[Setup] Optimsuite Ready\n",
      "[Train] Fitting\n",
      "[Train] Fitting Done\n"
     ]
    }
   ],
   "source": [
    "trainer = Trainer(TrainConfig())\n",
    "trainer.display()"
   ]
  },
  {
   "cell_type": "code",
   "execution_count": 16,
   "metadata": {},
   "outputs": [
    {
     "data": {
      "image/png": "[encoded data removed]",
      "text/plain": [
       "<Figure size 432x288 with 1 Axes>"
      ]
     },
     "metadata": {
      "needs_background": "light"
     },
     "output_type": "display_data"
    },
    {
     "data": {
      "image/png": "[encoded data removed]",
      "text/plain": [
       "<Figure size 432x288 with 1 Axes>"
      ]
     },
     "metadata": {
      "needs_background": "light"
     },
     "output_type": "display_data"
    }
   ],
   "source": [
    "H = trainer.history\n",
    "\n",
    "plt.figure()\n",
    "plt.title(\"MSE\")\n",
    "plt.plot([mse for mse, _ in H.train], label=\"train\")\n",
    "plt.show()\n",
    "\n",
    "plt.figure()\n",
    "plt.title(\"PSNR\")\n",
    "plt.plot([psnr for _, psnr in H.train], label=\"train\")\n",
    "plt.show()"
   ]
  },
  {
   "cell_type": "markdown",
   "metadata": {},
   "source": [
    "## Inference"
   ]
  },
  {
   "cell_type": "markdown",
   "metadata": {},
   "source": [
    "### Setup"
   ]
  },
  {
   "cell_type": "code",
   "execution_count": 17,
   "metadata": {},
   "outputs": [
    {
     "data": {
      "application/vnd.jupyter.widget-view+json": {
       "model_id": "58f6a9c577e0473890986aa1a423c418",
       "version_major": 2,
       "version_minor": 0
      },
      "text/plain": [
       "Tab(children=(GridspecLayout(children=(Dropdown(description='Scene', index=3, layout=Layout(grid_area='widget0…"
      ]
     },
     "metadata": {},
     "output_type": "display_data"
    }
   ],
   "source": [
    "rcfg = RenderConfig()\n",
    "rcfg.display()"
   ]
  },
  {
   "cell_type": "markdown",
   "metadata": {},
   "source": [
    "### Data"
   ]
  },
  {
   "cell_type": "code",
   "execution_count": 19,
   "metadata": {},
   "outputs": [
    {
     "data": {
      "application/vnd.jupyter.widget-view+json": {
       "model_id": "77faf5e255514336a4bb2296c5f97d9e",
       "version_major": 2,
       "version_minor": 0
      },
      "text/plain": [
       "[BlenderDataset(hotdog, val)] Loading Data:   0%|          | 0/5 [00:00<?, ?it/s]"
      ]
     },
     "metadata": {},
     "output_type": "display_data"
    },
    {
     "data": {
      "application/vnd.jupyter.widget-view+json": {
       "model_id": "f712b2de6c7743739d9b71ccee19b0d5",
       "version_major": 2,
       "version_minor": 0
      },
      "text/plain": [
       "[BlenderDataset(hotdog, val)] Building Rays:   0%|          | 0/5 [00:00<?, ?it/s]"
      ]
     },
     "metadata": {},
     "output_type": "display_data"
    }
   ],
   "source": [
    "val = BlenderDataset(rcfg.blender, rcfg.scene(), \"val\", step=rcfg.step(), scale=rcfg.scale())"
   ]
  },
  {
   "cell_type": "code",
   "execution_count": 20,
   "metadata": {},
   "outputs": [],
   "source": [
    "theta = -1 / 6 * np.pi, -1 / 6 * np.pi\n",
    "phi = -np.pi, np.pi\n",
    "radius = 4."
   ]
  },
  {
   "cell_type": "code",
   "execution_count": 21,
   "metadata": {},
   "outputs": [
    {
     "data": {
      "application/vnd.jupyter.widget-view+json": {
       "model_id": "1c341980000849e2852f1d8dc2b16038",
       "version_major": 2,
       "version_minor": 0
      },
      "text/plain": [
       "[BlenderDataset(hotdog, val)] Building Rays:   0%|          | 0/120 [00:00<?, ?it/s]"
      ]
     },
     "metadata": {},
     "output_type": "display_data"
    }
   ],
   "source": [
    "ros, rds = val.turnaround_data(theta=theta, phi=phi, radius=radius, samples=rcfg.frames())\n",
    "W, H = val.W, val.H\n",
    "S = W * H\n",
    "n = len(ros)"
   ]
  },
  {
   "cell_type": "markdown",
   "metadata": {},
   "source": [
    "### Model"
   ]
  },
  {
   "cell_type": "code",
   "execution_count": 22,
   "metadata": {},
   "outputs": [],
   "source": [
    "nerf = jit.load(rcfg.model_ts).cuda()\n",
    "raymarcher = BVR(*rcfg.t(), samples=rcfg.samples())\n",
    "\n",
    "nerf.infer = lambda *args, **kwargs: NeRF.infer(nerf, *args, **kwargs)"
   ]
  },
  {
   "cell_type": "markdown",
   "metadata": {},
   "source": [
    "### Inference"
   ]
  },
  {
   "cell_type": "code",
   "execution_count": 23,
   "metadata": {
    "scrolled": true
   },
   "outputs": [
    {
     "data": {
      "application/vnd.jupyter.widget-view+json": {
       "model_id": "60381e8d39934fa3b1b6d3e75af2b250",
       "version_major": 2,
       "version_minor": 0
      },
      "text/plain": [
       "[NeRF] Frame:   0%|          | 0/120 [00:00<?, ?it/s]"
      ]
     },
     "metadata": {},
     "output_type": "display_data"
    }
   ],
   "source": [
    "preds = np.zeros((rcfg.frames(), W, H, 3), dtype=np.uint8)\n",
    "pbar = tqdm(range(0, n, S), desc=\"[NeRF] Frame\")\n",
    "for i, s in enumerate(pbar):\n",
    "    ro, rd = ros[s:s + S], rds[s:s + S]\n",
    "    pred = nerf.infer(raymarcher, ro, rd, W, H, batch_size=rcfg.batch_size(), verbose=False)\n",
    "    preds[i] = pred.numpy().astype(np.uint8)"
   ]
  },
  {
   "cell_type": "code",
   "execution_count": 24,
   "metadata": {},
   "outputs": [
    {
     "name": "stdout",
     "output_type": "stream",
     "text": [
      "MoviePy - Building file ./res/NeRF_hotdog_pred.gif with imageio.\n"
     ]
    },
    {
     "name": "stderr",
     "output_type": "stream",
     "text": [
      "                                                                                                                                                                   \r"
     ]
    }
   ],
   "source": [
    "clip = ImageSequenceClip(list(preds), durations=[1. / rcfg.fps()] * rcfg.frames())\n",
    "clip.write_gif(rcfg.pred_gif, fps=rcfg.fps())"
   ]
  },
  {
   "cell_type": "code",
   "execution_count": 25,
   "metadata": {},
   "outputs": [
    {
     "data": {
      "application/vnd.jupyter.widget-view+json": {
       "model_id": "c6f0f76ee1e142d8a2c683137101692a",
       "version_major": 2,
       "version_minor": 0
      },
      "text/plain": [
       "Image(value=b'GIF89a \\x03 \\x03\\x87\\x00\\x00`N2VE-TC,RB+QA*P@)O?)N>)M>(M=\\'L=(L<&K<\\'K<&K;%J<\\'J;&I;&I:%I9\"H:&H9…"
      ]
     },
     "metadata": {},
     "output_type": "display_data"
    }
   ],
   "source": [
    "w_gif = widgets.Image(value=b\"\", format=\"gif\", width=256, height=256)\n",
    "\n",
    "with open(rcfg.pred_gif, \"rb\") as f:\n",
    "    w_gif.value = f.read()\n",
    "    \n",
    "display(w_gif)"
   ]
  }
 ],
 "metadata": {
  "interpreter": {
   "hash": "31f2aee4e71d21fbe5cf8b01ff0e069b9275f58929596ceb00d14d90e3e16cd6"
  },
  "kernelspec": {
   "display_name": "Python 3 (ipykernel)",
   "language": "python",
   "name": "python3"
  },
  "language_info": {
   "codemirror_mode": {
    "name": "ipython",
    "version": 3
   },
   "file_extension": ".py",
   "mimetype": "text/x-python",
   "name": "python",
   "nbconvert_exporter": "python",
   "pygments_lexer": "ipython3",
   "version": "3.8.10"
  }
 },
 "nbformat": 4,
 "nbformat_minor": 2
}
