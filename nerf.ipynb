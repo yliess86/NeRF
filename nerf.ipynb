{
 "cells": [
  {
   "cell_type": "markdown",
   "metadata": {},
   "source": [
    "# NeRF: Neural Radiance Field"
   ]
  },
  {
   "cell_type": "markdown",
   "metadata": {},
   "source": [
    "## Imports"
   ]
  },
  {
   "cell_type": "code",
   "execution_count": 1,
   "metadata": {},
   "outputs": [],
   "source": [
    "import matplotlib.pyplot as plt\n",
    "import numpy as np\n",
    "\n",
    "from ipynb.config import InferConfig, TrainConfig\n",
    "from ipynb.infer import Inferer\n",
    "from ipynb.train import Trainer\n",
    "\n",
    "%matplotlib inline"
   ]
  },
  {
   "cell_type": "markdown",
   "metadata": {},
   "source": [
    "## Train"
   ]
  },
  {
   "cell_type": "code",
   "execution_count": 2,
   "metadata": {
    "scrolled": false
   },
   "outputs": [
    {
     "data": {
      "application/vnd.jupyter.widget-view+json": {
       "model_id": "b852e0509e79444292f629ee78793ae8",
       "version_major": 2,
       "version_minor": 0
      },
      "text/plain": [
       "VBox(children=(Tab(children=(GridspecLayout(children=(Dropdown(description='Scene', index=3, layout=Layout(gri…"
      ]
     },
     "metadata": {},
     "output_type": "display_data"
    }
   ],
   "source": [
    "trainer = Trainer(TrainConfig(), verbose=True)\n",
    "trainer.display()"
   ]
  },
  {
   "cell_type": "code",
   "execution_count": 3,
   "metadata": {},
   "outputs": [],
   "source": [
    "if H:= trainer.history:\n",
    "    plt.figure()\n",
    "    plt.title(\"MSE\")\n",
    "    plt.plot([mse for mse, _ in H.train], label=\"train\")\n",
    "    plt.show()\n",
    "\n",
    "    plt.figure()\n",
    "    plt.title(\"PSNR\")\n",
    "    plt.plot([psnr for _, psnr in H.train], label=\"train\")\n",
    "    plt.show()"
   ]
  },
  {
   "cell_type": "markdown",
   "metadata": {},
   "source": [
    "## Inference"
   ]
  },
  {
   "cell_type": "code",
   "execution_count": 3,
   "metadata": {
    "scrolled": false
   },
   "outputs": [
    {
     "data": {
      "application/vnd.jupyter.widget-view+json": {
       "model_id": "cf6b10e0bfb244c3952d5bb81b59c093",
       "version_major": 2,
       "version_minor": 0
      },
      "text/plain": [
       "VBox(children=(Tab(children=(GridspecLayout(children=(Dropdown(description='Scene', index=3, layout=Layout(gri…"
      ]
     },
     "metadata": {},
     "output_type": "display_data"
    }
   ],
   "source": [
    "inferer = Inferer(InferConfig(), verbose=True)\n",
    "inferer.display()"
   ]
  }
 ],
 "metadata": {
  "interpreter": {
   "hash": "31f2aee4e71d21fbe5cf8b01ff0e069b9275f58929596ceb00d14d90e3e16cd6"
  },
  "kernelspec": {
   "display_name": "Python 3 (ipykernel)",
   "language": "python",
   "name": "python3"
  },
  "language_info": {
   "codemirror_mode": {
    "name": "ipython",
    "version": 3
   },
   "file_extension": ".py",
   "mimetype": "text/x-python",
   "name": "python",
   "nbconvert_exporter": "python",
   "pygments_lexer": "ipython3",
   "version": "3.8.10"
  },
  "widgets": {
   "application/vnd.jupyter.widget-state+json": {
    "state": {
     "000323e16dc745c69d75b7554e3da291": {
      "model_module": "@jupyter-widgets/controls",
      "model_module_version": "1.5.0",
      "model_name": "FloatSliderModel",
      "state": {
       "description": "Sigma",
       "layout": "IPY_MODEL_1c05e5c5148a4924ac2d8eab2fe1c7f2",
       "max": 32,
       "min": 1,
       "readout_format": ".1f",
       "style": "IPY_MODEL_db6e386b425b46d899df017dc254685f",
       "value": 26
      }
     },
     "0543ca80287649aba026a3847ea8a700": {
      "model_module": "@jupyter-widgets/controls",
      "model_module_version": "1.5.0",
      "model_name": "ButtonStyleModel",
      "state": {}
     },
     "0694e6af6f194d0a9458fbc1add25c46": {
      "model_module": "@jupyter-widgets/base",
      "model_module_version": "1.2.0",
      "model_name": "LayoutModel",
      "state": {
       "grid_area": "widget002"
      }
     },
     "0a012b186a404a72b36f657bc0fc14df": {
      "model_module": "@jupyter-widgets/controls",
      "model_module_version": "1.5.0",
      "model_name": "TabModel",
      "state": {
       "_titles": {
        "0": "Setup",
        "1": "Train",
        "2": "Viz"
       },
       "children": [
        "IPY_MODEL_ba75d9224ba04e9b92cf200f9dc299e0",
        "IPY_MODEL_9b4650c5dde541d39da53b7b39f3ee0e",
        "IPY_MODEL_30d539a9bc2947ebbff30c00461e27d4"
       ],
       "layout": "IPY_MODEL_36f70e6a45b543e68fb90c3f709ba433"
      }
     },
     "0bd18876cf294693bffea4bb093d184b": {
      "model_module": "@jupyter-widgets/controls",
      "model_module_version": "1.5.0",
      "model_name": "IntSliderModel",
      "state": {
       "description": "FPS",
       "layout": "IPY_MODEL_fe500bbfb94e4d7ab76c475530e0e653",
       "max": 60,
       "min": 1,
       "style": "IPY_MODEL_dba338cdcc5b48cbb86c5c03241d9570",
       "value": 25
      }
     },
     "0fc321a4ca114f78b1d3fbfa372e4e29": {
      "model_module": "@jupyter-widgets/controls",
      "model_module_version": "1.5.0",
      "model_name": "IntSliderModel",
      "state": {
       "description": "Frames",
       "layout": "IPY_MODEL_9b751757a9d545ffae1b1c0000320049",
       "max": 500,
       "min": 1,
       "style": "IPY_MODEL_44304a3b9c4b4661acfa22fc78857015",
       "value": 120
      }
     },
     "103445563d34463881d181d9a8bdd0ca": {
      "model_module": "@jupyter-widgets/controls",
      "model_module_version": "1.5.0",
      "model_name": "FloatSliderModel",
      "state": {
       "description": "Scale",
       "layout": "IPY_MODEL_58e2d42a4f9b41fe8ab2e154c0a7cfc4",
       "max": 1,
       "min": 0.1,
       "readout_format": ".1f",
       "step": 0.1,
       "style": "IPY_MODEL_dfa6ea04441e4c44b87ea6604878561f",
       "value": 0.1
      }
     },
     "1037c308e7b045719d2484d8e0e4daa6": {
      "model_module": "@jupyter-widgets/controls",
      "model_module_version": "1.5.0",
      "model_name": "ButtonStyleModel",
      "state": {}
     },
     "1248320298074d3085896b287201f254": {
      "model_module": "@jupyter-widgets/controls",
      "model_module_version": "1.5.0",
      "model_name": "GridBoxModel",
      "state": {
       "children": [
        "IPY_MODEL_defdb920f8164e69a76a3d8c664850a3",
        "IPY_MODEL_14784df4d1ea4f3c8061ae0942d81db9",
        "IPY_MODEL_9f3b8cc014b0487ab6e110504caea5b9",
        "IPY_MODEL_fca01b5ddb954631999fd6bc74dcbfeb",
        "IPY_MODEL_adc6a186b70c4e478f8dd5ae8648d4c4",
        "IPY_MODEL_77cf0b5e4ed0413e961c65990260a4c3"
       ],
       "layout": "IPY_MODEL_3fbb007b40e54878b418cedb02902bd8"
      }
     },
     "14784df4d1ea4f3c8061ae0942d81db9": {
      "model_module": "@jupyter-widgets/controls",
      "model_module_version": "1.5.0",
      "model_name": "IntSliderModel",
      "state": {
       "description": "Log",
       "layout": "IPY_MODEL_0694e6af6f194d0a9458fbc1add25c46",
       "min": 1,
       "style": "IPY_MODEL_f326961e6473404bab9dece6100bc5eb",
       "value": 5
      }
     },
     "18d37431176c4622a7a73f1f830517aa": {
      "model_module": "@jupyter-widgets/controls",
      "model_module_version": "1.5.0",
      "model_name": "FloatRangeSliderModel",
      "state": {
       "_model_name": "FloatRangeSliderModel",
       "_view_name": "FloatRangeSliderView",
       "description": "Theta",
       "layout": "IPY_MODEL_2828c88f19084af7af62122553b9bb10",
       "max": 6.283185307179586,
       "min": -6.283185307179586,
       "step": 0.1,
       "style": "IPY_MODEL_5222e1e86b164c6298c6eb79093e66c0",
       "value": [
        -0.5235987755982988,
        -0.5235987755982988
       ]
      }
     },
     "1c05e5c5148a4924ac2d8eab2fe1c7f2": {
      "model_module": "@jupyter-widgets/base",
      "model_module_version": "1.2.0",
      "model_name": "LayoutModel",
      "state": {
       "grid_area": "widget002"
      }
     },
     "1d7d185b627d46afb0d6356faf18a4c7": {
      "model_module": "@jupyter-widgets/base",
      "model_module_version": "1.2.0",
      "model_name": "LayoutModel",
      "state": {
       "grid_area": "widget001"
      }
     },
     "24c3c76c1ecb4a5497bd24ba66f3f544": {
      "model_module": "@jupyter-widgets/base",
      "model_module_version": "1.2.0",
      "model_name": "LayoutModel",
      "state": {
       "grid_area": "widget003"
      }
     },
     "259ef0e1bdce4fd9bd63b7756f0873b4": {
      "model_module": "@jupyter-widgets/controls",
      "model_module_version": "1.5.0",
      "model_name": "GridBoxModel",
      "state": {
       "children": [
        "IPY_MODEL_a587fab168064f14bd98bbc8186df83f",
        "IPY_MODEL_f0ae3b754c474c48ba981428168fd189",
        "IPY_MODEL_3dea2c7f2d844e9ba719ac0f7009098e"
       ],
       "layout": "IPY_MODEL_8e4f7b53159a4de5880ed03cdef1d714"
      }
     },
     "264570403e9447bf97c4e6035a43ace1": {
      "model_module": "@jupyter-widgets/controls",
      "model_module_version": "1.5.0",
      "model_name": "GridBoxModel",
      "state": {
       "children": [
        "IPY_MODEL_eed636de4bbc48ce9ddafb2d18620a06",
        "IPY_MODEL_6894514f77614a0f824f1d7bbf02c930",
        "IPY_MODEL_64402ae2002b47bf8c8c798d560f80a1"
       ],
       "layout": "IPY_MODEL_483a276437534a9380d39cd77ef7d474"
      }
     },
     "2828c88f19084af7af62122553b9bb10": {
      "model_module": "@jupyter-widgets/base",
      "model_module_version": "1.2.0",
      "model_name": "LayoutModel",
      "state": {
       "grid_area": "widget002"
      }
     },
     "2941c94662a343b88aff805b54a23401": {
      "model_module": "@jupyter-widgets/controls",
      "model_module_version": "1.5.0",
      "model_name": "TabModel",
      "state": {
       "_titles": {
        "0": "Dataset",
        "1": "Raymarcher",
        "2": "Hyperparams",
        "3": "Inference"
       },
       "children": [
        "IPY_MODEL_f0391164c32f491aba00a834bff13e56",
        "IPY_MODEL_264570403e9447bf97c4e6035a43ace1",
        "IPY_MODEL_76e167e8e768424fa170982f3280f46b",
        "IPY_MODEL_ec53b89d2dd9490fbb9f6577cc8253da"
       ],
       "layout": "IPY_MODEL_766500d5a4aa4b07a99bbcdf71949213"
      }
     },
     "3096494285044b21b97f24b7bec1b7f5": {
      "model_module": "@jupyter-widgets/base",
      "model_module_version": "1.2.0",
      "model_name": "LayoutModel",
      "state": {
       "grid_area": "widget003"
      }
     },
     "30d539a9bc2947ebbff30c00461e27d4": {
      "model_module": "@jupyter-widgets/controls",
      "model_module_version": "1.5.0",
      "model_name": "GridBoxModel",
      "state": {
       "children": [
        "IPY_MODEL_5aee91fd37e5415b9840d8529d2d51d8",
        "IPY_MODEL_a6f29289013844b69170108103ccce41"
       ],
       "layout": "IPY_MODEL_8a131cf3403e46c2b6914f55b13c30c9"
      }
     },
     "30dd1a3ef38b4666beef557318259e1b": {
      "model_module": "@jupyter-widgets/controls",
      "model_module_version": "1.5.0",
      "model_name": "DescriptionStyleModel",
      "state": {
       "description_width": ""
      }
     },
     "33b50b931028494d9d8bc9758ce96fea": {
      "model_module": "@jupyter-widgets/controls",
      "model_module_version": "1.5.0",
      "model_name": "DropdownModel",
      "state": {
       "_options_labels": [
        "chair",
        "drums",
        "ficus",
        "hotdog",
        "lego",
        "materials",
        "mic",
        "ship"
       ],
       "description": "Scene",
       "index": 3,
       "layout": "IPY_MODEL_6bc55f643a7d43fa96cbfb0bd658c98e",
       "style": "IPY_MODEL_ad375d8de5e4477a9153f16e6b1b7ddc"
      }
     },
     "36f70e6a45b543e68fb90c3f709ba433": {
      "model_module": "@jupyter-widgets/base",
      "model_module_version": "1.2.0",
      "model_name": "LayoutModel",
      "state": {}
     },
     "3705e4dd27284c04bf7e657721732942": {
      "model_module": "@jupyter-widgets/base",
      "model_module_version": "1.2.0",
      "model_name": "LayoutModel",
      "state": {
       "grid_area": "widget002"
      }
     },
     "37433ebae55141efbb0bebe84c49b64e": {
      "model_module": "@jupyter-widgets/controls",
      "model_module_version": "1.5.0",
      "model_name": "IntSliderModel",
      "state": {
       "description": "Batch Size",
       "layout": "IPY_MODEL_42c662c2130b4aa1aa8cd823e84e10a0",
       "max": 65536,
       "min": 2,
       "step": 2,
       "style": "IPY_MODEL_7e4b84302fc94d1da0eefa8f64966331",
       "value": 4096
      }
     },
     "37abda82e90d40aba7f2f43a2de42614": {
      "model_module": "@jupyter-widgets/controls",
      "model_module_version": "1.5.0",
      "model_name": "SliderStyleModel",
      "state": {
       "description_width": ""
      }
     },
     "3a062ec1d2464843a6b89511860f6491": {
      "model_module": "@jupyter-widgets/controls",
      "model_module_version": "1.5.0",
      "model_name": "SliderStyleModel",
      "state": {
       "description_width": ""
      }
     },
     "3a74a17279724f859849c7f22ca1b9d7": {
      "model_module": "@jupyter-widgets/base",
      "model_module_version": "1.2.0",
      "model_name": "LayoutModel",
      "state": {
       "grid_area": "widget004"
      }
     },
     "3c56d4ad1dda44378727118564ff5f77": {
      "model_module": "@jupyter-widgets/base",
      "model_module_version": "1.2.0",
      "model_name": "LayoutModel",
      "state": {
       "grid_area": "widget001"
      }
     },
     "3dea2c7f2d844e9ba719ac0f7009098e": {
      "model_module": "@jupyter-widgets/controls",
      "model_module_version": "1.5.0",
      "model_name": "CheckboxModel",
      "state": {
       "description": "Perturb",
       "disabled": false,
       "layout": "IPY_MODEL_4eb975270d46436eb7c709e4343b5c21",
       "style": "IPY_MODEL_541ffc01601e4f76a2832e8382c08e34",
       "value": true
      }
     },
     "3e10bf7a21ff47338829e72fc80f4c04": {
      "model_module": "@jupyter-widgets/controls",
      "model_module_version": "1.5.0",
      "model_name": "IntSliderModel",
      "state": {
       "description": "Features",
       "layout": "IPY_MODEL_f885cf45749542c7a48bcd5b95b30219",
       "max": 2048,
       "min": 32,
       "step": 2,
       "style": "IPY_MODEL_7b54f2eb08a94228bf1fd38d9e6d71c9",
       "value": 256
      }
     },
     "3fbb007b40e54878b418cedb02902bd8": {
      "model_module": "@jupyter-widgets/base",
      "model_module_version": "1.2.0",
      "model_name": "LayoutModel",
      "state": {
       "grid_template_areas": "\"widget001 widget002\"\n\"widget003 widget004\"\n\"widget005 widget006\"",
       "grid_template_columns": "repeat(2, 1fr)",
       "grid_template_rows": "repeat(3, 1fr)"
      }
     },
     "4039340f89f642abaa5cb94cb0916e01": {
      "model_module": "@jupyter-widgets/base",
      "model_module_version": "1.2.0",
      "model_name": "LayoutModel",
      "state": {
       "grid_area": "widget003"
      }
     },
     "42c662c2130b4aa1aa8cd823e84e10a0": {
      "model_module": "@jupyter-widgets/base",
      "model_module_version": "1.2.0",
      "model_name": "LayoutModel",
      "state": {
       "grid_area": "widget001"
      }
     },
     "43ca88d043d54e90a184e5e296e2bf42": {
      "model_module": "@jupyter-widgets/controls",
      "model_module_version": "1.5.0",
      "model_name": "ButtonStyleModel",
      "state": {}
     },
     "44304a3b9c4b4661acfa22fc78857015": {
      "model_module": "@jupyter-widgets/controls",
      "model_module_version": "1.5.0",
      "model_name": "SliderStyleModel",
      "state": {
       "description_width": ""
      }
     },
     "47c5dd4760bc43deb2f3e1667888ebe7": {
      "model_module": "@jupyter-widgets/base",
      "model_module_version": "1.2.0",
      "model_name": "LayoutModel",
      "state": {
       "grid_area": "widget006"
      }
     },
     "483a276437534a9380d39cd77ef7d474": {
      "model_module": "@jupyter-widgets/base",
      "model_module_version": "1.2.0",
      "model_name": "LayoutModel",
      "state": {
       "grid_template_areas": "\"widget001 .\"\n\"widget002 widget003\"",
       "grid_template_columns": "repeat(2, 1fr)",
       "grid_template_rows": "repeat(2, 1fr)"
      }
     },
     "49e397bacfbc4256b22e479db7d3ef54": {
      "model_module": "@jupyter-widgets/base",
      "model_module_version": "1.2.0",
      "model_name": "LayoutModel",
      "state": {
       "grid_area": "widget001"
      }
     },
     "4a9e964100094729a51a44fdc1e23871": {
      "model_module": "@jupyter-widgets/controls",
      "model_module_version": "1.5.0",
      "model_name": "ButtonStyleModel",
      "state": {}
     },
     "4ce68131f5924f15aae77ebd8220b281": {
      "model_module": "@jupyter-widgets/base",
      "model_module_version": "1.2.0",
      "model_name": "LayoutModel",
      "state": {
       "grid_area": "widget001"
      }
     },
     "4eb22a16a7d146f3a834749271016df5": {
      "model_module": "@jupyter-widgets/controls",
      "model_module_version": "1.5.0",
      "model_name": "ButtonModel",
      "state": {
       "description": "Setup Model",
       "layout": "IPY_MODEL_5dbd9d96c2994cb4bb858f741595c3cb",
       "style": "IPY_MODEL_4a9e964100094729a51a44fdc1e23871"
      }
     },
     "4eb975270d46436eb7c709e4343b5c21": {
      "model_module": "@jupyter-widgets/base",
      "model_module_version": "1.2.0",
      "model_name": "LayoutModel",
      "state": {
       "grid_area": "widget003"
      }
     },
     "514b4dbe53a94d309c60b40203aa6bc8": {
      "model_module": "@jupyter-widgets/base",
      "model_module_version": "1.2.0",
      "model_name": "LayoutModel",
      "state": {
       "grid_area": "widget002"
      }
     },
     "5222e1e86b164c6298c6eb79093e66c0": {
      "model_module": "@jupyter-widgets/controls",
      "model_module_version": "1.5.0",
      "model_name": "SliderStyleModel",
      "state": {
       "description_width": ""
      }
     },
     "541ffc01601e4f76a2832e8382c08e34": {
      "model_module": "@jupyter-widgets/controls",
      "model_module_version": "1.5.0",
      "model_name": "DescriptionStyleModel",
      "state": {
       "description_width": ""
      }
     },
     "560ec26d917f479790d71743f2d58128": {
      "model_module": "@jupyter-widgets/controls",
      "model_module_version": "1.5.0",
      "model_name": "GridBoxModel",
      "state": {
       "children": [
        "IPY_MODEL_8ce4e836c3f2448cbb86194a5bbd104e",
        "IPY_MODEL_18d37431176c4622a7a73f1f830517aa",
        "IPY_MODEL_af571570b8e3435b849bcce6b3bc5502"
       ],
       "layout": "IPY_MODEL_8fb397e31b37431192b596a84617237f"
      }
     },
     "561f887f253247f49b037180dd5904c3": {
      "model_module": "@jupyter-widgets/controls",
      "model_module_version": "1.5.0",
      "model_name": "SliderStyleModel",
      "state": {
       "description_width": ""
      }
     },
     "577d14e6836f480d8b178a3349fb3230": {
      "model_module": "@jupyter-widgets/base",
      "model_module_version": "1.2.0",
      "model_name": "LayoutModel",
      "state": {
       "grid_template_areas": "\"widget001 widget002\"\n\"widget003 widget004\"",
       "grid_template_columns": "repeat(2, 1fr)",
       "grid_template_rows": "repeat(2, 1fr)"
      }
     },
     "57cfa0901fb24960bcd28d94497c0c17": {
      "model_module": "@jupyter-widgets/controls",
      "model_module_version": "1.5.0",
      "model_name": "GridBoxModel",
      "state": {
       "children": [
        "IPY_MODEL_f7caef3479494a9399019c16516b0027"
       ],
       "layout": "IPY_MODEL_95e65ce793544e339abbbfff9317f23f"
      }
     },
     "58e2d42a4f9b41fe8ab2e154c0a7cfc4": {
      "model_module": "@jupyter-widgets/base",
      "model_module_version": "1.2.0",
      "model_name": "LayoutModel",
      "state": {
       "grid_area": "widget003"
      }
     },
     "5a795f71bc9441d180ae7c1d11629df1": {
      "model_module": "@jupyter-widgets/controls",
      "model_module_version": "1.5.0",
      "model_name": "SliderStyleModel",
      "state": {
       "description_width": ""
      }
     },
     "5aee91fd37e5415b9840d8529d2d51d8": {
      "model_module": "@jupyter-widgets/controls",
      "model_module_version": "1.5.0",
      "model_name": "ImageModel",
      "state": {
       "height": "256",
       "layout": "IPY_MODEL_6fdb3a095ca248a08deab9fb865c6150",
       "width": "256"
      }
     },
     "5c920b8a5857441289705a285a5184db": {
      "model_module": "@jupyter-widgets/controls",
      "model_module_version": "1.5.0",
      "model_name": "GridBoxModel",
      "state": {
       "children": [
        "IPY_MODEL_d9a33601ac884a06835cdf94fd1df1bc",
        "IPY_MODEL_9fe778f6246440ce8a7d8a97c629afd7",
        "IPY_MODEL_103445563d34463881d181d9a8bdd0ca"
       ],
       "layout": "IPY_MODEL_7acd3371037e4c4e92e4d5e5a2a24998"
      }
     },
     "5dbd9d96c2994cb4bb858f741595c3cb": {
      "model_module": "@jupyter-widgets/base",
      "model_module_version": "1.2.0",
      "model_name": "LayoutModel",
      "state": {
       "grid_area": "widget002"
      }
     },
     "5fab5822a6eb4360920035802a3c9402": {
      "model_module": "@jupyter-widgets/base",
      "model_module_version": "1.2.0",
      "model_name": "LayoutModel",
      "state": {}
     },
     "61d6e1e8f02d43459c878b6901508921": {
      "model_module": "@jupyter-widgets/base",
      "model_module_version": "1.2.0",
      "model_name": "LayoutModel",
      "state": {}
     },
     "64402ae2002b47bf8c8c798d560f80a1": {
      "model_module": "@jupyter-widgets/controls",
      "model_module_version": "1.5.0",
      "model_name": "CheckboxModel",
      "state": {
       "description": "Perturb",
       "disabled": false,
       "layout": "IPY_MODEL_a6959155e69747a98dc292a927bca7fc",
       "style": "IPY_MODEL_f585e120cb0e450498040a9575186e53",
       "value": false
      }
     },
     "64dc31111fe9459194f281cb2fb21b38": {
      "model_module": "@jupyter-widgets/controls",
      "model_module_version": "1.5.0",
      "model_name": "DescriptionStyleModel",
      "state": {
       "description_width": ""
      }
     },
     "671777e88a4340af8043e953a941263f": {
      "model_module": "@jupyter-widgets/controls",
      "model_module_version": "1.5.0",
      "model_name": "SliderStyleModel",
      "state": {
       "description_width": ""
      }
     },
     "6894514f77614a0f824f1d7bbf02c930": {
      "model_module": "@jupyter-widgets/controls",
      "model_module_version": "1.5.0",
      "model_name": "IntSliderModel",
      "state": {
       "description": "Samples",
       "layout": "IPY_MODEL_e546449e78bd477992234ac27570f156",
       "max": 2048,
       "min": 32,
       "step": 2,
       "style": "IPY_MODEL_cfc5d0ecc32240f79d4958bfa0645bbc",
       "value": 128
      }
     },
     "689a1ec73d6d46788ecdccdd55e1b29c": {
      "model_module": "@jupyter-widgets/base",
      "model_module_version": "1.2.0",
      "model_name": "LayoutModel",
      "state": {}
     },
     "6bc55f643a7d43fa96cbfb0bd658c98e": {
      "model_module": "@jupyter-widgets/base",
      "model_module_version": "1.2.0",
      "model_name": "LayoutModel",
      "state": {
       "grid_area": "widget001"
      }
     },
     "6f36a41a16db446883ebb379dc7c287e": {
      "model_module": "@jupyter-widgets/controls",
      "model_module_version": "1.5.0",
      "model_name": "SliderStyleModel",
      "state": {
       "description_width": ""
      }
     },
     "6f6f0e9549ed4166924ab8a3ed992b43": {
      "model_module": "@jupyter-widgets/controls",
      "model_module_version": "1.5.0",
      "model_name": "ButtonStyleModel",
      "state": {}
     },
     "6fdb3a095ca248a08deab9fb865c6150": {
      "model_module": "@jupyter-widgets/base",
      "model_module_version": "1.2.0",
      "model_name": "LayoutModel",
      "state": {
       "grid_area": "widget001"
      }
     },
     "711c76164e3c426284975568ef543582": {
      "model_module": "@jupyter-widgets/base",
      "model_module_version": "1.2.0",
      "model_name": "LayoutModel",
      "state": {
       "grid_area": "widget002"
      }
     },
     "71808ce3d4e14adc915e90a21b01ecde": {
      "model_module": "@jupyter-widgets/controls",
      "model_module_version": "1.5.0",
      "model_name": "GridBoxModel",
      "state": {
       "children": [
        "IPY_MODEL_fc20990f7aa2465d824de3efc8486bd4",
        "IPY_MODEL_4eb22a16a7d146f3a834749271016df5",
        "IPY_MODEL_cdb60b7ae4c24ff9ae6b4a370025e786"
       ],
       "layout": "IPY_MODEL_9d376f253d724e3fa87b61c2aa4b25b8"
      }
     },
     "734f21a2cb4640319e1097ca1321068b": {
      "model_module": "@jupyter-widgets/base",
      "model_module_version": "1.2.0",
      "model_name": "LayoutModel",
      "state": {
       "grid_area": "widget004"
      }
     },
     "766500d5a4aa4b07a99bbcdf71949213": {
      "model_module": "@jupyter-widgets/base",
      "model_module_version": "1.2.0",
      "model_name": "LayoutModel",
      "state": {}
     },
     "76e167e8e768424fa170982f3280f46b": {
      "model_module": "@jupyter-widgets/controls",
      "model_module_version": "1.5.0",
      "model_name": "GridBoxModel",
      "state": {
       "children": [
        "IPY_MODEL_37433ebae55141efbb0bebe84c49b64e",
        "IPY_MODEL_7e457bc67b084ceda092bc1ba84c0ec3"
       ],
       "layout": "IPY_MODEL_f2ee9137e2474fc9b919eccd4c790e31"
      }
     },
     "77cf0b5e4ed0413e961c65990260a4c3": {
      "model_module": "@jupyter-widgets/controls",
      "model_module_version": "1.5.0",
      "model_name": "IntSliderModel",
      "state": {
       "description": "Jobs",
       "layout": "IPY_MODEL_47c5dd4760bc43deb2f3e1667888ebe7",
       "max": 32,
       "style": "IPY_MODEL_8ecfbe8d6faf4ccfbbc77d9dee9dd13d",
       "value": 12
      }
     },
     "7acd3371037e4c4e92e4d5e5a2a24998": {
      "model_module": "@jupyter-widgets/base",
      "model_module_version": "1.2.0",
      "model_name": "LayoutModel",
      "state": {
       "grid_template_areas": "\"widget001 .\"\n\"widget002 widget003\"",
       "grid_template_columns": "repeat(2, 1fr)",
       "grid_template_rows": "repeat(2, 1fr)"
      }
     },
     "7b54f2eb08a94228bf1fd38d9e6d71c9": {
      "model_module": "@jupyter-widgets/controls",
      "model_module_version": "1.5.0",
      "model_name": "SliderStyleModel",
      "state": {
       "description_width": ""
      }
     },
     "7ce6a25da54c4e5fa187867a68d6e433": {
      "model_module": "@jupyter-widgets/controls",
      "model_module_version": "1.5.0",
      "model_name": "IntSliderModel",
      "state": {
       "description": "Depth",
       "layout": "IPY_MODEL_734f21a2cb4640319e1097ca1321068b",
       "max": 8,
       "min": 1,
       "style": "IPY_MODEL_561f887f253247f49b037180dd5904c3",
       "value": 2
      }
     },
     "7e457bc67b084ceda092bc1ba84c0ec3": {
      "model_module": "@jupyter-widgets/controls",
      "model_module_version": "1.5.0",
      "model_name": "IntSliderModel",
      "state": {
       "description": "Jobs",
       "layout": "IPY_MODEL_711c76164e3c426284975568ef543582",
       "max": 32,
       "style": "IPY_MODEL_37abda82e90d40aba7f2f43a2de42614",
       "value": 12
      }
     },
     "7e4b84302fc94d1da0eefa8f64966331": {
      "model_module": "@jupyter-widgets/controls",
      "model_module_version": "1.5.0",
      "model_name": "SliderStyleModel",
      "state": {
       "description_width": ""
      }
     },
     "7f642f20ea564e4dac4834dbf2a8f664": {
      "model_module": "@jupyter-widgets/base",
      "model_module_version": "1.2.0",
      "model_name": "LayoutModel",
      "state": {
       "grid_area": "widget001"
      }
     },
     "8314c0e0e910479eaa4b7ac7a04960b6": {
      "model_module": "@jupyter-widgets/controls",
      "model_module_version": "1.5.0",
      "model_name": "SliderStyleModel",
      "state": {
       "description_width": ""
      }
     },
     "8a131cf3403e46c2b6914f55b13c30c9": {
      "model_module": "@jupyter-widgets/base",
      "model_module_version": "1.2.0",
      "model_name": "LayoutModel",
      "state": {
       "grid_template_areas": "\"widget001 widget002\"",
       "grid_template_columns": "repeat(2, 1fr)",
       "grid_template_rows": "repeat(1, 1fr)"
      }
     },
     "8ce4e836c3f2448cbb86194a5bbd104e": {
      "model_module": "@jupyter-widgets/controls",
      "model_module_version": "1.5.0",
      "model_name": "FloatSliderModel",
      "state": {
       "description": "Radius",
       "layout": "IPY_MODEL_1d7d185b627d46afb0d6356faf18a4c7",
       "max": 10,
       "step": 0.1,
       "style": "IPY_MODEL_3a062ec1d2464843a6b89511860f6491",
       "value": 4
      }
     },
     "8e4f7b53159a4de5880ed03cdef1d714": {
      "model_module": "@jupyter-widgets/base",
      "model_module_version": "1.2.0",
      "model_name": "LayoutModel",
      "state": {
       "grid_template_areas": "\"widget001 .\"\n\"widget002 widget003\"",
       "grid_template_columns": "repeat(2, 1fr)",
       "grid_template_rows": "repeat(2, 1fr)"
      }
     },
     "8ecfbe8d6faf4ccfbbc77d9dee9dd13d": {
      "model_module": "@jupyter-widgets/controls",
      "model_module_version": "1.5.0",
      "model_name": "SliderStyleModel",
      "state": {
       "description_width": ""
      }
     },
     "8ef7d878540844c98cc8fdf7f601c811": {
      "model_module": "@jupyter-widgets/controls",
      "model_module_version": "1.5.0",
      "model_name": "SliderStyleModel",
      "state": {
       "description_width": ""
      }
     },
     "8fb397e31b37431192b596a84617237f": {
      "model_module": "@jupyter-widgets/base",
      "model_module_version": "1.2.0",
      "model_name": "LayoutModel",
      "state": {
       "grid_template_areas": "\"widget001 .\"\n\"widget003 widget002\"",
       "grid_template_columns": "repeat(2, 1fr)",
       "grid_template_rows": "repeat(2, 1fr)"
      }
     },
     "913a58f44d18490486eeffac030680d9": {
      "model_module": "@jupyter-widgets/controls",
      "model_module_version": "1.5.0",
      "model_name": "TabModel",
      "state": {
       "_titles": {
        "0": "Dataset",
        "1": "Model",
        "2": "Raymarcher",
        "3": "Hyperparams"
       },
       "children": [
        "IPY_MODEL_5c920b8a5857441289705a285a5184db",
        "IPY_MODEL_d03f73788ef14ce2a20fc333a0c37148",
        "IPY_MODEL_259ef0e1bdce4fd9bd63b7756f0873b4",
        "IPY_MODEL_1248320298074d3085896b287201f254"
       ],
       "layout": "IPY_MODEL_cbb2e660160a4660940e58f9ebba56c8"
      }
     },
     "95e65ce793544e339abbbfff9317f23f": {
      "model_module": "@jupyter-widgets/base",
      "model_module_version": "1.2.0",
      "model_name": "LayoutModel",
      "state": {
       "grid_template_areas": "\"widget001\"",
       "grid_template_columns": "repeat(1, 1fr)",
       "grid_template_rows": "repeat(1, 1fr)"
      }
     },
     "993cfbd8535b4bf5b19e80a15d5b49ef": {
      "model_module": "@jupyter-widgets/controls",
      "model_module_version": "1.5.0",
      "model_name": "ButtonStyleModel",
      "state": {}
     },
     "9aeb8e9d23b2477cbc0a6453d103e0c9": {
      "model_module": "@jupyter-widgets/controls",
      "model_module_version": "1.5.0",
      "model_name": "SliderStyleModel",
      "state": {
       "description_width": ""
      }
     },
     "9b4650c5dde541d39da53b7b39f3ee0e": {
      "model_module": "@jupyter-widgets/controls",
      "model_module_version": "1.5.0",
      "model_name": "ButtonModel",
      "state": {
       "description": "Fit",
       "layout": "IPY_MODEL_61d6e1e8f02d43459c878b6901508921",
       "style": "IPY_MODEL_0543ca80287649aba026a3847ea8a700"
      }
     },
     "9b751757a9d545ffae1b1c0000320049": {
      "model_module": "@jupyter-widgets/base",
      "model_module_version": "1.2.0",
      "model_name": "LayoutModel",
      "state": {
       "grid_area": "widget001"
      }
     },
     "9be3ae74a7d44039a79a2fd443b28784": {
      "model_module": "@jupyter-widgets/controls",
      "model_module_version": "1.5.0",
      "model_name": "SliderStyleModel",
      "state": {
       "description_width": ""
      }
     },
     "9d376f253d724e3fa87b61c2aa4b25b8": {
      "model_module": "@jupyter-widgets/base",
      "model_module_version": "1.2.0",
      "model_name": "LayoutModel",
      "state": {
       "grid_template_areas": "\"widget001 .\"\n\"widget002 widget003\"",
       "grid_template_columns": "repeat(2, 1fr)",
       "grid_template_rows": "repeat(2, 1fr)"
      }
     },
     "9d958e46a40a4195a5fe1aa61bb1df2f": {
      "model_module": "@jupyter-widgets/base",
      "model_module_version": "1.2.0",
      "model_name": "LayoutModel",
      "state": {
       "grid_template_areas": "\"widget001 widget002\"\n\"widget003 widget004\"",
       "grid_template_columns": "repeat(2, 1fr)",
       "grid_template_rows": "repeat(2, 1fr)"
      }
     },
     "9e00246857124fe68ae93840e85feb13": {
      "model_module": "@jupyter-widgets/base",
      "model_module_version": "1.2.0",
      "model_name": "LayoutModel",
      "state": {}
     },
     "9f1d84b070e1482b9582ab4b7ff27a77": {
      "model_module": "@jupyter-widgets/controls",
      "model_module_version": "1.5.0",
      "model_name": "IntSliderModel",
      "state": {
       "description": "Width",
       "layout": "IPY_MODEL_4039340f89f642abaa5cb94cb0916e01",
       "max": 2048,
       "min": 32,
       "step": 2,
       "style": "IPY_MODEL_8ef7d878540844c98cc8fdf7f601c811",
       "value": 128
      }
     },
     "9f3b8cc014b0487ab6e110504caea5b9": {
      "model_module": "@jupyter-widgets/controls",
      "model_module_version": "1.5.0",
      "model_name": "FloatSliderModel",
      "state": {
       "description": "Learning Rate",
       "layout": "IPY_MODEL_3096494285044b21b97f24b7bec1b7f5",
       "max": 1,
       "readout_format": ".2e",
       "step": 1e-06,
       "style": "IPY_MODEL_6f36a41a16db446883ebb379dc7c287e",
       "value": 0.005
      }
     },
     "9fe778f6246440ce8a7d8a97c629afd7": {
      "model_module": "@jupyter-widgets/controls",
      "model_module_version": "1.5.0",
      "model_name": "IntSliderModel",
      "state": {
       "description": "Step",
       "layout": "IPY_MODEL_ae3acb45fe2f4fe2bf301ab3049592be",
       "max": 20,
       "min": 1,
       "style": "IPY_MODEL_c2c804a837de4f2f89814fc1814483e4",
       "value": 1
      }
     },
     "a252d947e94c4c218a49f60fa6085d8b": {
      "model_module": "@jupyter-widgets/controls",
      "model_module_version": "1.5.0",
      "model_name": "ButtonModel",
      "state": {
       "description": "Setup Model",
       "layout": "IPY_MODEL_514b4dbe53a94d309c60b40203aa6bc8",
       "style": "IPY_MODEL_c85642306b74430ba6b9b0311473857c"
      }
     },
     "a587fab168064f14bd98bbc8186df83f": {
      "model_module": "@jupyter-widgets/controls",
      "model_module_version": "1.5.0",
      "model_name": "FloatRangeSliderModel",
      "state": {
       "_model_name": "FloatRangeSliderModel",
       "_view_name": "FloatRangeSliderView",
       "description": "Near-Far",
       "layout": "IPY_MODEL_dfed871184504131a6d7942527d343f4",
       "readout_format": ".1f",
       "style": "IPY_MODEL_5a795f71bc9441d180ae7c1d11629df1",
       "value": [
        2,
        6
       ]
      }
     },
     "a6959155e69747a98dc292a927bca7fc": {
      "model_module": "@jupyter-widgets/base",
      "model_module_version": "1.2.0",
      "model_name": "LayoutModel",
      "state": {
       "grid_area": "widget003"
      }
     },
     "a6b0aa968ae243559d9606bdd0a92249": {
      "model_module": "@jupyter-widgets/base",
      "model_module_version": "1.2.0",
      "model_name": "LayoutModel",
      "state": {
       "grid_area": "widget001"
      }
     },
     "a6f29289013844b69170108103ccce41": {
      "model_module": "@jupyter-widgets/controls",
      "model_module_version": "1.5.0",
      "model_name": "ImageModel",
      "state": {
       "height": "256",
       "layout": "IPY_MODEL_f066e5436f6a4b649d21ba49da34e524",
       "width": "256"
      }
     },
     "a9703953b1434ec8a627ae5080eedecb": {
      "model_module": "@jupyter-widgets/controls",
      "model_module_version": "1.5.0",
      "model_name": "DescriptionStyleModel",
      "state": {
       "description_width": ""
      }
     },
     "ad375d8de5e4477a9153f16e6b1b7ddc": {
      "model_module": "@jupyter-widgets/controls",
      "model_module_version": "1.5.0",
      "model_name": "DescriptionStyleModel",
      "state": {
       "description_width": ""
      }
     },
     "adc6a186b70c4e478f8dd5ae8648d4c4": {
      "model_module": "@jupyter-widgets/controls",
      "model_module_version": "1.5.0",
      "model_name": "IntSliderModel",
      "state": {
       "description": "Batch Size",
       "layout": "IPY_MODEL_bd68a03fcfda4080bae358681f7f9e8f",
       "max": 65536,
       "min": 2,
       "step": 2,
       "style": "IPY_MODEL_b75d4b221a3443829a542b8b5dd085a1",
       "value": 4096
      }
     },
     "ae3acb45fe2f4fe2bf301ab3049592be": {
      "model_module": "@jupyter-widgets/base",
      "model_module_version": "1.2.0",
      "model_name": "LayoutModel",
      "state": {
       "grid_area": "widget002"
      }
     },
     "af571570b8e3435b849bcce6b3bc5502": {
      "model_module": "@jupyter-widgets/controls",
      "model_module_version": "1.5.0",
      "model_name": "FloatRangeSliderModel",
      "state": {
       "_model_name": "FloatRangeSliderModel",
       "_view_name": "FloatRangeSliderView",
       "description": "Phi",
       "layout": "IPY_MODEL_dad5d0ab4025498aa1ab92ee8e9b20ea",
       "max": 6.283185307179586,
       "min": -6.283185307179586,
       "step": 0.1,
       "style": "IPY_MODEL_671777e88a4340af8043e953a941263f",
       "value": [
        -3.141592653589793,
        3.141592653589793
       ]
      }
     },
     "b0222cb2c58d424885f016a3bd1f2f39": {
      "model_module": "@jupyter-widgets/controls",
      "model_module_version": "1.5.0",
      "model_name": "FloatSliderModel",
      "state": {
       "description": "Scale",
       "layout": "IPY_MODEL_e29cd2fb65fc45a7861cbd9b4f27f7d4",
       "max": 1,
       "min": 0.1,
       "readout_format": ".1f",
       "step": 0.1,
       "style": "IPY_MODEL_9be3ae74a7d44039a79a2fd443b28784",
       "value": 1
      }
     },
     "b15726c7508348a291d495d07821979e": {
      "model_module": "@jupyter-widgets/controls",
      "model_module_version": "1.5.0",
      "model_name": "TabModel",
      "state": {
       "_titles": {
        "0": "Setup",
        "1": "Trajectory",
        "2": "Render",
        "3": "Viz"
       },
       "children": [
        "IPY_MODEL_71808ce3d4e14adc915e90a21b01ecde",
        "IPY_MODEL_560ec26d917f479790d71743f2d58128",
        "IPY_MODEL_bd7168aebc3540a19df0c03aff9cffcd",
        "IPY_MODEL_57cfa0901fb24960bcd28d94497c0c17"
       ],
       "layout": "IPY_MODEL_9e00246857124fe68ae93840e85feb13"
      }
     },
     "b5b2cda176c24c34b47a7c81387523d4": {
      "model_module": "@jupyter-widgets/controls",
      "model_module_version": "1.5.0",
      "model_name": "TextModel",
      "state": {
       "disabled": true,
       "layout": "IPY_MODEL_eba6fcb5666f4040ba244ec56cef878d",
       "style": "IPY_MODEL_30dd1a3ef38b4666beef557318259e1b",
       "value": "EPOCH: 0 - MSE: None - PSNR: None"
      }
     },
     "b62a18db2f074ac79685a3f5827e15f9": {
      "model_module": "@jupyter-widgets/controls",
      "model_module_version": "1.5.0",
      "model_name": "SliderStyleModel",
      "state": {
       "description_width": ""
      }
     },
     "b75d4b221a3443829a542b8b5dd085a1": {
      "model_module": "@jupyter-widgets/controls",
      "model_module_version": "1.5.0",
      "model_name": "SliderStyleModel",
      "state": {
       "description_width": ""
      }
     },
     "b852e0509e79444292f629ee78793ae8": {
      "model_module": "@jupyter-widgets/controls",
      "model_module_version": "1.5.0",
      "model_name": "VBoxModel",
      "state": {
       "children": [
        "IPY_MODEL_913a58f44d18490486eeffac030680d9",
        "IPY_MODEL_0a012b186a404a72b36f657bc0fc14df"
       ],
       "layout": "IPY_MODEL_5fab5822a6eb4360920035802a3c9402"
      }
     },
     "ba75d9224ba04e9b92cf200f9dc299e0": {
      "model_module": "@jupyter-widgets/controls",
      "model_module_version": "1.5.0",
      "model_name": "GridBoxModel",
      "state": {
       "children": [
        "IPY_MODEL_cc70934def134bc9aa273cebaa8175e6",
        "IPY_MODEL_a252d947e94c4c218a49f60fa6085d8b",
        "IPY_MODEL_c5993b4f699747b0bf04850384d5c8df",
        "IPY_MODEL_db241dd92af042b3b76436f544fd09db"
       ],
       "layout": "IPY_MODEL_9d958e46a40a4195a5fe1aa61bb1df2f"
      }
     },
     "ba88323a952b4c1eb891680284109376": {
      "model_module": "@jupyter-widgets/controls",
      "model_module_version": "1.5.0",
      "model_name": "ButtonStyleModel",
      "state": {}
     },
     "baec18a493644da0bfbc61700ab7900a": {
      "model_module": "@jupyter-widgets/controls",
      "model_module_version": "1.5.0",
      "model_name": "SliderStyleModel",
      "state": {
       "description_width": ""
      }
     },
     "bd68a03fcfda4080bae358681f7f9e8f": {
      "model_module": "@jupyter-widgets/base",
      "model_module_version": "1.2.0",
      "model_name": "LayoutModel",
      "state": {
       "grid_area": "widget005"
      }
     },
     "bd7168aebc3540a19df0c03aff9cffcd": {
      "model_module": "@jupyter-widgets/controls",
      "model_module_version": "1.5.0",
      "model_name": "ButtonModel",
      "state": {
       "description": "Render",
       "layout": "IPY_MODEL_689a1ec73d6d46788ecdccdd55e1b29c",
       "style": "IPY_MODEL_ba88323a952b4c1eb891680284109376"
      }
     },
     "c2c804a837de4f2f89814fc1814483e4": {
      "model_module": "@jupyter-widgets/controls",
      "model_module_version": "1.5.0",
      "model_name": "SliderStyleModel",
      "state": {
       "description_width": ""
      }
     },
     "c5993b4f699747b0bf04850384d5c8df": {
      "model_module": "@jupyter-widgets/controls",
      "model_module_version": "1.5.0",
      "model_name": "ButtonModel",
      "state": {
       "description": "Setup Raymarcher",
       "layout": "IPY_MODEL_24c3c76c1ecb4a5497bd24ba66f3f544",
       "style": "IPY_MODEL_6f6f0e9549ed4166924ab8a3ed992b43"
      }
     },
     "c85642306b74430ba6b9b0311473857c": {
      "model_module": "@jupyter-widgets/controls",
      "model_module_version": "1.5.0",
      "model_name": "ButtonStyleModel",
      "state": {}
     },
     "c95d95a4b5de4e89a6ec7a95911a0178": {
      "model_module": "@jupyter-widgets/base",
      "model_module_version": "1.2.0",
      "model_name": "LayoutModel",
      "state": {
       "grid_area": "widget004"
      }
     },
     "cbb2e660160a4660940e58f9ebba56c8": {
      "model_module": "@jupyter-widgets/base",
      "model_module_version": "1.2.0",
      "model_name": "LayoutModel",
      "state": {}
     },
     "cc70934def134bc9aa273cebaa8175e6": {
      "model_module": "@jupyter-widgets/controls",
      "model_module_version": "1.5.0",
      "model_name": "ButtonModel",
      "state": {
       "description": "Setup Dataset",
       "layout": "IPY_MODEL_3c56d4ad1dda44378727118564ff5f77",
       "style": "IPY_MODEL_1037c308e7b045719d2484d8e0e4daa6"
      }
     },
     "cdb60b7ae4c24ff9ae6b4a370025e786": {
      "model_module": "@jupyter-widgets/controls",
      "model_module_version": "1.5.0",
      "model_name": "ButtonModel",
      "state": {
       "description": "Setup Raymarcher",
       "layout": "IPY_MODEL_e3dd404390c34ec69642e04831147d76",
       "style": "IPY_MODEL_993cfbd8535b4bf5b19e80a15d5b49ef"
      }
     },
     "cf6b10e0bfb244c3952d5bb81b59c093": {
      "model_module": "@jupyter-widgets/controls",
      "model_module_version": "1.5.0",
      "model_name": "VBoxModel",
      "state": {
       "children": [
        "IPY_MODEL_2941c94662a343b88aff805b54a23401",
        "IPY_MODEL_b15726c7508348a291d495d07821979e"
       ],
       "layout": "IPY_MODEL_da940e32922943be8edcdcfebb5d80c8"
      }
     },
     "cfc5d0ecc32240f79d4958bfa0645bbc": {
      "model_module": "@jupyter-widgets/controls",
      "model_module_version": "1.5.0",
      "model_name": "SliderStyleModel",
      "state": {
       "description_width": ""
      }
     },
     "cfddafd0da3f49e1a3d705bfdb8ad7db": {
      "model_module": "@jupyter-widgets/base",
      "model_module_version": "1.2.0",
      "model_name": "LayoutModel",
      "state": {
       "grid_area": "widget001"
      }
     },
     "d03f73788ef14ce2a20fc333a0c37148": {
      "model_module": "@jupyter-widgets/controls",
      "model_module_version": "1.5.0",
      "model_name": "GridBoxModel",
      "state": {
       "children": [
        "IPY_MODEL_3e10bf7a21ff47338829e72fc80f4c04",
        "IPY_MODEL_000323e16dc745c69d75b7554e3da291",
        "IPY_MODEL_9f1d84b070e1482b9582ab4b7ff27a77",
        "IPY_MODEL_7ce6a25da54c4e5fa187867a68d6e433"
       ],
       "layout": "IPY_MODEL_577d14e6836f480d8b178a3349fb3230"
      }
     },
     "d4a57033f9554712a735a8ad40b4c686": {
      "model_module": "@jupyter-widgets/base",
      "model_module_version": "1.2.0",
      "model_name": "LayoutModel",
      "state": {
       "grid_template_areas": "\"widget001 .\"\n\"widget002 widget003\"",
       "grid_template_columns": "repeat(2, 1fr)",
       "grid_template_rows": "repeat(2, 1fr)"
      }
     },
     "d8d871186a90408a8a8cc48dbd7c5545": {
      "model_module": "@jupyter-widgets/base",
      "model_module_version": "1.2.0",
      "model_name": "LayoutModel",
      "state": {
       "grid_area": "widget002"
      }
     },
     "d9a33601ac884a06835cdf94fd1df1bc": {
      "model_module": "@jupyter-widgets/controls",
      "model_module_version": "1.5.0",
      "model_name": "DropdownModel",
      "state": {
       "_options_labels": [
        "chair",
        "drums",
        "ficus",
        "hotdog",
        "lego",
        "materials",
        "mic",
        "ship"
       ],
       "description": "Scene",
       "index": 3,
       "layout": "IPY_MODEL_4ce68131f5924f15aae77ebd8220b281",
       "style": "IPY_MODEL_64dc31111fe9459194f281cb2fb21b38"
      }
     },
     "da940e32922943be8edcdcfebb5d80c8": {
      "model_module": "@jupyter-widgets/base",
      "model_module_version": "1.2.0",
      "model_name": "LayoutModel",
      "state": {}
     },
     "dad5d0ab4025498aa1ab92ee8e9b20ea": {
      "model_module": "@jupyter-widgets/base",
      "model_module_version": "1.2.0",
      "model_name": "LayoutModel",
      "state": {
       "grid_area": "widget003"
      }
     },
     "db241dd92af042b3b76436f544fd09db": {
      "model_module": "@jupyter-widgets/controls",
      "model_module_version": "1.5.0",
      "model_name": "ButtonModel",
      "state": {
       "description": "Setup Optimizer",
       "layout": "IPY_MODEL_3a74a17279724f859849c7f22ca1b9d7",
       "style": "IPY_MODEL_43ca88d043d54e90a184e5e296e2bf42"
      }
     },
     "db6e386b425b46d899df017dc254685f": {
      "model_module": "@jupyter-widgets/controls",
      "model_module_version": "1.5.0",
      "model_name": "SliderStyleModel",
      "state": {
       "description_width": ""
      }
     },
     "dba338cdcc5b48cbb86c5c03241d9570": {
      "model_module": "@jupyter-widgets/controls",
      "model_module_version": "1.5.0",
      "model_name": "SliderStyleModel",
      "state": {
       "description_width": ""
      }
     },
     "dca0b81d887944adbfef59dce760d470": {
      "model_module": "@jupyter-widgets/base",
      "model_module_version": "1.2.0",
      "model_name": "LayoutModel",
      "state": {
       "grid_template_areas": "\"widget001 widget002\"",
       "grid_template_columns": "repeat(2, 1fr)",
       "grid_template_rows": "repeat(1, 1fr)"
      }
     },
     "defdb920f8164e69a76a3d8c664850a3": {
      "model_module": "@jupyter-widgets/controls",
      "model_module_version": "1.5.0",
      "model_name": "IntSliderModel",
      "state": {
       "description": "Epochs",
       "layout": "IPY_MODEL_7f642f20ea564e4dac4834dbf2a8f664",
       "max": 500000,
       "min": 10,
       "step": 10,
       "style": "IPY_MODEL_9aeb8e9d23b2477cbc0a6453d103e0c9",
       "value": 100
      }
     },
     "dfa6ea04441e4c44b87ea6604878561f": {
      "model_module": "@jupyter-widgets/controls",
      "model_module_version": "1.5.0",
      "model_name": "SliderStyleModel",
      "state": {
       "description_width": ""
      }
     },
     "dfed871184504131a6d7942527d343f4": {
      "model_module": "@jupyter-widgets/base",
      "model_module_version": "1.2.0",
      "model_name": "LayoutModel",
      "state": {
       "grid_area": "widget001"
      }
     },
     "e0b9f198cfac4fc0943d643a34bb2052": {
      "model_module": "@jupyter-widgets/controls",
      "model_module_version": "1.5.0",
      "model_name": "ButtonStyleModel",
      "state": {}
     },
     "e29cd2fb65fc45a7861cbd9b4f27f7d4": {
      "model_module": "@jupyter-widgets/base",
      "model_module_version": "1.2.0",
      "model_name": "LayoutModel",
      "state": {
       "grid_area": "widget003"
      }
     },
     "e3dd404390c34ec69642e04831147d76": {
      "model_module": "@jupyter-widgets/base",
      "model_module_version": "1.2.0",
      "model_name": "LayoutModel",
      "state": {
       "grid_area": "widget003"
      }
     },
     "e546449e78bd477992234ac27570f156": {
      "model_module": "@jupyter-widgets/base",
      "model_module_version": "1.2.0",
      "model_name": "LayoutModel",
      "state": {
       "grid_area": "widget002"
      }
     },
     "eba6fcb5666f4040ba244ec56cef878d": {
      "model_module": "@jupyter-widgets/base",
      "model_module_version": "1.2.0",
      "model_name": "LayoutModel",
      "state": {}
     },
     "ec53b89d2dd9490fbb9f6577cc8253da": {
      "model_module": "@jupyter-widgets/controls",
      "model_module_version": "1.5.0",
      "model_name": "GridBoxModel",
      "state": {
       "children": [
        "IPY_MODEL_0fc321a4ca114f78b1d3fbfa372e4e29",
        "IPY_MODEL_0bd18876cf294693bffea4bb093d184b"
       ],
       "layout": "IPY_MODEL_dca0b81d887944adbfef59dce760d470"
      }
     },
     "ed833be395fa4365a2fe2206b5e53b12": {
      "model_module": "@jupyter-widgets/controls",
      "model_module_version": "1.5.0",
      "model_name": "IntSliderModel",
      "state": {
       "description": "Step",
       "layout": "IPY_MODEL_d8d871186a90408a8a8cc48dbd7c5545",
       "max": 20,
       "min": 1,
       "style": "IPY_MODEL_b62a18db2f074ac79685a3f5827e15f9",
       "value": 20
      }
     },
     "eed636de4bbc48ce9ddafb2d18620a06": {
      "model_module": "@jupyter-widgets/controls",
      "model_module_version": "1.5.0",
      "model_name": "FloatRangeSliderModel",
      "state": {
       "_model_name": "FloatRangeSliderModel",
       "_view_name": "FloatRangeSliderView",
       "description": "Near-Far",
       "layout": "IPY_MODEL_cfddafd0da3f49e1a3d705bfdb8ad7db",
       "readout_format": ".1f",
       "style": "IPY_MODEL_baec18a493644da0bfbc61700ab7900a",
       "value": [
        2,
        6
       ]
      }
     },
     "f0391164c32f491aba00a834bff13e56": {
      "model_module": "@jupyter-widgets/controls",
      "model_module_version": "1.5.0",
      "model_name": "GridBoxModel",
      "state": {
       "children": [
        "IPY_MODEL_33b50b931028494d9d8bc9758ce96fea",
        "IPY_MODEL_ed833be395fa4365a2fe2206b5e53b12",
        "IPY_MODEL_b0222cb2c58d424885f016a3bd1f2f39"
       ],
       "layout": "IPY_MODEL_d4a57033f9554712a735a8ad40b4c686"
      }
     },
     "f066e5436f6a4b649d21ba49da34e524": {
      "model_module": "@jupyter-widgets/base",
      "model_module_version": "1.2.0",
      "model_name": "LayoutModel",
      "state": {
       "grid_area": "widget002"
      }
     },
     "f0ae3b754c474c48ba981428168fd189": {
      "model_module": "@jupyter-widgets/controls",
      "model_module_version": "1.5.0",
      "model_name": "IntSliderModel",
      "state": {
       "description": "Samples",
       "layout": "IPY_MODEL_3705e4dd27284c04bf7e657721732942",
       "max": 2048,
       "min": 32,
       "step": 2,
       "style": "IPY_MODEL_8314c0e0e910479eaa4b7ac7a04960b6",
       "value": 64
      }
     },
     "f2ee9137e2474fc9b919eccd4c790e31": {
      "model_module": "@jupyter-widgets/base",
      "model_module_version": "1.2.0",
      "model_name": "LayoutModel",
      "state": {
       "grid_template_areas": "\"widget001 widget002\"",
       "grid_template_columns": "repeat(2, 1fr)",
       "grid_template_rows": "repeat(1, 1fr)"
      }
     },
     "f326961e6473404bab9dece6100bc5eb": {
      "model_module": "@jupyter-widgets/controls",
      "model_module_version": "1.5.0",
      "model_name": "SliderStyleModel",
      "state": {
       "description_width": ""
      }
     },
     "f585e120cb0e450498040a9575186e53": {
      "model_module": "@jupyter-widgets/controls",
      "model_module_version": "1.5.0",
      "model_name": "DescriptionStyleModel",
      "state": {
       "description_width": ""
      }
     },
     "f7caef3479494a9399019c16516b0027": {
      "model_module": "@jupyter-widgets/controls",
      "model_module_version": "1.5.0",
      "model_name": "ImageModel",
      "state": {
       "format": "gif",
       "height": "256",
       "layout": "IPY_MODEL_49e397bacfbc4256b22e479db7d3ef54",
       "width": "256"
      }
     },
     "f885cf45749542c7a48bcd5b95b30219": {
      "model_module": "@jupyter-widgets/base",
      "model_module_version": "1.2.0",
      "model_name": "LayoutModel",
      "state": {
       "grid_area": "widget001"
      }
     },
     "fc20990f7aa2465d824de3efc8486bd4": {
      "model_module": "@jupyter-widgets/controls",
      "model_module_version": "1.5.0",
      "model_name": "ButtonModel",
      "state": {
       "description": "Setup Dataset",
       "layout": "IPY_MODEL_a6b0aa968ae243559d9606bdd0a92249",
       "style": "IPY_MODEL_e0b9f198cfac4fc0943d643a34bb2052"
      }
     },
     "fca01b5ddb954631999fd6bc74dcbfeb": {
      "model_module": "@jupyter-widgets/controls",
      "model_module_version": "1.5.0",
      "model_name": "CheckboxModel",
      "state": {
       "description": "Half Precision",
       "disabled": false,
       "layout": "IPY_MODEL_c95d95a4b5de4e89a6ec7a95911a0178",
       "style": "IPY_MODEL_a9703953b1434ec8a627ae5080eedecb",
       "value": true
      }
     },
     "fe500bbfb94e4d7ab76c475530e0e653": {
      "model_module": "@jupyter-widgets/base",
      "model_module_version": "1.2.0",
      "model_name": "LayoutModel",
      "state": {
       "grid_area": "widget002"
      }
     }
    },
    "version_major": 2,
    "version_minor": 0
   }
  }
 },
 "nbformat": 4,
 "nbformat_minor": 2
}
