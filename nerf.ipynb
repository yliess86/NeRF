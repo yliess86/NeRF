{
 "cells": [
  {
   "cell_type": "markdown",
   "metadata": {},
   "source": [
    "# NeRF: Neural Radiance Field"
   ]
  },
  {
   "cell_type": "markdown",
   "metadata": {},
   "source": [
    "## Clean Old"
   ]
  },
  {
   "cell_type": "code",
   "execution_count": null,
   "metadata": {},
   "outputs": [],
   "source": [
    "!python3 -m pyclean"
   ]
  },
  {
   "cell_type": "markdown",
   "metadata": {},
   "source": [
    "## Imports"
   ]
  },
  {
   "cell_type": "code",
   "execution_count": null,
   "metadata": {},
   "outputs": [],
   "source": [
    "import gc\n",
    "import matplotlib.pyplot as plt\n",
    "import numpy as np\n",
    "import os\n",
    "import torch\n",
    "\n",
    "from nerf_gui.config import InferConfig, TrainConfig\n",
    "from nerf_gui.apps import Inferer, Trainer\n",
    "\n",
    "%matplotlib inline"
   ]
  },
  {
   "cell_type": "markdown",
   "metadata": {},
   "source": [
    "## Config"
   ]
  },
  {
   "cell_type": "code",
   "execution_count": null,
   "metadata": {},
   "outputs": [],
   "source": [
    "tcfg = TrainConfig()\n",
    "icfg = InferConfig(tcfg)"
   ]
  },
  {
   "cell_type": "markdown",
   "metadata": {},
   "source": [
    "## Train"
   ]
  },
  {
   "cell_type": "code",
   "execution_count": null,
   "metadata": {
    "scrolled": false
   },
   "outputs": [],
   "source": [
    "trainer = Trainer(tcfg, verbose=True)\n",
    "trainer.display()"
   ]
  },
  {
   "cell_type": "code",
   "execution_count": null,
   "metadata": {},
   "outputs": [],
   "source": [
    "if H:= trainer.history:\n",
    "    plt.figure()\n",
    "    plt.title(\"MSE\")\n",
    "    plt.plot([mse for mse, _ in H.train], label=\"train\")\n",
    "    plt.draw()\n",
    "    plt.savefig(os.path.join(tcfg.res, f\"NeRF_{tcfg.scene()}_mse.png\"))\n",
    "    plt.show()\n",
    "\n",
    "    plt.figure()\n",
    "    plt.title(\"PSNR\")\n",
    "    plt.plot([psnr for _, psnr in H.train], label=\"train\")\n",
    "    plt.draw()\n",
    "    plt.savefig(os.path.join(tcfg.res, f\"NeRF_{tcfg.scene()}_psnr.png\"))\n",
    "    plt.show()"
   ]
  },
  {
   "cell_type": "code",
   "execution_count": null,
   "metadata": {},
   "outputs": [],
   "source": [
    "del trainer.dataset\n",
    "del trainer.nerf\n",
    "del trainer.raymarcher\n",
    "del trainer.criterion\n",
    "del trainer.optim\n",
    "del trainer.scaler\n",
    "\n",
    "trainer.dataset = None\n",
    "trainer.nerf = None\n",
    "trainer.raymarcher = None\n",
    "trainer.criterion = None\n",
    "trainer.optim = None\n",
    "trainer.scaler = None\n",
    "\n",
    "torch.cuda.empty_cache()\n",
    "gc.collect()"
   ]
  },
  {
   "cell_type": "markdown",
   "metadata": {},
   "source": [
    "## Inference"
   ]
  },
  {
   "cell_type": "code",
   "execution_count": null,
   "metadata": {
    "scrolled": false
   },
   "outputs": [],
   "source": [
    "inferer = Inferer(icfg, verbose=True)\n",
    "inferer.display()"
   ]
  },
  {
   "cell_type": "code",
   "execution_count": null,
   "metadata": {},
   "outputs": [],
   "source": [
    "del inferer.dataset\n",
    "del inferer.nerf\n",
    "del inferer.raymarcher\n",
    "\n",
    "inferer.dataset = None\n",
    "inferer.nerf = None\n",
    "inferer.raymarcher = None\n",
    "\n",
    "torch.cuda.empty_cache()\n",
    "gc.collect()"
   ]
  }
 ],
 "metadata": {
  "interpreter": {
   "hash": "31f2aee4e71d21fbe5cf8b01ff0e069b9275f58929596ceb00d14d90e3e16cd6"
  },
  "kernelspec": {
   "display_name": "Python 3 (ipykernel)",
   "language": "python",
   "name": "python3"
  },
  "language_info": {
   "codemirror_mode": {
    "name": "ipython",
    "version": 3
   },
   "file_extension": ".py",
   "mimetype": "text/x-python",
   "name": "python",
   "nbconvert_exporter": "python",
   "pygments_lexer": "ipython3",
   "version": "3.8.10"
  }
 },
 "nbformat": 4,
 "nbformat_minor": 2
}
