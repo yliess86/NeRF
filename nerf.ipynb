{
 "cells": [
  {
   "cell_type": "markdown",
   "metadata": {},
   "source": [
    "# NeRF: Neural Radiance Field"
   ]
  },
  {
   "cell_type": "markdown",
   "metadata": {},
   "source": [
    "## Import"
   ]
  },
  {
   "cell_type": "code",
   "execution_count": 1,
   "metadata": {},
   "outputs": [],
   "source": [
    "import os\n",
    "\n",
    "import matplotlib.pyplot as plt\n",
    "import nerf.infer\n",
    "import nerf.train\n",
    "import numpy as np\n",
    "import torch\n",
    "import torch.jit as jit\n",
    "\n",
    "from ipywidgets import widgets\n",
    "from moviepy.editor import ImageSequenceClip\n",
    "from nerf.data import BlenderDataset\n",
    "from nerf.core import NeRF\n",
    "from nerf.core import BoundedVolumeRaymarcher as BVR\n",
    "from nerfcfg import RenderConfig, TrainConfig\n",
    "from PIL import Image\n",
    "from torch.cuda.amp import GradScaler\n",
    "from torch.nn import MSELoss\n",
    "from torch.optim import Adam\n",
    "from tqdm.auto import tqdm\n",
    "\n",
    "torch.backends.cudnn.benchmark = True\n",
    "%matplotlib inline"
   ]
  },
  {
   "cell_type": "markdown",
   "metadata": {},
   "source": [
    "## Train"
   ]
  },
  {
   "cell_type": "markdown",
   "metadata": {},
   "source": [
    "### Setup"
   ]
  },
  {
   "cell_type": "code",
   "execution_count": 2,
   "metadata": {},
   "outputs": [
    {
     "data": {
      "application/vnd.jupyter.widget-view+json": {
       "model_id": "675b5a0670bb4f2bad885c4aba9bff1f",
       "version_major": 2,
       "version_minor": 0
      },
      "text/plain": [
       "VBox(children=(HTML(value='<h1>Train Configuration</h1>'), VBox(children=(HTML(value='<h2>Dataset</h2>'), TwoB…"
      ]
     },
     "metadata": {},
     "output_type": "display_data"
    }
   ],
   "source": [
    "tcfg = TrainConfig()\n",
    "tcfg.display()"
   ]
  },
  {
   "cell_type": "code",
   "execution_count": 3,
   "metadata": {},
   "outputs": [
    {
     "name": "stdout",
     "output_type": "stream",
     "text": [
      "TrainConfig:\n",
      "    # Dataset\n",
      "    self.blender = './data/blender'\n",
      "    self.scene ='hotdog'\n",
      "    self.step = 1\n",
      "    self.scale = 0.1\n",
      "    \n",
      "    # Model\n",
      "    self.features = 256\n",
      "    self.sigma = 26.0\n",
      "    self.width = 128\n",
      "    self.depth = 2\n",
      "    \n",
      "    # Bounded Volume Raymarcher\n",
      "    self.tn = 2.0, self.tf = 6.0\n",
      "    self.samples = 64\n",
      "    self.perturb = True\n",
      "    \n",
      "    # Hyperparameters\n",
      "    self.epochs = 100\n",
      "    self.log = 10\n",
      "    self.lr = 0.005\n",
      "    self.fp16 = True\n",
      "    self.batch_size = 16384\n",
      "    self.jobs = 0\n",
      "\n",
      "    # Paths\n",
      "    self.model_ts = './res/NeRF_hotdog.ts'\n",
      "    self.gt_png = './res/NeRF_hotdog_gt.png'\n",
      "    self.pred_png = './res/NeRF_hotdog_pred.png'\n",
      "        \n"
     ]
    }
   ],
   "source": [
    "print(tcfg)"
   ]
  },
  {
   "cell_type": "markdown",
   "metadata": {},
   "source": [
    "### Data"
   ]
  },
  {
   "cell_type": "code",
   "execution_count": 4,
   "metadata": {
    "scrolled": true
   },
   "outputs": [
    {
     "data": {
      "application/vnd.jupyter.widget-view+json": {
       "model_id": "bb287aa554f544508a750b6f9c69e2e6",
       "version_major": 2,
       "version_minor": 0
      },
      "text/plain": [
       "[BlenderDataset(hotdog, train)] Loading Data:   0%|          | 0/100 [00:00<?, ?it/s]"
      ]
     },
     "metadata": {},
     "output_type": "display_data"
    },
    {
     "data": {
      "application/vnd.jupyter.widget-view+json": {
       "model_id": "f01952ac25904d2587def1656115d941",
       "version_major": 2,
       "version_minor": 0
      },
      "text/plain": [
       "[BlenderDataset(hotdog, train)] Building Rays:   0%|          | 0/100 [00:00<?, ?it/s]"
      ]
     },
     "metadata": {},
     "output_type": "display_data"
    },
    {
     "data": {
      "application/vnd.jupyter.widget-view+json": {
       "model_id": "dc27a035ad5b49ffa36c61da56beda35",
       "version_major": 2,
       "version_minor": 0
      },
      "text/plain": [
       "[BlenderDataset(hotdog, val)] Loading Data:   0%|          | 0/100 [00:00<?, ?it/s]"
      ]
     },
     "metadata": {},
     "output_type": "display_data"
    },
    {
     "data": {
      "application/vnd.jupyter.widget-view+json": {
       "model_id": "01b689d6b38f4e55b60d9e1a41dd4cd9",
       "version_major": 2,
       "version_minor": 0
      },
      "text/plain": [
       "[BlenderDataset(hotdog, val)] Building Rays:   0%|          | 0/100 [00:00<?, ?it/s]"
      ]
     },
     "metadata": {},
     "output_type": "display_data"
    },
    {
     "data": {
      "application/vnd.jupyter.widget-view+json": {
       "model_id": "2d2f54237b4144958ba82978b7b27a64",
       "version_major": 2,
       "version_minor": 0
      },
      "text/plain": [
       "[BlenderDataset(hotdog, test)] Loading Data:   0%|          | 0/200 [00:00<?, ?it/s]"
      ]
     },
     "metadata": {},
     "output_type": "display_data"
    },
    {
     "data": {
      "application/vnd.jupyter.widget-view+json": {
       "model_id": "a5ebd1ed38824c838fbd2a69d6f572df",
       "version_major": 2,
       "version_minor": 0
      },
      "text/plain": [
       "[BlenderDataset(hotdog, test)] Building Rays:   0%|          | 0/200 [00:00<?, ?it/s]"
      ]
     },
     "metadata": {},
     "output_type": "display_data"
    }
   ],
   "source": [
    "train = BlenderDataset(tcfg.blender, tcfg.scene, \"train\", step=tcfg.step, scale=tcfg.step)\n",
    "val = BlenderDataset(tcfg.blender, tcfg.scene, \"val\", step=tcfg.step, scale=tcfg.step)\n",
    "test = BlenderDataset(tcfg.blender, tcfg.scene, \"test\", step=tcfg.step, scale=tcfg.step)"
   ]
  },
  {
   "cell_type": "code",
   "execution_count": 5,
   "metadata": {},
   "outputs": [
    {
     "data": {
      "application/vnd.jupyter.widget-view+json": {
       "model_id": "ba497be4c8024c2692c117e4b7a609f7",
       "version_major": 2,
       "version_minor": 0
      },
      "text/plain": [
       "[BlenderDataset(hotdog, val)] Building Rays:   0%|          | 0/40 [00:00<?, ?it/s]"
      ]
     },
     "metadata": {},
     "output_type": "display_data"
    }
   ],
   "source": [
    "W, H = val.W, val.H\n",
    "vro, vrd = val.turnaround_data()\n",
    "vro, vrd = vro[:W * H], vrd[:W * H]"
   ]
  },
  {
   "cell_type": "code",
   "execution_count": 6,
   "metadata": {},
   "outputs": [
    {
     "data": {
      "image/png": "[encoded data removed]",
      "text/plain": [
       "<PIL.Image.Image image mode=RGB size=256x256 at 0x7F2EDB041F70>"
      ]
     },
     "metadata": {},
     "output_type": "display_data"
    }
   ],
   "source": [
    "gt = val.C[:W * H].view(W, H, 3).clip(0, 1) * 255\n",
    "gt = gt.numpy().astype(np.uint8)\n",
    "\n",
    "img = Image.fromarray(gt)\n",
    "img.save(tcfg.gt_png)\n",
    "display(img.resize((256, 256)))"
   ]
  },
  {
   "cell_type": "markdown",
   "metadata": {},
   "source": [
    "### Model"
   ]
  },
  {
   "cell_type": "code",
   "execution_count": 7,
   "metadata": {},
   "outputs": [],
   "source": [
    "features, sigma = (tcfg.features, tcfg.features), (tcfg.sigma, tcfg.sigma)\n",
    "nerf = NeRF(*features, *sigma, width=tcfg.width, depth=tcfg.depth).cuda()\n",
    "raymarcher = BVR(tcfg.tn, tcfg.tf, samples=tcfg.samples)"
   ]
  },
  {
   "cell_type": "markdown",
   "metadata": {},
   "source": [
    "### Optimization"
   ]
  },
  {
   "cell_type": "code",
   "execution_count": 8,
   "metadata": {},
   "outputs": [],
   "source": [
    "criterion = MSELoss().cuda()\n",
    "optim = Adam(nerf.parameters(), lr=tcfg.lr)\n",
    "scaler = GradScaler(enabled=tcfg.fp16)"
   ]
  },
  {
   "cell_type": "markdown",
   "metadata": {},
   "source": [
    "### Callbacks"
   ]
  },
  {
   "cell_type": "code",
   "execution_count": 9,
   "metadata": {},
   "outputs": [],
   "source": [
    "w_gt = widgets.Image(value=b\"\", format=\"png\", width=256, height=256)\n",
    "w_pred = widgets.Image(value=b\"\", format=\"png\", width=256, height=256)\n",
    "\n",
    "with open(tcfg.gt_png, \"rb\") as f:\n",
    "    w_gt.value = f.read()"
   ]
  },
  {
   "cell_type": "code",
   "execution_count": 10,
   "metadata": {},
   "outputs": [],
   "source": [
    "do_callback = lambda e: (e % (tcfg.log - 1) == 0) or (e == (tcfg.epochs - 1))\n",
    "\n",
    "\n",
    "def save_callback(epoch: int) -> None:\n",
    "    if do_callback(epoch):\n",
    "        print(f\"[NeRF] Saving Model's Weights to `{tcfg.model_ts}`\")\n",
    "        jit.save(jit.script(nerf), tcfg.model_ts)\n",
    "\n",
    "        \n",
    "def render_callback(epoch: int) -> None:\n",
    "    if do_callback(epoch):\n",
    "        pred = nerf.infer(raymarcher, vro, vrd, W, H, batch_size=tcfg.batch_size)\n",
    "        pred = pred.numpy().astype(np.uint8)\n",
    "        \n",
    "        img = Image.fromarray(pred)\n",
    "        img.save(tcfg.pred_png)\n",
    "      \n",
    "    \n",
    "def update_pred(epoch: int) -> None:\n",
    "    if do_callback(epoch):\n",
    "        with open(tcfg.pred_png, \"rb\") as f:\n",
    "            w_pred.value = f.read()\n",
    "\n",
    "            \n",
    "callbacks = [save_callback, render_callback, update_pred]"
   ]
  },
  {
   "cell_type": "markdown",
   "metadata": {},
   "source": [
    "### Fit"
   ]
  },
  {
   "cell_type": "code",
   "execution_count": 11,
   "metadata": {},
   "outputs": [
    {
     "data": {
      "application/vnd.jupyter.widget-view+json": {
       "model_id": "1018a5ae6997413982bbe301b882e14c",
       "version_major": 2,
       "version_minor": 0
      },
      "text/plain": [
       "HBox(children=(Image(value=b'\\x89PNG\\r\\n\\x1a\\n\\x00\\x00\\x00\\rIHDR\\x00\\x00\\x03 \\x00\\x00\\x03 \\x08\\x02\\x00\\x00\\x00…"
      ]
     },
     "metadata": {},
     "output_type": "display_data"
    }
   ],
   "source": [
    "display(widgets.HBox([w_gt, w_pred]))"
   ]
  },
  {
   "cell_type": "code",
   "execution_count": null,
   "metadata": {},
   "outputs": [
    {
     "data": {
      "application/vnd.jupyter.widget-view+json": {
       "model_id": "02412225033b4c2f92a742db34f0bfec",
       "version_major": 2,
       "version_minor": 0
      },
      "text/plain": [
       "[NeRF] Epoch:   0%|          | 0/100 [00:00<?, ?it/s]"
      ]
     },
     "metadata": {},
     "output_type": "display_data"
    },
    {
     "data": {
      "application/vnd.jupyter.widget-view+json": {
       "model_id": "d7b1c6665c41412caa960306cb2de4ac",
       "version_major": 2,
       "version_minor": 0
      },
      "text/plain": [
       "[NeRF] Train:   0%|          | 0/3907 [00:00<?, ?it/s]"
      ]
     },
     "metadata": {},
     "output_type": "display_data"
    }
   ],
   "source": [
    "history = nerf.fit(\n",
    "    raymarcher,\n",
    "    optim,\n",
    "    criterion,\n",
    "    scaler,\n",
    "    train,\n",
    "    epochs=tcfg.epochs,\n",
    "    batch_size=tcfg.batch_size,\n",
    "    jobs=tcfg.jobs,\n",
    "    perturb=tcfg.perturb,\n",
    "    callbacks=callbacks,\n",
    ")"
   ]
  },
  {
   "cell_type": "code",
   "execution_count": null,
   "metadata": {},
   "outputs": [],
   "source": [
    "if history:\n",
    "    x = list(range(len(history.train)))\n",
    "    \n",
    "    plt.figure()\n",
    "    plt.title(\"Train History\")\n",
    "    plt.subplots(1, 2, 1)\n",
    "    plt.gca().set_title(\"MSE\")\n",
    "    plt.plot(x=x, y=[mse for mse, _ in history.train], label=\"train\")\n",
    "    plt.plot(x=x, y=[mse for mse, _ in history.val], label=\"val\")\n",
    "    plt.subplots(1, 2, 2)\n",
    "    plt.gca().set_title(\"PSNR\")\n",
    "    plt.plot(x=x, y=[psnr for _, psnr in history.train], label=\"train\")\n",
    "    plt.plot(x=x, y=[psnr for _, psnr in history.val], label=\"val\")\n",
    "    \n",
    "    print(f\"Test MSE={history.test[0]} PSNR={history.test[1]}\")"
   ]
  },
  {
   "cell_type": "markdown",
   "metadata": {},
   "source": [
    "## Inference"
   ]
  },
  {
   "cell_type": "markdown",
   "metadata": {},
   "source": [
    "### Setup"
   ]
  },
  {
   "cell_type": "code",
   "execution_count": null,
   "metadata": {},
   "outputs": [],
   "source": [
    "rcfg = RenderConfig()\n",
    "rcfg.display()"
   ]
  },
  {
   "cell_type": "code",
   "execution_count": null,
   "metadata": {},
   "outputs": [],
   "source": [
    "print(rcfg)"
   ]
  },
  {
   "cell_type": "markdown",
   "metadata": {},
   "source": [
    "### Data"
   ]
  },
  {
   "cell_type": "code",
   "execution_count": null,
   "metadata": {},
   "outputs": [],
   "source": [
    "val = BlenderDataset(rcfg.blender, rcfg.scene, \"val\", step=rcfg.step, scale=rcfg.step)"
   ]
  },
  {
   "cell_type": "code",
   "execution_count": null,
   "metadata": {},
   "outputs": [],
   "source": [
    "ros, rds = val.turnaround_data(samples=rcfg.frames)\n",
    "W, H = val.W, val.H\n",
    "S = W * H\n",
    "n = len(ros)"
   ]
  },
  {
   "cell_type": "markdown",
   "metadata": {},
   "source": [
    "### Model"
   ]
  },
  {
   "cell_type": "code",
   "execution_count": null,
   "metadata": {},
   "outputs": [],
   "source": [
    "nerf = jit.load(rcfg.model_ts).cuda()\n",
    "raymarcher = BVR(rcfg.tn, rcfg.tf, samples=rcfg.samples)\n",
    "\n",
    "nerf.infer = lambda *args, **kwargs: NeRF.infer(nerf, *args, **kwargs)"
   ]
  },
  {
   "cell_type": "markdown",
   "metadata": {},
   "source": [
    "### Inference"
   ]
  },
  {
   "cell_type": "code",
   "execution_count": null,
   "metadata": {
    "scrolled": true
   },
   "outputs": [],
   "source": [
    "preds = np.zeros((rcfg.frames, W, H, 3), dtype=np.uint8)\n",
    "pbar = tqdm(range(0, n, S), desc=\"[NeRF] Frame\")\n",
    "for i, s in enumerate(pbar):\n",
    "    ro, rd = ros[s:s + S], rds[s:s + S]\n",
    "    pred = nerf.infer(raymarcher, ro, rd, W, H, batch_size=rcfg.batch_size, verbose=False)\n",
    "    preds[i] = pred.numpy().astype(np.uint8)"
   ]
  },
  {
   "cell_type": "code",
   "execution_count": null,
   "metadata": {},
   "outputs": [],
   "source": [
    "clip = ImageSequenceClip(list(preds), durations=[1. / rcfg.fps] * rcfg.frames)\n",
    "clip.write_gif(rcfg.pred_gif, fps=rcfg.fps)"
   ]
  },
  {
   "cell_type": "code",
   "execution_count": null,
   "metadata": {},
   "outputs": [],
   "source": [
    "w_gif = widgets.Image(value=b\"\", format=\"gif\", width=256, height=256)\n",
    "\n",
    "with open(rcfg.pred_gif, \"rb\") as f:\n",
    "    w_gif.value = f.read()\n",
    "    \n",
    "display(w_gif)"
   ]
  }
 ],
 "metadata": {
  "interpreter": {
   "hash": "31f2aee4e71d21fbe5cf8b01ff0e069b9275f58929596ceb00d14d90e3e16cd6"
  },
  "kernelspec": {
   "display_name": "Python 3 (ipykernel)",
   "language": "python",
   "name": "python3"
  },
  "language_info": {
   "codemirror_mode": {
    "name": "ipython",
    "version": 3
   },
   "file_extension": ".py",
   "mimetype": "text/x-python",
   "name": "python",
   "nbconvert_exporter": "python",
   "pygments_lexer": "ipython3",
   "version": "3.8.10"
  }
 },
 "nbformat": 4,
 "nbformat_minor": 2
}
