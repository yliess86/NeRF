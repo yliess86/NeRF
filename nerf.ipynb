{
 "cells": [
  {
   "cell_type": "markdown",
   "metadata": {},
   "source": [
    "# NeRF: Neural Radiance Field"
   ]
  },
  {
   "cell_type": "markdown",
   "metadata": {},
   "source": [
    "## Imports"
   ]
  },
  {
   "cell_type": "code",
   "execution_count": 1,
   "metadata": {},
   "outputs": [],
   "source": [
    "import matplotlib.pyplot as plt\n",
    "import numpy as np\n",
    "\n",
    "from ipynb.config import InferConfig, TrainConfig\n",
    "from ipynb.infer import Inferer\n",
    "from ipynb.train import Trainer\n",
    "\n",
    "%matplotlib inline"
   ]
  },
  {
   "cell_type": "markdown",
   "metadata": {},
   "source": [
    "## Train"
   ]
  },
  {
   "cell_type": "code",
   "execution_count": 2,
   "metadata": {},
   "outputs": [
    {
     "data": {
      "application/vnd.jupyter.widget-view+json": {
       "model_id": "7118f421e752410cb15645a3d755eb81",
       "version_major": 2,
       "version_minor": 0
      },
      "text/plain": [
       "VBox(children=(Tab(children=(GridspecLayout(children=(Dropdown(description='Scene', index=3, layout=Layout(gri…"
      ]
     },
     "metadata": {},
     "output_type": "display_data"
    }
   ],
   "source": [
    "trainer = Trainer(TrainConfig(), verbose=True)\n",
    "trainer.display()"
   ]
  },
  {
   "cell_type": "code",
   "execution_count": 3,
   "metadata": {},
   "outputs": [],
   "source": [
    "if H:= trainer.history:\n",
    "    plt.figure()\n",
    "    plt.title(\"MSE\")\n",
    "    plt.plot([mse for mse, _ in H.train], label=\"train\")\n",
    "    plt.show()\n",
    "\n",
    "    plt.figure()\n",
    "    plt.title(\"PSNR\")\n",
    "    plt.plot([psnr for _, psnr in H.train], label=\"train\")\n",
    "    plt.show()"
   ]
  },
  {
   "cell_type": "markdown",
   "metadata": {},
   "source": [
    "## Inference"
   ]
  },
  {
   "cell_type": "code",
   "execution_count": 4,
   "metadata": {
    "scrolled": false
   },
   "outputs": [
    {
     "data": {
      "application/vnd.jupyter.widget-view+json": {
       "model_id": "d499d440490d4f59ae254f0554edf169",
       "version_major": 2,
       "version_minor": 0
      },
      "text/plain": [
       "VBox(children=(Tab(children=(GridspecLayout(children=(Dropdown(description='Scene', index=3, layout=Layout(gri…"
      ]
     },
     "metadata": {},
     "output_type": "display_data"
    },
    {
     "data": {
      "application/vnd.jupyter.widget-view+json": {
       "model_id": "964ef01131204529a8858d0c494facbf",
       "version_major": 2,
       "version_minor": 0
      },
      "text/plain": [
       "[BlenderDataset(hotdog, train)] Loading Data:   0%|          | 0/5 [00:00<?, ?it/s]"
      ]
     },
     "metadata": {},
     "output_type": "display_data"
    },
    {
     "data": {
      "application/vnd.jupyter.widget-view+json": {
       "model_id": "a444faceca0e499f9d96ae8e211c0db8",
       "version_major": 2,
       "version_minor": 0
      },
      "text/plain": [
       "[BlenderDataset(hotdog, train)] Building Rays:   0%|          | 0/5 [00:00<?, ?it/s]"
      ]
     },
     "metadata": {},
     "output_type": "display_data"
    },
    {
     "name": "stdout",
     "output_type": "stream",
     "text": [
      "[Setup] Dataset Ready\n",
      "[Setup] Model Ready\n",
      "[Setup] Raymarcher Ready\n",
      "[Setup] Creating Rays\n"
     ]
    },
    {
     "data": {
      "application/vnd.jupyter.widget-view+json": {
       "model_id": "fe6b9e12a92f4613a6febee81d04b073",
       "version_major": 2,
       "version_minor": 0
      },
      "text/plain": [
       "[BlenderDataset(hotdog, train)] Building Rays:   0%|          | 0/120 [00:00<?, ?it/s]"
      ]
     },
     "metadata": {},
     "output_type": "display_data"
    },
    {
     "name": "stdout",
     "output_type": "stream",
     "text": [
      "[Setup] Rendering Started\n"
     ]
    },
    {
     "data": {
      "application/vnd.jupyter.widget-view+json": {
       "model_id": "7c879f77b1c8481f9c546307b768b794",
       "version_major": 2,
       "version_minor": 0
      },
      "text/plain": [
       "[NeRF] Frame:   0%|          | 0/120 [00:00<?, ?it/s]"
      ]
     },
     "metadata": {},
     "output_type": "display_data"
    },
    {
     "data": {
      "application/vnd.jupyter.widget-view+json": {
       "model_id": "cc5acfe66ce6483dbfe2060aaf5b19f0",
       "version_major": 2,
       "version_minor": 0
      },
      "text/plain": [
       "[NeRF] Rendering:   0%|          | 0/2 [00:00<?, ?it/s]"
      ]
     },
     "metadata": {},
     "output_type": "display_data"
    },
    {
     "data": {
      "application/vnd.jupyter.widget-view+json": {
       "model_id": "a66308d3a8f84321a27296a43aae39cc",
       "version_major": 2,
       "version_minor": 0
      },
      "text/plain": [
       "[NeRF] Rendering:   0%|          | 0/2 [00:00<?, ?it/s]"
      ]
     },
     "metadata": {},
     "output_type": "display_data"
    },
    {
     "data": {
      "application/vnd.jupyter.widget-view+json": {
       "model_id": "b4eed304b94e49bebfa661ecbf56c059",
       "version_major": 2,
       "version_minor": 0
      },
      "text/plain": [
       "[NeRF] Rendering:   0%|          | 0/2 [00:00<?, ?it/s]"
      ]
     },
     "metadata": {},
     "output_type": "display_data"
    },
    {
     "data": {
      "application/vnd.jupyter.widget-view+json": {
       "model_id": "5e9013f0888947b5a6686913864b5464",
       "version_major": 2,
       "version_minor": 0
      },
      "text/plain": [
       "[NeRF] Rendering:   0%|          | 0/2 [00:00<?, ?it/s]"
      ]
     },
     "metadata": {},
     "output_type": "display_data"
    },
    {
     "data": {
      "application/vnd.jupyter.widget-view+json": {
       "model_id": "7f65c6adb291476c861c62846cc2c9fd",
       "version_major": 2,
       "version_minor": 0
      },
      "text/plain": [
       "[NeRF] Rendering:   0%|          | 0/2 [00:00<?, ?it/s]"
      ]
     },
     "metadata": {},
     "output_type": "display_data"
    },
    {
     "data": {
      "application/vnd.jupyter.widget-view+json": {
       "model_id": "8747d33594ed4fb8bb307e1d5da28c08",
       "version_major": 2,
       "version_minor": 0
      },
      "text/plain": [
       "[NeRF] Rendering:   0%|          | 0/2 [00:00<?, ?it/s]"
      ]
     },
     "metadata": {},
     "output_type": "display_data"
    },
    {
     "data": {
      "application/vnd.jupyter.widget-view+json": {
       "model_id": "b17a8d82eec54a6fbca93a632efc415f",
       "version_major": 2,
       "version_minor": 0
      },
      "text/plain": [
       "[NeRF] Rendering:   0%|          | 0/2 [00:00<?, ?it/s]"
      ]
     },
     "metadata": {},
     "output_type": "display_data"
    },
    {
     "data": {
      "application/vnd.jupyter.widget-view+json": {
       "model_id": "effac2eea2a74c0b931d71d2cfc69a2c",
       "version_major": 2,
       "version_minor": 0
      },
      "text/plain": [
       "[NeRF] Rendering:   0%|          | 0/2 [00:00<?, ?it/s]"
      ]
     },
     "metadata": {},
     "output_type": "display_data"
    },
    {
     "data": {
      "application/vnd.jupyter.widget-view+json": {
       "model_id": "0fb558ac957045e793cbfe77f80037c5",
       "version_major": 2,
       "version_minor": 0
      },
      "text/plain": [
       "[NeRF] Rendering:   0%|          | 0/2 [00:00<?, ?it/s]"
      ]
     },
     "metadata": {},
     "output_type": "display_data"
    },
    {
     "data": {
      "application/vnd.jupyter.widget-view+json": {
       "model_id": "1d3e6dbcb8c34ddbb581eca5c9be6f6e",
       "version_major": 2,
       "version_minor": 0
      },
      "text/plain": [
       "[NeRF] Rendering:   0%|          | 0/2 [00:00<?, ?it/s]"
      ]
     },
     "metadata": {},
     "output_type": "display_data"
    },
    {
     "data": {
      "application/vnd.jupyter.widget-view+json": {
       "model_id": "85c7d8821e434305a4c2c2db6a72d180",
       "version_major": 2,
       "version_minor": 0
      },
      "text/plain": [
       "[NeRF] Rendering:   0%|          | 0/2 [00:00<?, ?it/s]"
      ]
     },
     "metadata": {},
     "output_type": "display_data"
    },
    {
     "data": {
      "application/vnd.jupyter.widget-view+json": {
       "model_id": "4b08d275b5fa46d4892c7b7d7a9e89ab",
       "version_major": 2,
       "version_minor": 0
      },
      "text/plain": [
       "[NeRF] Rendering:   0%|          | 0/2 [00:00<?, ?it/s]"
      ]
     },
     "metadata": {},
     "output_type": "display_data"
    },
    {
     "data": {
      "application/vnd.jupyter.widget-view+json": {
       "model_id": "adff6d83fba541d1b2ef0242036ba077",
       "version_major": 2,
       "version_minor": 0
      },
      "text/plain": [
       "[NeRF] Rendering:   0%|          | 0/2 [00:00<?, ?it/s]"
      ]
     },
     "metadata": {},
     "output_type": "display_data"
    },
    {
     "data": {
      "application/vnd.jupyter.widget-view+json": {
       "model_id": "8c45f73dd5e54d42a4703df30116901c",
       "version_major": 2,
       "version_minor": 0
      },
      "text/plain": [
       "[NeRF] Rendering:   0%|          | 0/2 [00:00<?, ?it/s]"
      ]
     },
     "metadata": {},
     "output_type": "display_data"
    },
    {
     "data": {
      "application/vnd.jupyter.widget-view+json": {
       "model_id": "fc1c81eca6cb4b0eac7ed8fb0eaa046c",
       "version_major": 2,
       "version_minor": 0
      },
      "text/plain": [
       "[NeRF] Rendering:   0%|          | 0/2 [00:00<?, ?it/s]"
      ]
     },
     "metadata": {},
     "output_type": "display_data"
    },
    {
     "data": {
      "application/vnd.jupyter.widget-view+json": {
       "model_id": "7730b561ceed4c179229c02e70ee2da0",
       "version_major": 2,
       "version_minor": 0
      },
      "text/plain": [
       "[NeRF] Rendering:   0%|          | 0/2 [00:00<?, ?it/s]"
      ]
     },
     "metadata": {},
     "output_type": "display_data"
    },
    {
     "data": {
      "application/vnd.jupyter.widget-view+json": {
       "model_id": "b70dd3bf6e204edbb7f1d563d1351230",
       "version_major": 2,
       "version_minor": 0
      },
      "text/plain": [
       "[NeRF] Rendering:   0%|          | 0/2 [00:00<?, ?it/s]"
      ]
     },
     "metadata": {},
     "output_type": "display_data"
    },
    {
     "data": {
      "application/vnd.jupyter.widget-view+json": {
       "model_id": "878e95453f014a05beb08c006d375134",
       "version_major": 2,
       "version_minor": 0
      },
      "text/plain": [
       "[NeRF] Rendering:   0%|          | 0/2 [00:00<?, ?it/s]"
      ]
     },
     "metadata": {},
     "output_type": "display_data"
    },
    {
     "data": {
      "application/vnd.jupyter.widget-view+json": {
       "model_id": "6f3dcf44b9e94c0c91ce3297764c6af5",
       "version_major": 2,
       "version_minor": 0
      },
      "text/plain": [
       "[NeRF] Rendering:   0%|          | 0/2 [00:00<?, ?it/s]"
      ]
     },
     "metadata": {},
     "output_type": "display_data"
    },
    {
     "data": {
      "application/vnd.jupyter.widget-view+json": {
       "model_id": "c550a10892dd4be7bd62340c412acbed",
       "version_major": 2,
       "version_minor": 0
      },
      "text/plain": [
       "[NeRF] Rendering:   0%|          | 0/2 [00:00<?, ?it/s]"
      ]
     },
     "metadata": {},
     "output_type": "display_data"
    },
    {
     "data": {
      "application/vnd.jupyter.widget-view+json": {
       "model_id": "7d0f48a90f59451fafa236064510d692",
       "version_major": 2,
       "version_minor": 0
      },
      "text/plain": [
       "[NeRF] Rendering:   0%|          | 0/2 [00:00<?, ?it/s]"
      ]
     },
     "metadata": {},
     "output_type": "display_data"
    },
    {
     "data": {
      "application/vnd.jupyter.widget-view+json": {
       "model_id": "ed547016430d45d7b447dd27d5023a79",
       "version_major": 2,
       "version_minor": 0
      },
      "text/plain": [
       "[NeRF] Rendering:   0%|          | 0/2 [00:00<?, ?it/s]"
      ]
     },
     "metadata": {},
     "output_type": "display_data"
    },
    {
     "data": {
      "application/vnd.jupyter.widget-view+json": {
       "model_id": "aefc5abca14a45e3a599a205687b55b9",
       "version_major": 2,
       "version_minor": 0
      },
      "text/plain": [
       "[NeRF] Rendering:   0%|          | 0/2 [00:00<?, ?it/s]"
      ]
     },
     "metadata": {},
     "output_type": "display_data"
    },
    {
     "data": {
      "application/vnd.jupyter.widget-view+json": {
       "model_id": "51f29acd911f4a37adeb5c6b2bcd07eb",
       "version_major": 2,
       "version_minor": 0
      },
      "text/plain": [
       "[NeRF] Rendering:   0%|          | 0/2 [00:00<?, ?it/s]"
      ]
     },
     "metadata": {},
     "output_type": "display_data"
    },
    {
     "data": {
      "application/vnd.jupyter.widget-view+json": {
       "model_id": "6fe9cd5b09954fc59681d18019fbf29b",
       "version_major": 2,
       "version_minor": 0
      },
      "text/plain": [
       "[NeRF] Rendering:   0%|          | 0/2 [00:00<?, ?it/s]"
      ]
     },
     "metadata": {},
     "output_type": "display_data"
    },
    {
     "data": {
      "application/vnd.jupyter.widget-view+json": {
       "model_id": "2f7efff872a1436f9242553840a352c7",
       "version_major": 2,
       "version_minor": 0
      },
      "text/plain": [
       "[NeRF] Rendering:   0%|          | 0/2 [00:00<?, ?it/s]"
      ]
     },
     "metadata": {},
     "output_type": "display_data"
    },
    {
     "data": {
      "application/vnd.jupyter.widget-view+json": {
       "model_id": "dd18930d85544a7692e565a4d9ec5cea",
       "version_major": 2,
       "version_minor": 0
      },
      "text/plain": [
       "[NeRF] Rendering:   0%|          | 0/2 [00:00<?, ?it/s]"
      ]
     },
     "metadata": {},
     "output_type": "display_data"
    },
    {
     "data": {
      "application/vnd.jupyter.widget-view+json": {
       "model_id": "f3310a74bac14944bacfdc5b841a1069",
       "version_major": 2,
       "version_minor": 0
      },
      "text/plain": [
       "[NeRF] Rendering:   0%|          | 0/2 [00:00<?, ?it/s]"
      ]
     },
     "metadata": {},
     "output_type": "display_data"
    },
    {
     "data": {
      "application/vnd.jupyter.widget-view+json": {
       "model_id": "6247dfc618124a19868fe09aa088ad9b",
       "version_major": 2,
       "version_minor": 0
      },
      "text/plain": [
       "[NeRF] Rendering:   0%|          | 0/2 [00:00<?, ?it/s]"
      ]
     },
     "metadata": {},
     "output_type": "display_data"
    },
    {
     "data": {
      "application/vnd.jupyter.widget-view+json": {
       "model_id": "558b0c1910c341e5b69a415434168dec",
       "version_major": 2,
       "version_minor": 0
      },
      "text/plain": [
       "[NeRF] Rendering:   0%|          | 0/2 [00:00<?, ?it/s]"
      ]
     },
     "metadata": {},
     "output_type": "display_data"
    },
    {
     "data": {
      "application/vnd.jupyter.widget-view+json": {
       "model_id": "42bef9b47b9b48f49c2aa30b1d5f3138",
       "version_major": 2,
       "version_minor": 0
      },
      "text/plain": [
       "[NeRF] Rendering:   0%|          | 0/2 [00:00<?, ?it/s]"
      ]
     },
     "metadata": {},
     "output_type": "display_data"
    },
    {
     "data": {
      "application/vnd.jupyter.widget-view+json": {
       "model_id": "86c68d3fe745406e9112eae45e457a5b",
       "version_major": 2,
       "version_minor": 0
      },
      "text/plain": [
       "[NeRF] Rendering:   0%|          | 0/2 [00:00<?, ?it/s]"
      ]
     },
     "metadata": {},
     "output_type": "display_data"
    },
    {
     "data": {
      "application/vnd.jupyter.widget-view+json": {
       "model_id": "41ecbccd47784a68be007b39efe6cf2d",
       "version_major": 2,
       "version_minor": 0
      },
      "text/plain": [
       "[NeRF] Rendering:   0%|          | 0/2 [00:00<?, ?it/s]"
      ]
     },
     "metadata": {},
     "output_type": "display_data"
    },
    {
     "data": {
      "application/vnd.jupyter.widget-view+json": {
       "model_id": "fd9889e5021d41cab4d57d9091fdc1fe",
       "version_major": 2,
       "version_minor": 0
      },
      "text/plain": [
       "[NeRF] Rendering:   0%|          | 0/2 [00:00<?, ?it/s]"
      ]
     },
     "metadata": {},
     "output_type": "display_data"
    },
    {
     "data": {
      "application/vnd.jupyter.widget-view+json": {
       "model_id": "5cf8dbaaf1b7455191bde038be5f6ba2",
       "version_major": 2,
       "version_minor": 0
      },
      "text/plain": [
       "[NeRF] Rendering:   0%|          | 0/2 [00:00<?, ?it/s]"
      ]
     },
     "metadata": {},
     "output_type": "display_data"
    },
    {
     "data": {
      "application/vnd.jupyter.widget-view+json": {
       "model_id": "240f9529c92b4f049ec0c5157f2d0633",
       "version_major": 2,
       "version_minor": 0
      },
      "text/plain": [
       "[NeRF] Rendering:   0%|          | 0/2 [00:00<?, ?it/s]"
      ]
     },
     "metadata": {},
     "output_type": "display_data"
    },
    {
     "data": {
      "application/vnd.jupyter.widget-view+json": {
       "model_id": "164fd049dd314e559da423362da45cdc",
       "version_major": 2,
       "version_minor": 0
      },
      "text/plain": [
       "[NeRF] Rendering:   0%|          | 0/2 [00:00<?, ?it/s]"
      ]
     },
     "metadata": {},
     "output_type": "display_data"
    },
    {
     "data": {
      "application/vnd.jupyter.widget-view+json": {
       "model_id": "1ab11ffd497c43dfb3081d2f0e084195",
       "version_major": 2,
       "version_minor": 0
      },
      "text/plain": [
       "[NeRF] Rendering:   0%|          | 0/2 [00:00<?, ?it/s]"
      ]
     },
     "metadata": {},
     "output_type": "display_data"
    },
    {
     "data": {
      "application/vnd.jupyter.widget-view+json": {
       "model_id": "731693c74bce43fda693816ddfbbc6ef",
       "version_major": 2,
       "version_minor": 0
      },
      "text/plain": [
       "[NeRF] Rendering:   0%|          | 0/2 [00:00<?, ?it/s]"
      ]
     },
     "metadata": {},
     "output_type": "display_data"
    },
    {
     "data": {
      "application/vnd.jupyter.widget-view+json": {
       "model_id": "da2831c6afd34a58a44d9e68598e4fa3",
       "version_major": 2,
       "version_minor": 0
      },
      "text/plain": [
       "[NeRF] Rendering:   0%|          | 0/2 [00:00<?, ?it/s]"
      ]
     },
     "metadata": {},
     "output_type": "display_data"
    },
    {
     "data": {
      "application/vnd.jupyter.widget-view+json": {
       "model_id": "11810686175e4d798ee7b48ae76dfff1",
       "version_major": 2,
       "version_minor": 0
      },
      "text/plain": [
       "[NeRF] Rendering:   0%|          | 0/2 [00:00<?, ?it/s]"
      ]
     },
     "metadata": {},
     "output_type": "display_data"
    },
    {
     "data": {
      "application/vnd.jupyter.widget-view+json": {
       "model_id": "aefbc53b0c7941378ccc9e1603b365fa",
       "version_major": 2,
       "version_minor": 0
      },
      "text/plain": [
       "[NeRF] Rendering:   0%|          | 0/2 [00:00<?, ?it/s]"
      ]
     },
     "metadata": {},
     "output_type": "display_data"
    },
    {
     "data": {
      "application/vnd.jupyter.widget-view+json": {
       "model_id": "81a713a4489d4cddbe0d385b7f6d48ff",
       "version_major": 2,
       "version_minor": 0
      },
      "text/plain": [
       "[NeRF] Rendering:   0%|          | 0/2 [00:00<?, ?it/s]"
      ]
     },
     "metadata": {},
     "output_type": "display_data"
    },
    {
     "data": {
      "application/vnd.jupyter.widget-view+json": {
       "model_id": "bf611f1d098843daac18cb319556da93",
       "version_major": 2,
       "version_minor": 0
      },
      "text/plain": [
       "[NeRF] Rendering:   0%|          | 0/2 [00:00<?, ?it/s]"
      ]
     },
     "metadata": {},
     "output_type": "display_data"
    },
    {
     "data": {
      "application/vnd.jupyter.widget-view+json": {
       "model_id": "3c1af31cb2aa46e283317a0b19db074d",
       "version_major": 2,
       "version_minor": 0
      },
      "text/plain": [
       "[NeRF] Rendering:   0%|          | 0/2 [00:00<?, ?it/s]"
      ]
     },
     "metadata": {},
     "output_type": "display_data"
    },
    {
     "data": {
      "application/vnd.jupyter.widget-view+json": {
       "model_id": "19b74fe631494316ae8805f58632be70",
       "version_major": 2,
       "version_minor": 0
      },
      "text/plain": [
       "[NeRF] Rendering:   0%|          | 0/2 [00:00<?, ?it/s]"
      ]
     },
     "metadata": {},
     "output_type": "display_data"
    },
    {
     "data": {
      "application/vnd.jupyter.widget-view+json": {
       "model_id": "7cbdedd4a4e74a77a132177f71be4bcc",
       "version_major": 2,
       "version_minor": 0
      },
      "text/plain": [
       "[NeRF] Rendering:   0%|          | 0/2 [00:00<?, ?it/s]"
      ]
     },
     "metadata": {},
     "output_type": "display_data"
    },
    {
     "data": {
      "application/vnd.jupyter.widget-view+json": {
       "model_id": "572622ae1f2b4fc38c654455a42ca337",
       "version_major": 2,
       "version_minor": 0
      },
      "text/plain": [
       "[NeRF] Rendering:   0%|          | 0/2 [00:00<?, ?it/s]"
      ]
     },
     "metadata": {},
     "output_type": "display_data"
    },
    {
     "data": {
      "application/vnd.jupyter.widget-view+json": {
       "model_id": "a19b0ff83448441b94ee53c7da0f7235",
       "version_major": 2,
       "version_minor": 0
      },
      "text/plain": [
       "[NeRF] Rendering:   0%|          | 0/2 [00:00<?, ?it/s]"
      ]
     },
     "metadata": {},
     "output_type": "display_data"
    },
    {
     "data": {
      "application/vnd.jupyter.widget-view+json": {
       "model_id": "017edd9a9eaf4f4a8c09e93da57ada57",
       "version_major": 2,
       "version_minor": 0
      },
      "text/plain": [
       "[NeRF] Rendering:   0%|          | 0/2 [00:00<?, ?it/s]"
      ]
     },
     "metadata": {},
     "output_type": "display_data"
    },
    {
     "data": {
      "application/vnd.jupyter.widget-view+json": {
       "model_id": "bf1c4394db014fc59efd1f29ab4a9672",
       "version_major": 2,
       "version_minor": 0
      },
      "text/plain": [
       "[NeRF] Rendering:   0%|          | 0/2 [00:00<?, ?it/s]"
      ]
     },
     "metadata": {},
     "output_type": "display_data"
    },
    {
     "data": {
      "application/vnd.jupyter.widget-view+json": {
       "model_id": "a20b4a5168c14c5f999aa129d90afd1f",
       "version_major": 2,
       "version_minor": 0
      },
      "text/plain": [
       "[NeRF] Rendering:   0%|          | 0/2 [00:00<?, ?it/s]"
      ]
     },
     "metadata": {},
     "output_type": "display_data"
    },
    {
     "data": {
      "application/vnd.jupyter.widget-view+json": {
       "model_id": "dd7b715d4add41f694280240a320a40e",
       "version_major": 2,
       "version_minor": 0
      },
      "text/plain": [
       "[NeRF] Rendering:   0%|          | 0/2 [00:00<?, ?it/s]"
      ]
     },
     "metadata": {},
     "output_type": "display_data"
    },
    {
     "data": {
      "application/vnd.jupyter.widget-view+json": {
       "model_id": "f80b2d64e5a840758b23be4498a3c5ce",
       "version_major": 2,
       "version_minor": 0
      },
      "text/plain": [
       "[NeRF] Rendering:   0%|          | 0/2 [00:00<?, ?it/s]"
      ]
     },
     "metadata": {},
     "output_type": "display_data"
    },
    {
     "data": {
      "application/vnd.jupyter.widget-view+json": {
       "model_id": "5967b5de8c284446b4cd7b0d35e309f8",
       "version_major": 2,
       "version_minor": 0
      },
      "text/plain": [
       "[NeRF] Rendering:   0%|          | 0/2 [00:00<?, ?it/s]"
      ]
     },
     "metadata": {},
     "output_type": "display_data"
    },
    {
     "data": {
      "application/vnd.jupyter.widget-view+json": {
       "model_id": "bc465e9cc0d54138a4477d1462ed6096",
       "version_major": 2,
       "version_minor": 0
      },
      "text/plain": [
       "[NeRF] Rendering:   0%|          | 0/2 [00:00<?, ?it/s]"
      ]
     },
     "metadata": {},
     "output_type": "display_data"
    },
    {
     "data": {
      "application/vnd.jupyter.widget-view+json": {
       "model_id": "cd9d607ef6cf45a89a4060eaf66f3227",
       "version_major": 2,
       "version_minor": 0
      },
      "text/plain": [
       "[NeRF] Rendering:   0%|          | 0/2 [00:00<?, ?it/s]"
      ]
     },
     "metadata": {},
     "output_type": "display_data"
    },
    {
     "data": {
      "application/vnd.jupyter.widget-view+json": {
       "model_id": "b29ca1092af9443183cbe1a7808b03d1",
       "version_major": 2,
       "version_minor": 0
      },
      "text/plain": [
       "[NeRF] Rendering:   0%|          | 0/2 [00:00<?, ?it/s]"
      ]
     },
     "metadata": {},
     "output_type": "display_data"
    },
    {
     "data": {
      "application/vnd.jupyter.widget-view+json": {
       "model_id": "bac45178373740f9b13d2426e5b8e7dc",
       "version_major": 2,
       "version_minor": 0
      },
      "text/plain": [
       "[NeRF] Rendering:   0%|          | 0/2 [00:00<?, ?it/s]"
      ]
     },
     "metadata": {},
     "output_type": "display_data"
    },
    {
     "data": {
      "application/vnd.jupyter.widget-view+json": {
       "model_id": "52801bc4d28f4fa79b088ac9d3b15ac1",
       "version_major": 2,
       "version_minor": 0
      },
      "text/plain": [
       "[NeRF] Rendering:   0%|          | 0/2 [00:00<?, ?it/s]"
      ]
     },
     "metadata": {},
     "output_type": "display_data"
    },
    {
     "data": {
      "application/vnd.jupyter.widget-view+json": {
       "model_id": "5f9147a446f74bb0a8f8fe62f4e7ad43",
       "version_major": 2,
       "version_minor": 0
      },
      "text/plain": [
       "[NeRF] Rendering:   0%|          | 0/2 [00:00<?, ?it/s]"
      ]
     },
     "metadata": {},
     "output_type": "display_data"
    },
    {
     "data": {
      "application/vnd.jupyter.widget-view+json": {
       "model_id": "89f7959c59af404eadef77e9de3f117a",
       "version_major": 2,
       "version_minor": 0
      },
      "text/plain": [
       "[NeRF] Rendering:   0%|          | 0/2 [00:00<?, ?it/s]"
      ]
     },
     "metadata": {},
     "output_type": "display_data"
    },
    {
     "data": {
      "application/vnd.jupyter.widget-view+json": {
       "model_id": "6c2eb2878ce444ee961f9e5032357e7c",
       "version_major": 2,
       "version_minor": 0
      },
      "text/plain": [
       "[NeRF] Rendering:   0%|          | 0/2 [00:00<?, ?it/s]"
      ]
     },
     "metadata": {},
     "output_type": "display_data"
    },
    {
     "data": {
      "application/vnd.jupyter.widget-view+json": {
       "model_id": "69337cd224da4894b2d24381f8239ce7",
       "version_major": 2,
       "version_minor": 0
      },
      "text/plain": [
       "[NeRF] Rendering:   0%|          | 0/2 [00:00<?, ?it/s]"
      ]
     },
     "metadata": {},
     "output_type": "display_data"
    },
    {
     "data": {
      "application/vnd.jupyter.widget-view+json": {
       "model_id": "2d9a21517570482d871e7e283d99f2ce",
       "version_major": 2,
       "version_minor": 0
      },
      "text/plain": [
       "[NeRF] Rendering:   0%|          | 0/2 [00:00<?, ?it/s]"
      ]
     },
     "metadata": {},
     "output_type": "display_data"
    },
    {
     "data": {
      "application/vnd.jupyter.widget-view+json": {
       "model_id": "ea14e5c606474da5a1ff0496ac4e350f",
       "version_major": 2,
       "version_minor": 0
      },
      "text/plain": [
       "[NeRF] Rendering:   0%|          | 0/2 [00:00<?, ?it/s]"
      ]
     },
     "metadata": {},
     "output_type": "display_data"
    },
    {
     "data": {
      "application/vnd.jupyter.widget-view+json": {
       "model_id": "8fb49589cfc64abbbab972dc11af270a",
       "version_major": 2,
       "version_minor": 0
      },
      "text/plain": [
       "[NeRF] Rendering:   0%|          | 0/2 [00:00<?, ?it/s]"
      ]
     },
     "metadata": {},
     "output_type": "display_data"
    },
    {
     "data": {
      "application/vnd.jupyter.widget-view+json": {
       "model_id": "8ca152b1712f4c65bbcedb307aef9bdf",
       "version_major": 2,
       "version_minor": 0
      },
      "text/plain": [
       "[NeRF] Rendering:   0%|          | 0/2 [00:00<?, ?it/s]"
      ]
     },
     "metadata": {},
     "output_type": "display_data"
    },
    {
     "data": {
      "application/vnd.jupyter.widget-view+json": {
       "model_id": "ecdc647b0fd749bbb337006d6f3e9514",
       "version_major": 2,
       "version_minor": 0
      },
      "text/plain": [
       "[NeRF] Rendering:   0%|          | 0/2 [00:00<?, ?it/s]"
      ]
     },
     "metadata": {},
     "output_type": "display_data"
    },
    {
     "data": {
      "application/vnd.jupyter.widget-view+json": {
       "model_id": "683dcda2e63246f49f71a716449775f8",
       "version_major": 2,
       "version_minor": 0
      },
      "text/plain": [
       "[NeRF] Rendering:   0%|          | 0/2 [00:00<?, ?it/s]"
      ]
     },
     "metadata": {},
     "output_type": "display_data"
    },
    {
     "data": {
      "application/vnd.jupyter.widget-view+json": {
       "model_id": "fb723087b8874475a115cfde98587e74",
       "version_major": 2,
       "version_minor": 0
      },
      "text/plain": [
       "[NeRF] Rendering:   0%|          | 0/2 [00:00<?, ?it/s]"
      ]
     },
     "metadata": {},
     "output_type": "display_data"
    },
    {
     "data": {
      "application/vnd.jupyter.widget-view+json": {
       "model_id": "487925f775524fc789675050125f3cad",
       "version_major": 2,
       "version_minor": 0
      },
      "text/plain": [
       "[NeRF] Rendering:   0%|          | 0/2 [00:00<?, ?it/s]"
      ]
     },
     "metadata": {},
     "output_type": "display_data"
    },
    {
     "data": {
      "application/vnd.jupyter.widget-view+json": {
       "model_id": "0016702d57354d518e58c27a91b9cd39",
       "version_major": 2,
       "version_minor": 0
      },
      "text/plain": [
       "[NeRF] Rendering:   0%|          | 0/2 [00:00<?, ?it/s]"
      ]
     },
     "metadata": {},
     "output_type": "display_data"
    },
    {
     "data": {
      "application/vnd.jupyter.widget-view+json": {
       "model_id": "6db9388266ee4d1bba5cef9b0077c069",
       "version_major": 2,
       "version_minor": 0
      },
      "text/plain": [
       "[NeRF] Rendering:   0%|          | 0/2 [00:00<?, ?it/s]"
      ]
     },
     "metadata": {},
     "output_type": "display_data"
    },
    {
     "data": {
      "application/vnd.jupyter.widget-view+json": {
       "model_id": "f9a7d79a9295478eb098c9c9ba3089bf",
       "version_major": 2,
       "version_minor": 0
      },
      "text/plain": [
       "[NeRF] Rendering:   0%|          | 0/2 [00:00<?, ?it/s]"
      ]
     },
     "metadata": {},
     "output_type": "display_data"
    },
    {
     "data": {
      "application/vnd.jupyter.widget-view+json": {
       "model_id": "64e09ec7a9af4454a2a51b929a754f75",
       "version_major": 2,
       "version_minor": 0
      },
      "text/plain": [
       "[NeRF] Rendering:   0%|          | 0/2 [00:00<?, ?it/s]"
      ]
     },
     "metadata": {},
     "output_type": "display_data"
    },
    {
     "data": {
      "application/vnd.jupyter.widget-view+json": {
       "model_id": "e264686c5001447ca184e8546e64aad0",
       "version_major": 2,
       "version_minor": 0
      },
      "text/plain": [
       "[NeRF] Rendering:   0%|          | 0/2 [00:00<?, ?it/s]"
      ]
     },
     "metadata": {},
     "output_type": "display_data"
    },
    {
     "data": {
      "application/vnd.jupyter.widget-view+json": {
       "model_id": "b256983f8cc54b929dcb696c6a1ef872",
       "version_major": 2,
       "version_minor": 0
      },
      "text/plain": [
       "[NeRF] Rendering:   0%|          | 0/2 [00:00<?, ?it/s]"
      ]
     },
     "metadata": {},
     "output_type": "display_data"
    },
    {
     "data": {
      "application/vnd.jupyter.widget-view+json": {
       "model_id": "773b9419442e4209b84c0625d07ea583",
       "version_major": 2,
       "version_minor": 0
      },
      "text/plain": [
       "[NeRF] Rendering:   0%|          | 0/2 [00:00<?, ?it/s]"
      ]
     },
     "metadata": {},
     "output_type": "display_data"
    },
    {
     "data": {
      "application/vnd.jupyter.widget-view+json": {
       "model_id": "70ce51ba521e41a0961afad4ce1eb851",
       "version_major": 2,
       "version_minor": 0
      },
      "text/plain": [
       "[NeRF] Rendering:   0%|          | 0/2 [00:00<?, ?it/s]"
      ]
     },
     "metadata": {},
     "output_type": "display_data"
    },
    {
     "data": {
      "application/vnd.jupyter.widget-view+json": {
       "model_id": "570e7616652449779b8c1107af9e5d63",
       "version_major": 2,
       "version_minor": 0
      },
      "text/plain": [
       "[NeRF] Rendering:   0%|          | 0/2 [00:00<?, ?it/s]"
      ]
     },
     "metadata": {},
     "output_type": "display_data"
    },
    {
     "data": {
      "application/vnd.jupyter.widget-view+json": {
       "model_id": "3d82c3fa51374def8d4d3f21012b2abd",
       "version_major": 2,
       "version_minor": 0
      },
      "text/plain": [
       "[NeRF] Rendering:   0%|          | 0/2 [00:00<?, ?it/s]"
      ]
     },
     "metadata": {},
     "output_type": "display_data"
    },
    {
     "data": {
      "application/vnd.jupyter.widget-view+json": {
       "model_id": "144e211c353f4c2da8ffb6274f0f7b4b",
       "version_major": 2,
       "version_minor": 0
      },
      "text/plain": [
       "[NeRF] Rendering:   0%|          | 0/2 [00:00<?, ?it/s]"
      ]
     },
     "metadata": {},
     "output_type": "display_data"
    },
    {
     "data": {
      "application/vnd.jupyter.widget-view+json": {
       "model_id": "80ba8fbb2b98443291b9165bfc8a9f60",
       "version_major": 2,
       "version_minor": 0
      },
      "text/plain": [
       "[NeRF] Rendering:   0%|          | 0/2 [00:00<?, ?it/s]"
      ]
     },
     "metadata": {},
     "output_type": "display_data"
    },
    {
     "data": {
      "application/vnd.jupyter.widget-view+json": {
       "model_id": "16d020777b9f4f4abc896f5c7bce33dc",
       "version_major": 2,
       "version_minor": 0
      },
      "text/plain": [
       "[NeRF] Rendering:   0%|          | 0/2 [00:00<?, ?it/s]"
      ]
     },
     "metadata": {},
     "output_type": "display_data"
    },
    {
     "data": {
      "application/vnd.jupyter.widget-view+json": {
       "model_id": "4f1e356556d74203bf383e041e73044b",
       "version_major": 2,
       "version_minor": 0
      },
      "text/plain": [
       "[NeRF] Rendering:   0%|          | 0/2 [00:00<?, ?it/s]"
      ]
     },
     "metadata": {},
     "output_type": "display_data"
    },
    {
     "data": {
      "application/vnd.jupyter.widget-view+json": {
       "model_id": "d69bdb23ddc84853bb813f677c1b68bb",
       "version_major": 2,
       "version_minor": 0
      },
      "text/plain": [
       "[NeRF] Rendering:   0%|          | 0/2 [00:00<?, ?it/s]"
      ]
     },
     "metadata": {},
     "output_type": "display_data"
    },
    {
     "data": {
      "application/vnd.jupyter.widget-view+json": {
       "model_id": "1bd3870d7980467dae8bbb38f23eaba7",
       "version_major": 2,
       "version_minor": 0
      },
      "text/plain": [
       "[NeRF] Rendering:   0%|          | 0/2 [00:00<?, ?it/s]"
      ]
     },
     "metadata": {},
     "output_type": "display_data"
    },
    {
     "data": {
      "application/vnd.jupyter.widget-view+json": {
       "model_id": "c5c68b90125b49198dfab6a0741443af",
       "version_major": 2,
       "version_minor": 0
      },
      "text/plain": [
       "[NeRF] Rendering:   0%|          | 0/2 [00:00<?, ?it/s]"
      ]
     },
     "metadata": {},
     "output_type": "display_data"
    },
    {
     "data": {
      "application/vnd.jupyter.widget-view+json": {
       "model_id": "8bc3aca0410745b5afdf2956c670274b",
       "version_major": 2,
       "version_minor": 0
      },
      "text/plain": [
       "[NeRF] Rendering:   0%|          | 0/2 [00:00<?, ?it/s]"
      ]
     },
     "metadata": {},
     "output_type": "display_data"
    },
    {
     "data": {
      "application/vnd.jupyter.widget-view+json": {
       "model_id": "224efb4a12d84476a9684f0ba48ae704",
       "version_major": 2,
       "version_minor": 0
      },
      "text/plain": [
       "[NeRF] Rendering:   0%|          | 0/2 [00:00<?, ?it/s]"
      ]
     },
     "metadata": {},
     "output_type": "display_data"
    },
    {
     "data": {
      "application/vnd.jupyter.widget-view+json": {
       "model_id": "5089932ec4fe4c80afd44d6a133596a4",
       "version_major": 2,
       "version_minor": 0
      },
      "text/plain": [
       "[NeRF] Rendering:   0%|          | 0/2 [00:00<?, ?it/s]"
      ]
     },
     "metadata": {},
     "output_type": "display_data"
    },
    {
     "data": {
      "application/vnd.jupyter.widget-view+json": {
       "model_id": "a1dc279a596b4b898e893e71e704aa6e",
       "version_major": 2,
       "version_minor": 0
      },
      "text/plain": [
       "[NeRF] Rendering:   0%|          | 0/2 [00:00<?, ?it/s]"
      ]
     },
     "metadata": {},
     "output_type": "display_data"
    },
    {
     "data": {
      "application/vnd.jupyter.widget-view+json": {
       "model_id": "204fcdbd7fd345e3b646986f2f4a7285",
       "version_major": 2,
       "version_minor": 0
      },
      "text/plain": [
       "[NeRF] Rendering:   0%|          | 0/2 [00:00<?, ?it/s]"
      ]
     },
     "metadata": {},
     "output_type": "display_data"
    },
    {
     "data": {
      "application/vnd.jupyter.widget-view+json": {
       "model_id": "5ba433fb8078435fa0bfd016b00c7f09",
       "version_major": 2,
       "version_minor": 0
      },
      "text/plain": [
       "[NeRF] Rendering:   0%|          | 0/2 [00:00<?, ?it/s]"
      ]
     },
     "metadata": {},
     "output_type": "display_data"
    },
    {
     "data": {
      "application/vnd.jupyter.widget-view+json": {
       "model_id": "15fe5c2d93bf4b2ebd886f5d51f620ca",
       "version_major": 2,
       "version_minor": 0
      },
      "text/plain": [
       "[NeRF] Rendering:   0%|          | 0/2 [00:00<?, ?it/s]"
      ]
     },
     "metadata": {},
     "output_type": "display_data"
    },
    {
     "data": {
      "application/vnd.jupyter.widget-view+json": {
       "model_id": "0882f284dc034e1d9b61b4875a60212b",
       "version_major": 2,
       "version_minor": 0
      },
      "text/plain": [
       "[NeRF] Rendering:   0%|          | 0/2 [00:00<?, ?it/s]"
      ]
     },
     "metadata": {},
     "output_type": "display_data"
    },
    {
     "data": {
      "application/vnd.jupyter.widget-view+json": {
       "model_id": "968633ce42214e1da12bb58565d8be5c",
       "version_major": 2,
       "version_minor": 0
      },
      "text/plain": [
       "[NeRF] Rendering:   0%|          | 0/2 [00:00<?, ?it/s]"
      ]
     },
     "metadata": {},
     "output_type": "display_data"
    },
    {
     "data": {
      "application/vnd.jupyter.widget-view+json": {
       "model_id": "b01b4f41b3ae44c686e38d0a725faac3",
       "version_major": 2,
       "version_minor": 0
      },
      "text/plain": [
       "[NeRF] Rendering:   0%|          | 0/2 [00:00<?, ?it/s]"
      ]
     },
     "metadata": {},
     "output_type": "display_data"
    },
    {
     "data": {
      "application/vnd.jupyter.widget-view+json": {
       "model_id": "652bf1f1e48b4fcb8127b0e410354074",
       "version_major": 2,
       "version_minor": 0
      },
      "text/plain": [
       "[NeRF] Rendering:   0%|          | 0/2 [00:00<?, ?it/s]"
      ]
     },
     "metadata": {},
     "output_type": "display_data"
    },
    {
     "data": {
      "application/vnd.jupyter.widget-view+json": {
       "model_id": "99620e4291b0457f8d6e25b7992e6a1f",
       "version_major": 2,
       "version_minor": 0
      },
      "text/plain": [
       "[NeRF] Rendering:   0%|          | 0/2 [00:00<?, ?it/s]"
      ]
     },
     "metadata": {},
     "output_type": "display_data"
    },
    {
     "data": {
      "application/vnd.jupyter.widget-view+json": {
       "model_id": "2fe16e11d799448aaf4e8438f80074d2",
       "version_major": 2,
       "version_minor": 0
      },
      "text/plain": [
       "[NeRF] Rendering:   0%|          | 0/2 [00:00<?, ?it/s]"
      ]
     },
     "metadata": {},
     "output_type": "display_data"
    },
    {
     "data": {
      "application/vnd.jupyter.widget-view+json": {
       "model_id": "4dea1d9090cc4c69823f7b62b1b00bbc",
       "version_major": 2,
       "version_minor": 0
      },
      "text/plain": [
       "[NeRF] Rendering:   0%|          | 0/2 [00:00<?, ?it/s]"
      ]
     },
     "metadata": {},
     "output_type": "display_data"
    },
    {
     "data": {
      "application/vnd.jupyter.widget-view+json": {
       "model_id": "6df1a5dec6614fdaa7434e32eac51e07",
       "version_major": 2,
       "version_minor": 0
      },
      "text/plain": [
       "[NeRF] Rendering:   0%|          | 0/2 [00:00<?, ?it/s]"
      ]
     },
     "metadata": {},
     "output_type": "display_data"
    },
    {
     "data": {
      "application/vnd.jupyter.widget-view+json": {
       "model_id": "bd0417187c174448a20c629b91c2e632",
       "version_major": 2,
       "version_minor": 0
      },
      "text/plain": [
       "[NeRF] Rendering:   0%|          | 0/2 [00:00<?, ?it/s]"
      ]
     },
     "metadata": {},
     "output_type": "display_data"
    },
    {
     "data": {
      "application/vnd.jupyter.widget-view+json": {
       "model_id": "6ab226623001428886eadefa9b893009",
       "version_major": 2,
       "version_minor": 0
      },
      "text/plain": [
       "[NeRF] Rendering:   0%|          | 0/2 [00:00<?, ?it/s]"
      ]
     },
     "metadata": {},
     "output_type": "display_data"
    },
    {
     "data": {
      "application/vnd.jupyter.widget-view+json": {
       "model_id": "32b9ea97571149abad5a12cec152dad8",
       "version_major": 2,
       "version_minor": 0
      },
      "text/plain": [
       "[NeRF] Rendering:   0%|          | 0/2 [00:00<?, ?it/s]"
      ]
     },
     "metadata": {},
     "output_type": "display_data"
    },
    {
     "data": {
      "application/vnd.jupyter.widget-view+json": {
       "model_id": "6a94270335d944d09d1275a4923bc639",
       "version_major": 2,
       "version_minor": 0
      },
      "text/plain": [
       "[NeRF] Rendering:   0%|          | 0/2 [00:00<?, ?it/s]"
      ]
     },
     "metadata": {},
     "output_type": "display_data"
    },
    {
     "data": {
      "application/vnd.jupyter.widget-view+json": {
       "model_id": "5b4424a658c34fd3988d26be3f92040b",
       "version_major": 2,
       "version_minor": 0
      },
      "text/plain": [
       "[NeRF] Rendering:   0%|          | 0/2 [00:00<?, ?it/s]"
      ]
     },
     "metadata": {},
     "output_type": "display_data"
    },
    {
     "data": {
      "application/vnd.jupyter.widget-view+json": {
       "model_id": "b694eaddd00c459d8fcacc874f97f4ca",
       "version_major": 2,
       "version_minor": 0
      },
      "text/plain": [
       "[NeRF] Rendering:   0%|          | 0/2 [00:00<?, ?it/s]"
      ]
     },
     "metadata": {},
     "output_type": "display_data"
    },
    {
     "data": {
      "application/vnd.jupyter.widget-view+json": {
       "model_id": "550b23977b0d4bc88ba5400eb31fcd91",
       "version_major": 2,
       "version_minor": 0
      },
      "text/plain": [
       "[NeRF] Rendering:   0%|          | 0/2 [00:00<?, ?it/s]"
      ]
     },
     "metadata": {},
     "output_type": "display_data"
    },
    {
     "data": {
      "application/vnd.jupyter.widget-view+json": {
       "model_id": "fab4eb91efbe45aeafd1d7db514b175d",
       "version_major": 2,
       "version_minor": 0
      },
      "text/plain": [
       "[NeRF] Rendering:   0%|          | 0/2 [00:00<?, ?it/s]"
      ]
     },
     "metadata": {},
     "output_type": "display_data"
    },
    {
     "data": {
      "application/vnd.jupyter.widget-view+json": {
       "model_id": "4ff689573a764c54a6b7b3eba9e4f931",
       "version_major": 2,
       "version_minor": 0
      },
      "text/plain": [
       "[NeRF] Rendering:   0%|          | 0/2 [00:00<?, ?it/s]"
      ]
     },
     "metadata": {},
     "output_type": "display_data"
    },
    {
     "data": {
      "application/vnd.jupyter.widget-view+json": {
       "model_id": "05dd6b54e06c47cd9d82f77bda43fca1",
       "version_major": 2,
       "version_minor": 0
      },
      "text/plain": [
       "[NeRF] Rendering:   0%|          | 0/2 [00:00<?, ?it/s]"
      ]
     },
     "metadata": {},
     "output_type": "display_data"
    },
    {
     "data": {
      "application/vnd.jupyter.widget-view+json": {
       "model_id": "34511c1d91e6477ea7c47dc563aa8727",
       "version_major": 2,
       "version_minor": 0
      },
      "text/plain": [
       "[NeRF] Rendering:   0%|          | 0/2 [00:00<?, ?it/s]"
      ]
     },
     "metadata": {},
     "output_type": "display_data"
    },
    {
     "data": {
      "application/vnd.jupyter.widget-view+json": {
       "model_id": "607f073da38c4f6b958f130735e053d3",
       "version_major": 2,
       "version_minor": 0
      },
      "text/plain": [
       "[NeRF] Rendering:   0%|          | 0/2 [00:00<?, ?it/s]"
      ]
     },
     "metadata": {},
     "output_type": "display_data"
    },
    {
     "data": {
      "application/vnd.jupyter.widget-view+json": {
       "model_id": "fc20f419702e454ea98dc828b860d366",
       "version_major": 2,
       "version_minor": 0
      },
      "text/plain": [
       "[NeRF] Rendering:   0%|          | 0/2 [00:00<?, ?it/s]"
      ]
     },
     "metadata": {},
     "output_type": "display_data"
    },
    {
     "data": {
      "application/vnd.jupyter.widget-view+json": {
       "model_id": "5aef87fe348f4ef382845ea2f794ed26",
       "version_major": 2,
       "version_minor": 0
      },
      "text/plain": [
       "[NeRF] Rendering:   0%|          | 0/2 [00:00<?, ?it/s]"
      ]
     },
     "metadata": {},
     "output_type": "display_data"
    },
    {
     "data": {
      "application/vnd.jupyter.widget-view+json": {
       "model_id": "253b2213141b452189a1a16f9dc17061",
       "version_major": 2,
       "version_minor": 0
      },
      "text/plain": [
       "[NeRF] Rendering:   0%|          | 0/2 [00:00<?, ?it/s]"
      ]
     },
     "metadata": {},
     "output_type": "display_data"
    },
    {
     "data": {
      "application/vnd.jupyter.widget-view+json": {
       "model_id": "ca01e0ee8de5444895dbd1a7986237a8",
       "version_major": 2,
       "version_minor": 0
      },
      "text/plain": [
       "[NeRF] Rendering:   0%|          | 0/2 [00:00<?, ?it/s]"
      ]
     },
     "metadata": {},
     "output_type": "display_data"
    },
    {
     "name": "stdout",
     "output_type": "stream",
     "text": [
      "[Setup] Rendering Done \n",
      "MoviePy - Building file ./res/NeRF_hotdog_pred.gif with imageio.\n"
     ]
    },
    {
     "name": "stderr",
     "output_type": "stream",
     "text": [
      "                                                                                                                                                                                                                     \r"
     ]
    }
   ],
   "source": [
    "inferer = Inferer(InferConfig(), verbose=True)\n",
    "inferer.display()"
   ]
  }
 ],
 "metadata": {
  "interpreter": {
   "hash": "31f2aee4e71d21fbe5cf8b01ff0e069b9275f58929596ceb00d14d90e3e16cd6"
  },
  "kernelspec": {
   "display_name": "Python 3 (ipykernel)",
   "language": "python",
   "name": "python3"
  },
  "language_info": {
   "codemirror_mode": {
    "name": "ipython",
    "version": 3
   },
   "file_extension": ".py",
   "mimetype": "text/x-python",
   "name": "python",
   "nbconvert_exporter": "python",
   "pygments_lexer": "ipython3",
   "version": "3.8.10"
  }
 },
 "nbformat": 4,
 "nbformat_minor": 2
}
